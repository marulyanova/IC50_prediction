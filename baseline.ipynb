{
  "cells": [
    {
      "cell_type": "code",
      "execution_count": 1,
      "metadata": {
        "colab": {
          "base_uri": "https://localhost:8080/"
        },
        "id": "rvcP-Q5teMPH",
        "outputId": "0b73e4c6-2367-414a-9871-9c0b4f0cdffc"
      },
      "outputs": [
        {
          "name": "stdout",
          "output_type": "stream",
          "text": [
            "Defaulting to user installation because normal site-packages is not writeable\n",
            "Collecting rdkit\n",
            "  Downloading rdkit-2023.9.6-cp39-cp39-macosx_11_0_arm64.whl.metadata (3.9 kB)\n",
            "Requirement already satisfied: numpy in /Users/marulyanova/Library/Python/3.9/lib/python/site-packages (from rdkit) (1.23.1)\n",
            "Requirement already satisfied: Pillow in /Users/marulyanova/Library/Python/3.9/lib/python/site-packages (from rdkit) (10.2.0)\n",
            "Downloading rdkit-2023.9.6-cp39-cp39-macosx_11_0_arm64.whl (27.6 MB)\n",
            "\u001b[2K   \u001b[90m━━━━━━━━━━━━━━━━━━━━━━━━━━━━━━━━━━━━━━━━\u001b[0m \u001b[32m27.6/27.6 MB\u001b[0m \u001b[31m6.6 MB/s\u001b[0m eta \u001b[36m0:00:00\u001b[0m00:01\u001b[0m00:01\u001b[0m\n",
            "\u001b[?25hInstalling collected packages: rdkit\n",
            "Successfully installed rdkit-2023.9.6\n"
          ]
        }
      ],
      "source": [
        "!pip install rdkit"
      ]
    },
    {
      "cell_type": "code",
      "execution_count": 72,
      "metadata": {
        "id": "yBu1CbXdd38n"
      },
      "outputs": [],
      "source": [
        "import pandas as pd\n",
        "import numpy as np\n",
        "from rdkit import Chem\n",
        "from rdkit import DataStructs\n",
        "from rdkit.Chem import AllChem, Draw, Descriptors\n",
        "from rdkit.Chem.Draw import IPythonConsole\n",
        "from sklearn.preprocessing import FunctionTransformer"
      ]
    },
    {
      "cell_type": "markdown",
      "metadata": {},
      "source": [
        "### Идея: там, где значения повторяются, посчитать среднее отклонение std и расширить датасет путём создания из каждой строчки еще две строки: target, target + std, target - std"
      ]
    },
    {
      "cell_type": "code",
      "execution_count": 73,
      "metadata": {},
      "outputs": [
        {
          "data": {
            "text/html": [
              "<div>\n",
              "<style scoped>\n",
              "    .dataframe tbody tr th:only-of-type {\n",
              "        vertical-align: middle;\n",
              "    }\n",
              "\n",
              "    .dataframe tbody tr th {\n",
              "        vertical-align: top;\n",
              "    }\n",
              "\n",
              "    .dataframe thead th {\n",
              "        text-align: right;\n",
              "    }\n",
              "</style>\n",
              "<table border=\"1\" class=\"dataframe\">\n",
              "  <thead>\n",
              "    <tr style=\"text-align: right;\">\n",
              "      <th></th>\n",
              "      <th>IC50</th>\n",
              "      <th>SMILES</th>\n",
              "    </tr>\n",
              "  </thead>\n",
              "  <tbody>\n",
              "    <tr>\n",
              "      <th>0</th>\n",
              "      <td>0.000015</td>\n",
              "      <td>[H]\\N=C(N)\\N[C@@H](C1)[C@@H](NC(=O)C)[C@@H](C=...</td>\n",
              "    </tr>\n",
              "    <tr>\n",
              "      <th>1</th>\n",
              "      <td>0.000016</td>\n",
              "      <td>O=C(O)C1=C[C@H](N)[C@@H](NC(=O)C)[C@@H](C1)COC...</td>\n",
              "    </tr>\n",
              "    <tr>\n",
              "      <th>2</th>\n",
              "      <td>0.000033</td>\n",
              "      <td>C=CC(=O)N[C@H]([C@H](C1)N)[C@@H](C=C1C([O-])=O...</td>\n",
              "    </tr>\n",
              "    <tr>\n",
              "      <th>3</th>\n",
              "      <td>0.000032</td>\n",
              "      <td>CC(=O)N[C@H]([C@H](C1)N)[C@@H](C=C1C([O-])=O)O...</td>\n",
              "    </tr>\n",
              "    <tr>\n",
              "      <th>4</th>\n",
              "      <td>0.000041</td>\n",
              "      <td>O=C(O)c1c(O)c(=O)cc([nH]1)-c(c2C)ccc(c2)-c3noc...</td>\n",
              "    </tr>\n",
              "    <tr>\n",
              "      <th>...</th>\n",
              "      <td>...</td>\n",
              "      <td>...</td>\n",
              "    </tr>\n",
              "    <tr>\n",
              "      <th>36372</th>\n",
              "      <td>2366.790000</td>\n",
              "      <td>CC(=O)N[C@H]1CC[C@@H]([C@@H]12)[C@@H](O[Si](C)...</td>\n",
              "    </tr>\n",
              "    <tr>\n",
              "      <th>36373</th>\n",
              "      <td>2372.100000</td>\n",
              "      <td>CC(=O)Nc(cc1)c(OC(=O)C)cc1C(=O)O</td>\n",
              "    </tr>\n",
              "    <tr>\n",
              "      <th>36374</th>\n",
              "      <td>2600.970000</td>\n",
              "      <td>c1cccc(c12)cccc2CNC(=O)CCCCCCO[C@]3(C(=O)O)C[C...</td>\n",
              "    </tr>\n",
              "    <tr>\n",
              "      <th>36375</th>\n",
              "      <td>2793.000000</td>\n",
              "      <td>NCCCC(=O)Nc(c(cc1)NC(=O)C)cc1C(=O)O</td>\n",
              "    </tr>\n",
              "    <tr>\n",
              "      <th>36376</th>\n",
              "      <td>3183.600000</td>\n",
              "      <td>CC(=O)N[C@H]1CS(=O)(=O)[C@@H]([C@@H]12)[C@@H](...</td>\n",
              "    </tr>\n",
              "  </tbody>\n",
              "</table>\n",
              "<p>36353 rows × 2 columns</p>\n",
              "</div>"
            ],
            "text/plain": [
              "              IC50                                             SMILES\n",
              "0         0.000015  [H]\\N=C(N)\\N[C@@H](C1)[C@@H](NC(=O)C)[C@@H](C=...\n",
              "1         0.000016  O=C(O)C1=C[C@H](N)[C@@H](NC(=O)C)[C@@H](C1)COC...\n",
              "2         0.000033  C=CC(=O)N[C@H]([C@H](C1)N)[C@@H](C=C1C([O-])=O...\n",
              "3         0.000032  CC(=O)N[C@H]([C@H](C1)N)[C@@H](C=C1C([O-])=O)O...\n",
              "4         0.000041  O=C(O)c1c(O)c(=O)cc([nH]1)-c(c2C)ccc(c2)-c3noc...\n",
              "...            ...                                                ...\n",
              "36372  2366.790000  CC(=O)N[C@H]1CC[C@@H]([C@@H]12)[C@@H](O[Si](C)...\n",
              "36373  2372.100000                   CC(=O)Nc(cc1)c(OC(=O)C)cc1C(=O)O\n",
              "36374  2600.970000  c1cccc(c12)cccc2CNC(=O)CCCCCCO[C@]3(C(=O)O)C[C...\n",
              "36375  2793.000000                NCCCC(=O)Nc(c(cc1)NC(=O)C)cc1C(=O)O\n",
              "36376  3183.600000  CC(=O)N[C@H]1CS(=O)(=O)[C@@H]([C@@H]12)[C@@H](...\n",
              "\n",
              "[36353 rows x 2 columns]"
            ]
          },
          "execution_count": 73,
          "metadata": {},
          "output_type": "execute_result"
        }
      ],
      "source": [
        "df = pd.read_excel('/Users/maria/Documents/ML6sem/Project Хим Задача/19_35000.xlsx').drop(['Unnamed: 0', 'Title'], axis = 1)\n",
        "df = df.drop_duplicates()\n",
        "df"
      ]
    },
    {
      "cell_type": "markdown",
      "metadata": {},
      "source": [
        "# Распределение таргета, убираем выбросы"
      ]
    },
    {
      "cell_type": "code",
      "execution_count": 74,
      "metadata": {},
      "outputs": [
        {
          "data": {
            "text/plain": [
              "{'whiskers': [<matplotlib.lines.Line2D at 0x560a5f050>,\n",
              "  <matplotlib.lines.Line2D at 0x560a3ea90>],\n",
              " 'caps': [<matplotlib.lines.Line2D at 0x560a3f8d0>,\n",
              "  <matplotlib.lines.Line2D at 0x560a3f750>],\n",
              " 'boxes': [<matplotlib.lines.Line2D at 0x560a56c10>],\n",
              " 'medians': [<matplotlib.lines.Line2D at 0x560a3fad0>],\n",
              " 'fliers': [<matplotlib.lines.Line2D at 0x560a3ec50>],\n",
              " 'means': []}"
            ]
          },
          "execution_count": 74,
          "metadata": {},
          "output_type": "execute_result"
        },
        {
          "data": {
            "image/png": "[encoded data removed]",
            "text/plain": [
              "<Figure size 640x480 with 1 Axes>"
            ]
          },
          "metadata": {},
          "output_type": "display_data"
        }
      ],
      "source": [
        "import matplotlib.pyplot as plt\n",
        "\n",
        "plt.boxplot(df['IC50'])"
      ]
    },
    {
      "cell_type": "code",
      "execution_count": 75,
      "metadata": {},
      "outputs": [
        {
          "data": {
            "text/plain": [
              "12.288499999999999"
            ]
          },
          "execution_count": 75,
          "metadata": {},
          "output_type": "execute_result"
        }
      ],
      "source": [
        "bolshaya_granitsa_yashik_s_ysami = df['IC50'].quantile(0.75) + (df['IC50'].quantile(0.75) - df['IC50'].quantile(0.25)) * 1.5\n",
        "bolshaya_granitsa_yashik_s_ysami"
      ]
    },
    {
      "cell_type": "code",
      "execution_count": 76,
      "metadata": {},
      "outputs": [
        {
          "data": {
            "text/html": [
              "<div>\n",
              "<style scoped>\n",
              "    .dataframe tbody tr th:only-of-type {\n",
              "        vertical-align: middle;\n",
              "    }\n",
              "\n",
              "    .dataframe tbody tr th {\n",
              "        vertical-align: top;\n",
              "    }\n",
              "\n",
              "    .dataframe thead th {\n",
              "        text-align: right;\n",
              "    }\n",
              "</style>\n",
              "<table border=\"1\" class=\"dataframe\">\n",
              "  <thead>\n",
              "    <tr style=\"text-align: right;\">\n",
              "      <th></th>\n",
              "      <th>IC50</th>\n",
              "      <th>SMILES</th>\n",
              "    </tr>\n",
              "  </thead>\n",
              "  <tbody>\n",
              "    <tr>\n",
              "      <th>0</th>\n",
              "      <td>0.000015</td>\n",
              "      <td>[H]\\N=C(N)\\N[C@@H](C1)[C@@H](NC(=O)C)[C@@H](C=...</td>\n",
              "    </tr>\n",
              "    <tr>\n",
              "      <th>1</th>\n",
              "      <td>0.000016</td>\n",
              "      <td>O=C(O)C1=C[C@H](N)[C@@H](NC(=O)C)[C@@H](C1)COC...</td>\n",
              "    </tr>\n",
              "    <tr>\n",
              "      <th>2</th>\n",
              "      <td>0.000033</td>\n",
              "      <td>C=CC(=O)N[C@H]([C@H](C1)N)[C@@H](C=C1C([O-])=O...</td>\n",
              "    </tr>\n",
              "    <tr>\n",
              "      <th>3</th>\n",
              "      <td>0.000032</td>\n",
              "      <td>CC(=O)N[C@H]([C@H](C1)N)[C@@H](C=C1C([O-])=O)O...</td>\n",
              "    </tr>\n",
              "    <tr>\n",
              "      <th>4</th>\n",
              "      <td>0.000041</td>\n",
              "      <td>O=C(O)c1c(O)c(=O)cc([nH]1)-c(c2C)ccc(c2)-c3noc...</td>\n",
              "    </tr>\n",
              "    <tr>\n",
              "      <th>...</th>\n",
              "      <td>...</td>\n",
              "      <td>...</td>\n",
              "    </tr>\n",
              "    <tr>\n",
              "      <th>34742</th>\n",
              "      <td>12.221000</td>\n",
              "      <td>c1cc(Cl)c(Cl)cc1C(=O)N(CCC2=O)CCN2[C@@H](Cc3cc...</td>\n",
              "    </tr>\n",
              "    <tr>\n",
              "      <th>34743</th>\n",
              "      <td>12.242000</td>\n",
              "      <td>c1cc(O)c(O)cc1\\C=C\\C(=O)N[C@H](C(=O)O)Cc2ccccc2</td>\n",
              "    </tr>\n",
              "    <tr>\n",
              "      <th>34744</th>\n",
              "      <td>12.261000</td>\n",
              "      <td>O=c1c(O)coc(C)c1C(=O)Nc2ccccc2</td>\n",
              "    </tr>\n",
              "    <tr>\n",
              "      <th>34745</th>\n",
              "      <td>12.283000</td>\n",
              "      <td>c1cccc2[nH]c(c3c12)[C@@H](c4ccccc4)N5[C@@H](C3...</td>\n",
              "    </tr>\n",
              "    <tr>\n",
              "      <th>34746</th>\n",
              "      <td>12.284000</td>\n",
              "      <td>S=C(S1)NC(=O)/C1=C/C=C(/C2(C)C)N(C)c(c23)cccc3</td>\n",
              "    </tr>\n",
              "  </tbody>\n",
              "</table>\n",
              "<p>34735 rows × 2 columns</p>\n",
              "</div>"
            ],
            "text/plain": [
              "            IC50                                             SMILES\n",
              "0       0.000015  [H]\\N=C(N)\\N[C@@H](C1)[C@@H](NC(=O)C)[C@@H](C=...\n",
              "1       0.000016  O=C(O)C1=C[C@H](N)[C@@H](NC(=O)C)[C@@H](C1)COC...\n",
              "2       0.000033  C=CC(=O)N[C@H]([C@H](C1)N)[C@@H](C=C1C([O-])=O...\n",
              "3       0.000032  CC(=O)N[C@H]([C@H](C1)N)[C@@H](C=C1C([O-])=O)O...\n",
              "4       0.000041  O=C(O)c1c(O)c(=O)cc([nH]1)-c(c2C)ccc(c2)-c3noc...\n",
              "...          ...                                                ...\n",
              "34742  12.221000  c1cc(Cl)c(Cl)cc1C(=O)N(CCC2=O)CCN2[C@@H](Cc3cc...\n",
              "34743  12.242000    c1cc(O)c(O)cc1\\C=C\\C(=O)N[C@H](C(=O)O)Cc2ccccc2\n",
              "34744  12.261000                     O=c1c(O)coc(C)c1C(=O)Nc2ccccc2\n",
              "34745  12.283000  c1cccc2[nH]c(c3c12)[C@@H](c4ccccc4)N5[C@@H](C3...\n",
              "34746  12.284000     S=C(S1)NC(=O)/C1=C/C=C(/C2(C)C)N(C)c(c23)cccc3\n",
              "\n",
              "[34735 rows x 2 columns]"
            ]
          },
          "execution_count": 76,
          "metadata": {},
          "output_type": "execute_result"
        }
      ],
      "source": [
        "df = df[df['IC50'] < bolshaya_granitsa_yashik_s_ysami]\n",
        "df"
      ]
    },
    {
      "cell_type": "markdown",
      "metadata": {},
      "source": [
        "## Стандартное отклонение у таргета, который остался после удаления выбросов"
      ]
    },
    {
      "cell_type": "code",
      "execution_count": 77,
      "metadata": {},
      "outputs": [
        {
          "data": {
            "text/plain": [
              "2.9981534510922447"
            ]
          },
          "execution_count": 77,
          "metadata": {},
          "output_type": "execute_result"
        }
      ],
      "source": [
        "t = df.groupby('SMILES', as_index = False).count().sort_values(by = 'IC50', ascending = False)\n",
        "tt = df.merge(t, on = 'SMILES')\n",
        "tt[tt['IC50_y'] > 1]['IC50_x'].std()"
      ]
    },
    {
      "cell_type": "markdown",
      "metadata": {},
      "source": [
        "### Оставляем только те строки, где нет повторений или std отклонений не больше 20"
      ]
    },
    {
      "cell_type": "code",
      "execution_count": 78,
      "metadata": {
        "colab": {
          "base_uri": "https://localhost:8080/",
          "height": 310
        },
        "id": "yORSLvYlc6vH",
        "outputId": "30558329-3117-4b11-d0d7-6d059e9eab4d"
      },
      "outputs": [
        {
          "data": {
            "text/html": [
              "<div>\n",
              "<style scoped>\n",
              "    .dataframe tbody tr th:only-of-type {\n",
              "        vertical-align: middle;\n",
              "    }\n",
              "\n",
              "    .dataframe tbody tr th {\n",
              "        vertical-align: top;\n",
              "    }\n",
              "\n",
              "    .dataframe thead th {\n",
              "        text-align: right;\n",
              "    }\n",
              "</style>\n",
              "<table border=\"1\" class=\"dataframe\">\n",
              "  <thead>\n",
              "    <tr style=\"text-align: right;\">\n",
              "      <th></th>\n",
              "      <th>IC50</th>\n",
              "      <th>SMILES</th>\n",
              "    </tr>\n",
              "  </thead>\n",
              "  <tbody>\n",
              "    <tr>\n",
              "      <th>0</th>\n",
              "      <td>0.000015</td>\n",
              "      <td>[H]\\N=C(N)\\N[C@@H](C1)[C@@H](NC(=O)C)[C@@H](C=...</td>\n",
              "    </tr>\n",
              "    <tr>\n",
              "      <th>1</th>\n",
              "      <td>0.000016</td>\n",
              "      <td>O=C(O)C1=C[C@H](N)[C@@H](NC(=O)C)[C@@H](C1)COC...</td>\n",
              "    </tr>\n",
              "    <tr>\n",
              "      <th>2</th>\n",
              "      <td>0.000033</td>\n",
              "      <td>C=CC(=O)N[C@H]([C@H](C1)N)[C@@H](C=C1C([O-])=O...</td>\n",
              "    </tr>\n",
              "    <tr>\n",
              "      <th>3</th>\n",
              "      <td>0.000032</td>\n",
              "      <td>CC(=O)N[C@H]([C@H](C1)N)[C@@H](C=C1C([O-])=O)O...</td>\n",
              "    </tr>\n",
              "    <tr>\n",
              "      <th>4</th>\n",
              "      <td>0.000041</td>\n",
              "      <td>O=C(O)c1c(O)c(=O)cc([nH]1)-c(c2C)ccc(c2)-c3noc...</td>\n",
              "    </tr>\n",
              "    <tr>\n",
              "      <th>...</th>\n",
              "      <td>...</td>\n",
              "      <td>...</td>\n",
              "    </tr>\n",
              "    <tr>\n",
              "      <th>34</th>\n",
              "      <td>2.450000</td>\n",
              "      <td>CC(C)c(cc1)cc(c1[C@@]23C)CC[C@@H]2[C@](C)(CN)CCC3</td>\n",
              "    </tr>\n",
              "    <tr>\n",
              "      <th>35</th>\n",
              "      <td>0.740500</td>\n",
              "      <td>OCCNCCNc1ccc(NCCNCCO)c(c12)C(=O)c3c(C2=O)c(O)c...</td>\n",
              "    </tr>\n",
              "    <tr>\n",
              "      <th>36</th>\n",
              "      <td>0.003695</td>\n",
              "      <td>CCN(CC)C(=O)[C@@H](NC(=O)C)[C@H]([C@H](C1)N=C(...</td>\n",
              "    </tr>\n",
              "    <tr>\n",
              "      <th>37</th>\n",
              "      <td>6.156000</td>\n",
              "      <td>Cc1ccc(cc1)S(=O)(=O)N[C@@H](c2ccccc2)C(=O)Oc(c...</td>\n",
              "    </tr>\n",
              "    <tr>\n",
              "      <th>38</th>\n",
              "      <td>0.050014</td>\n",
              "      <td>CC(=O)N[C@H]([C@H](C1)N)[C@@H](C=C1C(=O)O)OC(C...</td>\n",
              "    </tr>\n",
              "  </tbody>\n",
              "</table>\n",
              "<p>34692 rows × 2 columns</p>\n",
              "</div>"
            ],
            "text/plain": [
              "        IC50                                             SMILES\n",
              "0   0.000015  [H]\\N=C(N)\\N[C@@H](C1)[C@@H](NC(=O)C)[C@@H](C=...\n",
              "1   0.000016  O=C(O)C1=C[C@H](N)[C@@H](NC(=O)C)[C@@H](C1)COC...\n",
              "2   0.000033  C=CC(=O)N[C@H]([C@H](C1)N)[C@@H](C=C1C([O-])=O...\n",
              "3   0.000032  CC(=O)N[C@H]([C@H](C1)N)[C@@H](C=C1C([O-])=O)O...\n",
              "4   0.000041  O=C(O)c1c(O)c(=O)cc([nH]1)-c(c2C)ccc(c2)-c3noc...\n",
              "..       ...                                                ...\n",
              "34  2.450000  CC(C)c(cc1)cc(c1[C@@]23C)CC[C@@H]2[C@](C)(CN)CCC3\n",
              "35  0.740500  OCCNCCNc1ccc(NCCNCCO)c(c12)C(=O)c3c(C2=O)c(O)c...\n",
              "36  0.003695  CCN(CC)C(=O)[C@@H](NC(=O)C)[C@H]([C@H](C1)N=C(...\n",
              "37  6.156000  Cc1ccc(cc1)S(=O)(=O)N[C@@H](c2ccccc2)C(=O)Oc(c...\n",
              "38  0.050014  CC(=O)N[C@H]([C@H](C1)N)[C@@H](C=C1C(=O)O)OC(C...\n",
              "\n",
              "[34692 rows x 2 columns]"
            ]
          },
          "execution_count": 78,
          "metadata": {},
          "output_type": "execute_result"
        }
      ],
      "source": [
        "t = df.groupby('SMILES', as_index = False).count().sort_values(by = 'IC50', ascending = False) \n",
        "ic50, smiles = [], []\n",
        "for i in t[t['IC50'] > 1]['SMILES']:\n",
        "    if round(df[df['SMILES'] == i]['IC50'].std(), 3) < 20:\n",
        "        smiles += [i]\n",
        "        ic50 += [df[df['SMILES'] == i]['IC50'].median()]\n",
        "\n",
        "df = df.merge(t[t['IC50'] == 1]['SMILES'], on = 'SMILES')\n",
        "df = pd.concat((df, pd.DataFrame({'IC50': ic50, 'SMILES': smiles})))\n",
        "df"
      ]
    },
    {
      "cell_type": "code",
      "execution_count": 79,
      "metadata": {},
      "outputs": [],
      "source": [
        "df.to_excel('without_dublicates.xlsx', index = False) # На всякий случай сохраняем изменения и сразу же подгружаем их"
      ]
    },
    {
      "cell_type": "code",
      "execution_count": 80,
      "metadata": {},
      "outputs": [
        {
          "data": {
            "text/html": [
              "<div>\n",
              "<style scoped>\n",
              "    .dataframe tbody tr th:only-of-type {\n",
              "        vertical-align: middle;\n",
              "    }\n",
              "\n",
              "    .dataframe tbody tr th {\n",
              "        vertical-align: top;\n",
              "    }\n",
              "\n",
              "    .dataframe thead th {\n",
              "        text-align: right;\n",
              "    }\n",
              "</style>\n",
              "<table border=\"1\" class=\"dataframe\">\n",
              "  <thead>\n",
              "    <tr style=\"text-align: right;\">\n",
              "      <th></th>\n",
              "      <th>IC50</th>\n",
              "      <th>SMILES</th>\n",
              "    </tr>\n",
              "  </thead>\n",
              "  <tbody>\n",
              "    <tr>\n",
              "      <th>0</th>\n",
              "      <td>0.000015</td>\n",
              "      <td>[H]\\N=C(N)\\N[C@@H](C1)[C@@H](NC(=O)C)[C@@H](C=...</td>\n",
              "    </tr>\n",
              "    <tr>\n",
              "      <th>1</th>\n",
              "      <td>0.000016</td>\n",
              "      <td>O=C(O)C1=C[C@H](N)[C@@H](NC(=O)C)[C@@H](C1)COC...</td>\n",
              "    </tr>\n",
              "    <tr>\n",
              "      <th>2</th>\n",
              "      <td>0.000033</td>\n",
              "      <td>C=CC(=O)N[C@H]([C@H](C1)N)[C@@H](C=C1C([O-])=O...</td>\n",
              "    </tr>\n",
              "    <tr>\n",
              "      <th>3</th>\n",
              "      <td>0.000032</td>\n",
              "      <td>CC(=O)N[C@H]([C@H](C1)N)[C@@H](C=C1C([O-])=O)O...</td>\n",
              "    </tr>\n",
              "    <tr>\n",
              "      <th>4</th>\n",
              "      <td>0.000041</td>\n",
              "      <td>O=C(O)c1c(O)c(=O)cc([nH]1)-c(c2C)ccc(c2)-c3noc...</td>\n",
              "    </tr>\n",
              "    <tr>\n",
              "      <th>...</th>\n",
              "      <td>...</td>\n",
              "      <td>...</td>\n",
              "    </tr>\n",
              "    <tr>\n",
              "      <th>34687</th>\n",
              "      <td>2.450000</td>\n",
              "      <td>CC(C)c(cc1)cc(c1[C@@]23C)CC[C@@H]2[C@](C)(CN)CCC3</td>\n",
              "    </tr>\n",
              "    <tr>\n",
              "      <th>34688</th>\n",
              "      <td>0.740500</td>\n",
              "      <td>OCCNCCNc1ccc(NCCNCCO)c(c12)C(=O)c3c(C2=O)c(O)c...</td>\n",
              "    </tr>\n",
              "    <tr>\n",
              "      <th>34689</th>\n",
              "      <td>0.003695</td>\n",
              "      <td>CCN(CC)C(=O)[C@@H](NC(=O)C)[C@H]([C@H](C1)N=C(...</td>\n",
              "    </tr>\n",
              "    <tr>\n",
              "      <th>34690</th>\n",
              "      <td>6.156000</td>\n",
              "      <td>Cc1ccc(cc1)S(=O)(=O)N[C@@H](c2ccccc2)C(=O)Oc(c...</td>\n",
              "    </tr>\n",
              "    <tr>\n",
              "      <th>34691</th>\n",
              "      <td>0.050014</td>\n",
              "      <td>CC(=O)N[C@H]([C@H](C1)N)[C@@H](C=C1C(=O)O)OC(C...</td>\n",
              "    </tr>\n",
              "  </tbody>\n",
              "</table>\n",
              "<p>34692 rows × 2 columns</p>\n",
              "</div>"
            ],
            "text/plain": [
              "           IC50                                             SMILES\n",
              "0      0.000015  [H]\\N=C(N)\\N[C@@H](C1)[C@@H](NC(=O)C)[C@@H](C=...\n",
              "1      0.000016  O=C(O)C1=C[C@H](N)[C@@H](NC(=O)C)[C@@H](C1)COC...\n",
              "2      0.000033  C=CC(=O)N[C@H]([C@H](C1)N)[C@@H](C=C1C([O-])=O...\n",
              "3      0.000032  CC(=O)N[C@H]([C@H](C1)N)[C@@H](C=C1C([O-])=O)O...\n",
              "4      0.000041  O=C(O)c1c(O)c(=O)cc([nH]1)-c(c2C)ccc(c2)-c3noc...\n",
              "...         ...                                                ...\n",
              "34687  2.450000  CC(C)c(cc1)cc(c1[C@@]23C)CC[C@@H]2[C@](C)(CN)CCC3\n",
              "34688  0.740500  OCCNCCNc1ccc(NCCNCCO)c(c12)C(=O)c3c(C2=O)c(O)c...\n",
              "34689  0.003695  CCN(CC)C(=O)[C@@H](NC(=O)C)[C@H]([C@H](C1)N=C(...\n",
              "34690  6.156000  Cc1ccc(cc1)S(=O)(=O)N[C@@H](c2ccccc2)C(=O)Oc(c...\n",
              "34691  0.050014  CC(=O)N[C@H]([C@H](C1)N)[C@@H](C=C1C(=O)O)OC(C...\n",
              "\n",
              "[34692 rows x 2 columns]"
            ]
          },
          "execution_count": 80,
          "metadata": {},
          "output_type": "execute_result"
        }
      ],
      "source": [
        "df = pd.read_excel('without_dublicates.xlsx')\n",
        "df"
      ]
    },
    {
      "cell_type": "markdown",
      "metadata": {},
      "source": [
        "## Расширяем датасет"
      ]
    },
    {
      "cell_type": "code",
      "execution_count": 15,
      "metadata": {},
      "outputs": [
        {
          "data": {
            "text/html": [
              "<div>\n",
              "<style scoped>\n",
              "    .dataframe tbody tr th:only-of-type {\n",
              "        vertical-align: middle;\n",
              "    }\n",
              "\n",
              "    .dataframe tbody tr th {\n",
              "        vertical-align: top;\n",
              "    }\n",
              "\n",
              "    .dataframe thead th {\n",
              "        text-align: right;\n",
              "    }\n",
              "</style>\n",
              "<table border=\"1\" class=\"dataframe\">\n",
              "  <thead>\n",
              "    <tr style=\"text-align: right;\">\n",
              "      <th></th>\n",
              "      <th>IC50</th>\n",
              "      <th>SMILES</th>\n",
              "    </tr>\n",
              "  </thead>\n",
              "  <tbody>\n",
              "    <tr>\n",
              "      <th>0</th>\n",
              "      <td>0.000015</td>\n",
              "      <td>[H]\\N=C(N)\\N[C@@H](C1)[C@@H](NC(=O)C)[C@@H](C=...</td>\n",
              "    </tr>\n",
              "    <tr>\n",
              "      <th>1</th>\n",
              "      <td>0.000016</td>\n",
              "      <td>O=C(O)C1=C[C@H](N)[C@@H](NC(=O)C)[C@@H](C1)COC...</td>\n",
              "    </tr>\n",
              "    <tr>\n",
              "      <th>2</th>\n",
              "      <td>0.000033</td>\n",
              "      <td>C=CC(=O)N[C@H]([C@H](C1)N)[C@@H](C=C1C([O-])=O...</td>\n",
              "    </tr>\n",
              "    <tr>\n",
              "      <th>3</th>\n",
              "      <td>0.000032</td>\n",
              "      <td>CC(=O)N[C@H]([C@H](C1)N)[C@@H](C=C1C([O-])=O)O...</td>\n",
              "    </tr>\n",
              "    <tr>\n",
              "      <th>4</th>\n",
              "      <td>0.000041</td>\n",
              "      <td>O=C(O)c1c(O)c(=O)cc([nH]1)-c(c2C)ccc(c2)-c3noc...</td>\n",
              "    </tr>\n",
              "    <tr>\n",
              "      <th>...</th>\n",
              "      <td>...</td>\n",
              "      <td>...</td>\n",
              "    </tr>\n",
              "    <tr>\n",
              "      <th>34668</th>\n",
              "      <td>1.900000</td>\n",
              "      <td>CC1(C)[C@@H](CC2)CC(\\[C@]12C)=N/CCCCCCC\\N=C(\\[...</td>\n",
              "    </tr>\n",
              "    <tr>\n",
              "      <th>34669</th>\n",
              "      <td>0.400000</td>\n",
              "      <td>C[C@]12C(C)(C)[C@@H](CC2)C[C@H]1OC(=O)CCN3CCOCC3</td>\n",
              "    </tr>\n",
              "    <tr>\n",
              "      <th>34680</th>\n",
              "      <td>5.600000</td>\n",
              "      <td>s1c(Br)ccc1[C@@H](C[C@@]2(C)O)O[C@@H]([C@H]23)...</td>\n",
              "    </tr>\n",
              "    <tr>\n",
              "      <th>34685</th>\n",
              "      <td>1.100000</td>\n",
              "      <td>CC1(C)[C@H](CC2)CC(\\[C@@]12C)=N/CCCCCC\\N=C(\\[C...</td>\n",
              "    </tr>\n",
              "    <tr>\n",
              "      <th>34690</th>\n",
              "      <td>3.156000</td>\n",
              "      <td>Cc1ccc(cc1)S(=O)(=O)N[C@@H](c2ccccc2)C(=O)Oc(c...</td>\n",
              "    </tr>\n",
              "  </tbody>\n",
              "</table>\n",
              "<p>89776 rows × 2 columns</p>\n",
              "</div>"
            ],
            "text/plain": [
              "           IC50                                             SMILES\n",
              "0      0.000015  [H]\\N=C(N)\\N[C@@H](C1)[C@@H](NC(=O)C)[C@@H](C=...\n",
              "1      0.000016  O=C(O)C1=C[C@H](N)[C@@H](NC(=O)C)[C@@H](C1)COC...\n",
              "2      0.000033  C=CC(=O)N[C@H]([C@H](C1)N)[C@@H](C=C1C([O-])=O...\n",
              "3      0.000032  CC(=O)N[C@H]([C@H](C1)N)[C@@H](C=C1C([O-])=O)O...\n",
              "4      0.000041  O=C(O)c1c(O)c(=O)cc([nH]1)-c(c2C)ccc(c2)-c3noc...\n",
              "...         ...                                                ...\n",
              "34668  1.900000  CC1(C)[C@@H](CC2)CC(\\[C@]12C)=N/CCCCCCC\\N=C(\\[...\n",
              "34669  0.400000   C[C@]12C(C)(C)[C@@H](CC2)C[C@H]1OC(=O)CCN3CCOCC3\n",
              "34680  5.600000  s1c(Br)ccc1[C@@H](C[C@@]2(C)O)O[C@@H]([C@H]23)...\n",
              "34685  1.100000  CC1(C)[C@H](CC2)CC(\\[C@@]12C)=N/CCCCCC\\N=C(\\[C...\n",
              "34690  3.156000  Cc1ccc(cc1)S(=O)(=O)N[C@@H](c2ccccc2)C(=O)Oc(c...\n",
              "\n",
              "[89776 rows x 2 columns]"
            ]
          },
          "execution_count": 15,
          "metadata": {},
          "output_type": "execute_result"
        }
      ],
      "source": [
        "df1 = df.copy()\n",
        "df1['IC50'] = df1['IC50'] + 3\n",
        "df2 = df.copy()\n",
        "df2['IC50'] = df2['IC50'] - 3\n",
        "df = pd.concat((df, df1, df2))\n",
        "df = df[df['IC50'] >= 0]\n",
        "df"
      ]
    },
    {
      "cell_type": "markdown",
      "metadata": {},
      "source": [
        "# Дескрипторы"
      ]
    },
    {
      "cell_type": "code",
      "execution_count": 82,
      "metadata": {
        "colab": {
          "base_uri": "https://localhost:8080/",
          "height": 226
        },
        "id": "iKWyvk4keGN3",
        "outputId": "6de52f76-4689-4827-bcad-25985b2acc69"
      },
      "outputs": [
        {
          "name": "stderr",
          "output_type": "stream",
          "text": [
            "[09:34:04] Conflicting single bond directions around double bond at index 55.\n",
            "[09:34:04]   BondStereo set to STEREONONE and single bond directions set to NONE.\n",
            "[09:34:04] Conflicting single bond directions around double bond at index 55.\n",
            "[09:34:04]   BondStereo set to STEREONONE and single bond directions set to NONE.\n",
            "[09:34:04] Conflicting single bond directions around double bond at index 55.\n",
            "[09:34:04]   BondStereo set to STEREONONE and single bond directions set to NONE.\n",
            "[09:34:04] Conflicting single bond directions around double bond at index 55.\n",
            "[09:34:04]   BondStereo set to STEREONONE and single bond directions set to NONE.\n",
            "[09:34:04] Conflicting single bond directions around double bond at index 55.\n",
            "[09:34:04]   BondStereo set to STEREONONE and single bond directions set to NONE.\n",
            "[09:34:04] Conflicting single bond directions around double bond at index 55.\n",
            "[09:34:04]   BondStereo set to STEREONONE and single bond directions set to NONE.\n",
            "[09:34:04] Conflicting single bond directions around double bond at index 55.\n",
            "[09:34:04]   BondStereo set to STEREONONE and single bond directions set to NONE.\n",
            "[09:34:04] Conflicting single bond directions around double bond at index 55.\n",
            "[09:34:04]   BondStereo set to STEREONONE and single bond directions set to NONE.\n",
            "[09:34:04] Conflicting single bond directions around double bond at index 55.\n",
            "[09:34:04]   BondStereo set to STEREONONE and single bond directions set to NONE.\n",
            "[09:34:04] Conflicting single bond directions around double bond at index 55.\n",
            "[09:34:04]   BondStereo set to STEREONONE and single bond directions set to NONE.\n",
            "[09:34:04] Conflicting single bond directions around double bond at index 55.\n",
            "[09:34:04]   BondStereo set to STEREONONE and single bond directions set to NONE.\n",
            "[09:34:04] Conflicting single bond directions around double bond at index 55.\n",
            "[09:34:04]   BondStereo set to STEREONONE and single bond directions set to NONE.\n",
            "[09:34:04] Conflicting single bond directions around double bond at index 55.\n",
            "[09:34:04]   BondStereo set to STEREONONE and single bond directions set to NONE.\n",
            "[09:34:04] Conflicting single bond directions around double bond at index 55.\n",
            "[09:34:04]   BondStereo set to STEREONONE and single bond directions set to NONE.\n",
            "[09:34:04] Conflicting single bond directions around double bond at index 55.\n",
            "[09:34:04]   BondStereo set to STEREONONE and single bond directions set to NONE.\n",
            "[09:34:04] Conflicting single bond directions around double bond at index 55.\n",
            "[09:34:04]   BondStereo set to STEREONONE and single bond directions set to NONE.\n",
            "[09:34:04] Conflicting single bond directions around double bond at index 55.\n",
            "[09:34:04]   BondStereo set to STEREONONE and single bond directions set to NONE.\n",
            "[09:34:04] Conflicting single bond directions around double bond at index 55.\n",
            "[09:34:04]   BondStereo set to STEREONONE and single bond directions set to NONE.\n",
            "[09:34:04] Conflicting single bond directions around double bond at index 55.\n",
            "[09:34:04]   BondStereo set to STEREONONE and single bond directions set to NONE.\n",
            "[09:34:04] Conflicting single bond directions around double bond at index 55.\n",
            "[09:34:04]   BondStereo set to STEREONONE and single bond directions set to NONE.\n",
            "[09:34:04] Conflicting single bond directions around double bond at index 55.\n",
            "[09:34:04]   BondStereo set to STEREONONE and single bond directions set to NONE.\n",
            "[09:34:04] Conflicting single bond directions around double bond at index 55.\n",
            "[09:34:04]   BondStereo set to STEREONONE and single bond directions set to NONE.\n",
            "[09:34:04] Conflicting single bond directions around double bond at index 55.\n",
            "[09:34:04]   BondStereo set to STEREONONE and single bond directions set to NONE.\n",
            "[09:34:04] Conflicting single bond directions around double bond at index 55.\n",
            "[09:34:04]   BondStereo set to STEREONONE and single bond directions set to NONE.\n",
            "[09:34:04] Conflicting single bond directions around double bond at index 55.\n",
            "[09:34:04]   BondStereo set to STEREONONE and single bond directions set to NONE.\n",
            "[09:34:04] Conflicting single bond directions around double bond at index 55.\n",
            "[09:34:04]   BondStereo set to STEREONONE and single bond directions set to NONE.\n",
            "[09:34:04] Conflicting single bond directions around double bond at index 55.\n",
            "[09:34:04]   BondStereo set to STEREONONE and single bond directions set to NONE.\n",
            "[09:34:04] Conflicting single bond directions around double bond at index 55.\n",
            "[09:34:04]   BondStereo set to STEREONONE and single bond directions set to NONE.\n",
            "[09:34:04] Conflicting single bond directions around double bond at index 55.\n",
            "[09:34:04]   BondStereo set to STEREONONE and single bond directions set to NONE.\n",
            "[09:34:04] Conflicting single bond directions around double bond at index 55.\n",
            "[09:34:04]   BondStereo set to STEREONONE and single bond directions set to NONE.\n",
            "[09:34:04] Conflicting single bond directions around double bond at index 55.\n",
            "[09:34:04]   BondStereo set to STEREONONE and single bond directions set to NONE.\n",
            "[09:34:04] Conflicting single bond directions around double bond at index 55.\n",
            "[09:34:04]   BondStereo set to STEREONONE and single bond directions set to NONE.\n",
            "[09:34:04] Conflicting single bond directions around double bond at index 55.\n",
            "[09:34:04]   BondStereo set to STEREONONE and single bond directions set to NONE.\n",
            "[09:34:04] Conflicting single bond directions around double bond at index 55.\n",
            "[09:34:04]   BondStereo set to STEREONONE and single bond directions set to NONE.\n",
            "[09:34:04] Conflicting single bond directions around double bond at index 55.\n",
            "[09:34:04]   BondStereo set to STEREONONE and single bond directions set to NONE.\n",
            "[09:34:04] Conflicting single bond directions around double bond at index 55.\n",
            "[09:34:04]   BondStereo set to STEREONONE and single bond directions set to NONE.\n",
            "[09:34:04] Conflicting single bond directions around double bond at index 55.\n",
            "[09:34:04]   BondStereo set to STEREONONE and single bond directions set to NONE.\n",
            "[09:34:04] Conflicting single bond directions around double bond at index 55.\n",
            "[09:34:04]   BondStereo set to STEREONONE and single bond directions set to NONE.\n",
            "[09:34:04] Conflicting single bond directions around double bond at index 55.\n",
            "[09:34:04]   BondStereo set to STEREONONE and single bond directions set to NONE.\n",
            "[09:34:04] Conflicting single bond directions around double bond at index 55.\n",
            "[09:34:04]   BondStereo set to STEREONONE and single bond directions set to NONE.\n"
          ]
        },
        {
          "data": {
            "text/html": [
              "<div>\n",
              "<style scoped>\n",
              "    .dataframe tbody tr th:only-of-type {\n",
              "        vertical-align: middle;\n",
              "    }\n",
              "\n",
              "    .dataframe tbody tr th {\n",
              "        vertical-align: top;\n",
              "    }\n",
              "\n",
              "    .dataframe thead th {\n",
              "        text-align: right;\n",
              "    }\n",
              "</style>\n",
              "<table border=\"1\" class=\"dataframe\">\n",
              "  <thead>\n",
              "    <tr style=\"text-align: right;\">\n",
              "      <th></th>\n",
              "      <th>HeavyAtomCount</th>\n",
              "      <th>NHOHCount</th>\n",
              "      <th>NOCount</th>\n",
              "      <th>NumHAcceptors</th>\n",
              "      <th>NumHDonors</th>\n",
              "      <th>NumHeteroatoms</th>\n",
              "      <th>NumRotatableBonds</th>\n",
              "      <th>NumValenceElectrons</th>\n",
              "      <th>NumAromaticRings</th>\n",
              "      <th>NumAliphaticHeterocycles</th>\n",
              "      <th>...</th>\n",
              "      <th>valence_electr</th>\n",
              "      <th>rings</th>\n",
              "      <th>donors</th>\n",
              "      <th>acceptors</th>\n",
              "      <th>sps</th>\n",
              "      <th>Chi0</th>\n",
              "      <th>Chi1</th>\n",
              "      <th>Kappa1</th>\n",
              "      <th>Kappa2</th>\n",
              "      <th>Kappa3</th>\n",
              "    </tr>\n",
              "  </thead>\n",
              "  <tbody>\n",
              "    <tr>\n",
              "      <th>0</th>\n",
              "      <td>24</td>\n",
              "      <td>7</td>\n",
              "      <td>9</td>\n",
              "      <td>4</td>\n",
              "      <td>6</td>\n",
              "      <td>10</td>\n",
              "      <td>7</td>\n",
              "      <td>138</td>\n",
              "      <td>0</td>\n",
              "      <td>0</td>\n",
              "      <td>...</td>\n",
              "      <td>138</td>\n",
              "      <td>1</td>\n",
              "      <td>6</td>\n",
              "      <td>4</td>\n",
              "      <td>25.916667</td>\n",
              "      <td>19.198306</td>\n",
              "      <td>11.615941</td>\n",
              "      <td>18.921939</td>\n",
              "      <td>8.617804</td>\n",
              "      <td>5.902016</td>\n",
              "    </tr>\n",
              "    <tr>\n",
              "      <th>1</th>\n",
              "      <td>21</td>\n",
              "      <td>4</td>\n",
              "      <td>6</td>\n",
              "      <td>4</td>\n",
              "      <td>3</td>\n",
              "      <td>6</td>\n",
              "      <td>7</td>\n",
              "      <td>120</td>\n",
              "      <td>0</td>\n",
              "      <td>0</td>\n",
              "      <td>...</td>\n",
              "      <td>120</td>\n",
              "      <td>1</td>\n",
              "      <td>3</td>\n",
              "      <td>4</td>\n",
              "      <td>25.571429</td>\n",
              "      <td>15.991199</td>\n",
              "      <td>9.883448</td>\n",
              "      <td>17.651020</td>\n",
              "      <td>8.142823</td>\n",
              "      <td>5.132807</td>\n",
              "    </tr>\n",
              "    <tr>\n",
              "      <th>2</th>\n",
              "      <td>21</td>\n",
              "      <td>3</td>\n",
              "      <td>6</td>\n",
              "      <td>5</td>\n",
              "      <td>2</td>\n",
              "      <td>6</td>\n",
              "      <td>7</td>\n",
              "      <td>118</td>\n",
              "      <td>0</td>\n",
              "      <td>0</td>\n",
              "      <td>...</td>\n",
              "      <td>118</td>\n",
              "      <td>1</td>\n",
              "      <td>2</td>\n",
              "      <td>5</td>\n",
              "      <td>25.333333</td>\n",
              "      <td>15.991199</td>\n",
              "      <td>9.921453</td>\n",
              "      <td>17.391706</td>\n",
              "      <td>7.948149</td>\n",
              "      <td>4.681914</td>\n",
              "    </tr>\n",
              "    <tr>\n",
              "      <th>3</th>\n",
              "      <td>20</td>\n",
              "      <td>3</td>\n",
              "      <td>6</td>\n",
              "      <td>5</td>\n",
              "      <td>2</td>\n",
              "      <td>6</td>\n",
              "      <td>6</td>\n",
              "      <td>114</td>\n",
              "      <td>0</td>\n",
              "      <td>0</td>\n",
              "      <td>...</td>\n",
              "      <td>114</td>\n",
              "      <td>1</td>\n",
              "      <td>2</td>\n",
              "      <td>5</td>\n",
              "      <td>26.250000</td>\n",
              "      <td>15.284093</td>\n",
              "      <td>9.383448</td>\n",
              "      <td>16.653763</td>\n",
              "      <td>7.400293</td>\n",
              "      <td>4.314341</td>\n",
              "    </tr>\n",
              "    <tr>\n",
              "      <th>4</th>\n",
              "      <td>24</td>\n",
              "      <td>4</td>\n",
              "      <td>9</td>\n",
              "      <td>6</td>\n",
              "      <td>4</td>\n",
              "      <td>9</td>\n",
              "      <td>3</td>\n",
              "      <td>122</td>\n",
              "      <td>3</td>\n",
              "      <td>0</td>\n",
              "      <td>...</td>\n",
              "      <td>122</td>\n",
              "      <td>3</td>\n",
              "      <td>4</td>\n",
              "      <td>6</td>\n",
              "      <td>10.708333</td>\n",
              "      <td>17.430357</td>\n",
              "      <td>11.363081</td>\n",
              "      <td>15.282400</td>\n",
              "      <td>5.539021</td>\n",
              "      <td>2.580974</td>\n",
              "    </tr>\n",
              "  </tbody>\n",
              "</table>\n",
              "<p>5 rows × 40 columns</p>\n",
              "</div>"
            ],
            "text/plain": [
              "   HeavyAtomCount  NHOHCount  NOCount  NumHAcceptors  NumHDonors  \\\n",
              "0              24          7        9              4           6   \n",
              "1              21          4        6              4           3   \n",
              "2              21          3        6              5           2   \n",
              "3              20          3        6              5           2   \n",
              "4              24          4        9              6           4   \n",
              "\n",
              "   NumHeteroatoms  NumRotatableBonds  NumValenceElectrons  NumAromaticRings  \\\n",
              "0              10                  7                  138                 0   \n",
              "1               6                  7                  120                 0   \n",
              "2               6                  7                  118                 0   \n",
              "3               6                  6                  114                 0   \n",
              "4               9                  3                  122                 3   \n",
              "\n",
              "   NumAliphaticHeterocycles  ...  valence_electr  rings  donors  acceptors  \\\n",
              "0                         0  ...             138      1       6          4   \n",
              "1                         0  ...             120      1       3          4   \n",
              "2                         0  ...             118      1       2          5   \n",
              "3                         0  ...             114      1       2          5   \n",
              "4                         0  ...             122      3       4          6   \n",
              "\n",
              "         sps       Chi0       Chi1     Kappa1    Kappa2    Kappa3  \n",
              "0  25.916667  19.198306  11.615941  18.921939  8.617804  5.902016  \n",
              "1  25.571429  15.991199   9.883448  17.651020  8.142823  5.132807  \n",
              "2  25.333333  15.991199   9.921453  17.391706  7.948149  4.681914  \n",
              "3  26.250000  15.284093   9.383448  16.653763  7.400293  4.314341  \n",
              "4  10.708333  17.430357  11.363081  15.282400  5.539021  2.580974  \n",
              "\n",
              "[5 rows x 40 columns]"
            ]
          },
          "execution_count": 82,
          "metadata": {},
          "output_type": "execute_result"
        }
      ],
      "source": [
        "def mol_dsc_calc(mols):\n",
        "    return pd.DataFrame({k: f(Chem.MolFromSmiles(m)) for k, f in descriptors.items()} for m in mols)\n",
        "\n",
        "# список конституционных и физико-химических дескрипторов из библиотеки RDKit\n",
        "descriptors = {\"HeavyAtomCount\": Descriptors.HeavyAtomCount,\n",
        "               \"NHOHCount\": Descriptors.NHOHCount,\n",
        "               \"NOCount\": Descriptors.NOCount,\n",
        "               \"NumHAcceptors\": Descriptors.NumHAcceptors,\n",
        "               \"NumHDonors\": Descriptors.NumHDonors,\n",
        "               \"NumHeteroatoms\": Descriptors.NumHeteroatoms,\n",
        "               \"NumRotatableBonds\": Descriptors.NumRotatableBonds,\n",
        "               \"NumValenceElectrons\": Descriptors.NumValenceElectrons,\n",
        "               \"NumAromaticRings\": Descriptors.NumAromaticRings,\n",
        "               \"NumAliphaticHeterocycles\": Descriptors.NumAliphaticHeterocycles,\n",
        "               \"RingCount\": Descriptors.RingCount,\n",
        "               \"MW\": Descriptors.MolWt,\n",
        "               \"LogP\": Descriptors.MolLogP,\n",
        "               \"MR\": Descriptors.MolMR,\n",
        "               \"TPSA\": Descriptors.TPSA,\n",
        "               \"NumAliphaticRings\": Descriptors.NumAliphaticRings,\n",
        "               \"NumAromaticHeterocycles\": Descriptors.NumAromaticHeterocycles,\n",
        "               \"NumSaturatedRings\": Descriptors.NumSaturatedRings,\n",
        "               \"NumAromaticCarbocycles\": Descriptors.NumAromaticCarbocycles,\n",
        "               \"FractionCSP3\": Descriptors.FractionCSP3,\n",
        "               \"MaxAbsPartialCharge\": Descriptors.MaxAbsPartialCharge,\n",
        "               \"MinAbsPartialCharge\": Descriptors.MinAbsPartialCharge,\n",
        "               \"NumRadicalElectrons\": Descriptors.NumRadicalElectrons,\n",
        "               \"MaxPartialCharge\": Descriptors.MaxPartialCharge,\n",
        "               \"MinPartialCharge\": Descriptors.MinPartialCharge,\n",
        "               \"MaxAbsEStateIndex\": Descriptors.MaxAbsEStateIndex,\n",
        "               \"MinAbsEStateIndex\": Descriptors.MinAbsEStateIndex,\n",
        "               \"NumAromaticCarbocycles\": Descriptors.NumAromaticCarbocycles,\n",
        "               \"NumSaturatedCarbocycles\": Descriptors.NumSaturatedCarbocycles,\n",
        "               \"Descriptors.FpDensityMorgan1\": Descriptors.FpDensityMorgan1,\n",
        "               \"Descriptors.FpDensityMorgan2\": Descriptors.FpDensityMorgan2,\n",
        "               'valence_electr': Descriptors.NumValenceElectrons,\n",
        "               'rings': Descriptors.rdMolDescriptors.CalcNumRings,\n",
        "               'donors': Descriptors.NumHDonors,\n",
        "               'acceptors': Descriptors.NumHAcceptors,\n",
        "               'sps': Descriptors.SPS,\n",
        "                'Chi0': Descriptors.Chi0,  # Chi0 топологический дескриптор\n",
        "                'Chi1': Descriptors.Chi1,  # Chi1 топологический дескриптор\n",
        "                'Kappa1': Descriptors.Kappa1,  # Kappa1 топологический дескриптор\n",
        "                'Kappa2': Descriptors.Kappa2,  # Kappa2 топологический дескриптор\n",
        "                'Kappa3': Descriptors.Kappa3  # Kappa3 топологический дескриптор\n",
        "                }\n",
        "\n",
        "# descriptors = {\n",
        "#     # Физико-химические дескрипторы\n",
        "#         'MolWt': Descriptors.MolWt,  # Молекулярная масса\n",
        "#         'MolLogP': Descriptors.MolLogP,  # Липофильность\n",
        "#         'TPSA': Descriptors.TPSA,  # Полярная поверхность\n",
        "#         'NumHDonors': Descriptors.NumHDonors,  # Число доноров водорода\n",
        "#         'NumHAcceptors': Descriptors.NumHAcceptors,  # Число акцепторов водорода\n",
        "#         'NumRotatableBonds': Descriptors.NumRotatableBonds,  # Число вращаемых связей\n",
        "#         'NumAliphaticRings': Descriptors.NumAliphaticRings,  # Число алифатических колец\n",
        "#         'NumAromaticRings': Descriptors.NumAromaticRings,  # Число ароматических колец\n",
        "#         'NumSaturatedRings': Descriptors.NumSaturatedRings,  # Число насыщенных колец\n",
        "        \n",
        "# # #         # Топологические дескрипторы\n",
        "#         'Chi0': Descriptors.Chi0,  # Chi0 топологический дескриптор\n",
        "#         'Chi1': Descriptors.Chi1,  # Chi1 топологический дескриптор\n",
        "#         'Kappa1': Descriptors.Kappa1,  # Kappa1 топологический дескриптор\n",
        "#         'Kappa2': Descriptors.Kappa2,  # Kappa2 топологический дескриптор\n",
        "#         'Kappa3': Descriptors.Kappa3,  # Kappa3 топологический дескриптор\n",
        "\n",
        "# # #         # Геометрические дескрипторы (3D)\n",
        "# #         'Asphericity': Descriptors.rdMolDescriptors.CalcAsphericity,  # Асферичность\n",
        "# #         'Eccentricity': Descriptors.rdMolDescriptors.CalcEccentricity,  # Эксцентриситет\n",
        "# #         'InertialShapeFactor': Descriptors.rdMolDescriptors.CalcInertialShapeFactor,  # Фактор инерциальной формы\n",
        "# #         'RadiusOfGyration': Descriptors.rdMolDescriptors.CalcRadiusOfGyration,  # Радиус вращения\n",
        "# #         'SpherocityIndex': Descriptors.rdMolDescriptors.CalcSpherocityIndex,  # Индекс сферичности\n",
        "# #         'PMI1': Descriptors.rdMolDescriptors.CalcPMI1,  # Первый главный момент инерции\n",
        "# #         'PMI2': Descriptors.rdMolDescriptors.CalcPMI2,  # Второй главный момент инерции\n",
        "# #         'PMI3': Descriptors.rdMolDescriptors.CalcPMI3,  # Третий главный момент инерции\n",
        "# }\n",
        "\n",
        "# sklearn трансформер для использования в конвейерном моделировании\n",
        "descriptors_transformer = FunctionTransformer(mol_dsc_calc)\n",
        "X = descriptors_transformer.transform(df['SMILES'])\n",
        "X.head()"
      ]
    },
    {
      "cell_type": "code",
      "execution_count": 83,
      "metadata": {
        "id": "_8x24Q9neo3L"
      },
      "outputs": [],
      "source": [
        "data_dsc = df.join(X)"
      ]
    },
    {
      "cell_type": "code",
      "execution_count": 84,
      "metadata": {
        "colab": {
          "base_uri": "https://localhost:8080/",
          "height": 434
        },
        "id": "s-G4OdFAOmOf",
        "outputId": "f501d75a-fe3c-4398-aa2a-12b754a8aee1"
      },
      "outputs": [
        {
          "data": {
            "text/html": [
              "<div>\n",
              "<style scoped>\n",
              "    .dataframe tbody tr th:only-of-type {\n",
              "        vertical-align: middle;\n",
              "    }\n",
              "\n",
              "    .dataframe tbody tr th {\n",
              "        vertical-align: top;\n",
              "    }\n",
              "\n",
              "    .dataframe thead th {\n",
              "        text-align: right;\n",
              "    }\n",
              "</style>\n",
              "<table border=\"1\" class=\"dataframe\">\n",
              "  <thead>\n",
              "    <tr style=\"text-align: right;\">\n",
              "      <th></th>\n",
              "      <th>IC50</th>\n",
              "      <th>SMILES</th>\n",
              "      <th>HeavyAtomCount</th>\n",
              "      <th>NHOHCount</th>\n",
              "      <th>NOCount</th>\n",
              "      <th>NumHAcceptors</th>\n",
              "      <th>NumHDonors</th>\n",
              "      <th>NumHeteroatoms</th>\n",
              "      <th>NumRotatableBonds</th>\n",
              "      <th>NumValenceElectrons</th>\n",
              "      <th>...</th>\n",
              "      <th>valence_electr</th>\n",
              "      <th>rings</th>\n",
              "      <th>donors</th>\n",
              "      <th>acceptors</th>\n",
              "      <th>sps</th>\n",
              "      <th>Chi0</th>\n",
              "      <th>Chi1</th>\n",
              "      <th>Kappa1</th>\n",
              "      <th>Kappa2</th>\n",
              "      <th>Kappa3</th>\n",
              "    </tr>\n",
              "  </thead>\n",
              "  <tbody>\n",
              "    <tr>\n",
              "      <th>0</th>\n",
              "      <td>0.000015</td>\n",
              "      <td>[H]\\N=C(N)\\N[C@@H](C1)[C@@H](NC(=O)C)[C@@H](C=...</td>\n",
              "      <td>24</td>\n",
              "      <td>7</td>\n",
              "      <td>9</td>\n",
              "      <td>4</td>\n",
              "      <td>6</td>\n",
              "      <td>10</td>\n",
              "      <td>7</td>\n",
              "      <td>138</td>\n",
              "      <td>...</td>\n",
              "      <td>138</td>\n",
              "      <td>1</td>\n",
              "      <td>6</td>\n",
              "      <td>4</td>\n",
              "      <td>25.916667</td>\n",
              "      <td>19.198306</td>\n",
              "      <td>11.615941</td>\n",
              "      <td>18.921939</td>\n",
              "      <td>8.617804</td>\n",
              "      <td>5.902016</td>\n",
              "    </tr>\n",
              "    <tr>\n",
              "      <th>1</th>\n",
              "      <td>0.000016</td>\n",
              "      <td>O=C(O)C1=C[C@H](N)[C@@H](NC(=O)C)[C@@H](C1)COC...</td>\n",
              "      <td>21</td>\n",
              "      <td>4</td>\n",
              "      <td>6</td>\n",
              "      <td>4</td>\n",
              "      <td>3</td>\n",
              "      <td>6</td>\n",
              "      <td>7</td>\n",
              "      <td>120</td>\n",
              "      <td>...</td>\n",
              "      <td>120</td>\n",
              "      <td>1</td>\n",
              "      <td>3</td>\n",
              "      <td>4</td>\n",
              "      <td>25.571429</td>\n",
              "      <td>15.991199</td>\n",
              "      <td>9.883448</td>\n",
              "      <td>17.651020</td>\n",
              "      <td>8.142823</td>\n",
              "      <td>5.132807</td>\n",
              "    </tr>\n",
              "    <tr>\n",
              "      <th>2</th>\n",
              "      <td>0.000033</td>\n",
              "      <td>C=CC(=O)N[C@H]([C@H](C1)N)[C@@H](C=C1C([O-])=O...</td>\n",
              "      <td>21</td>\n",
              "      <td>3</td>\n",
              "      <td>6</td>\n",
              "      <td>5</td>\n",
              "      <td>2</td>\n",
              "      <td>6</td>\n",
              "      <td>7</td>\n",
              "      <td>118</td>\n",
              "      <td>...</td>\n",
              "      <td>118</td>\n",
              "      <td>1</td>\n",
              "      <td>2</td>\n",
              "      <td>5</td>\n",
              "      <td>25.333333</td>\n",
              "      <td>15.991199</td>\n",
              "      <td>9.921453</td>\n",
              "      <td>17.391706</td>\n",
              "      <td>7.948149</td>\n",
              "      <td>4.681914</td>\n",
              "    </tr>\n",
              "    <tr>\n",
              "      <th>3</th>\n",
              "      <td>0.000032</td>\n",
              "      <td>CC(=O)N[C@H]([C@H](C1)N)[C@@H](C=C1C([O-])=O)O...</td>\n",
              "      <td>20</td>\n",
              "      <td>3</td>\n",
              "      <td>6</td>\n",
              "      <td>5</td>\n",
              "      <td>2</td>\n",
              "      <td>6</td>\n",
              "      <td>6</td>\n",
              "      <td>114</td>\n",
              "      <td>...</td>\n",
              "      <td>114</td>\n",
              "      <td>1</td>\n",
              "      <td>2</td>\n",
              "      <td>5</td>\n",
              "      <td>26.250000</td>\n",
              "      <td>15.284093</td>\n",
              "      <td>9.383448</td>\n",
              "      <td>16.653763</td>\n",
              "      <td>7.400293</td>\n",
              "      <td>4.314341</td>\n",
              "    </tr>\n",
              "    <tr>\n",
              "      <th>4</th>\n",
              "      <td>0.000041</td>\n",
              "      <td>O=C(O)c1c(O)c(=O)cc([nH]1)-c(c2C)ccc(c2)-c3noc...</td>\n",
              "      <td>24</td>\n",
              "      <td>4</td>\n",
              "      <td>9</td>\n",
              "      <td>6</td>\n",
              "      <td>4</td>\n",
              "      <td>9</td>\n",
              "      <td>3</td>\n",
              "      <td>122</td>\n",
              "      <td>...</td>\n",
              "      <td>122</td>\n",
              "      <td>3</td>\n",
              "      <td>4</td>\n",
              "      <td>6</td>\n",
              "      <td>10.708333</td>\n",
              "      <td>17.430357</td>\n",
              "      <td>11.363081</td>\n",
              "      <td>15.282400</td>\n",
              "      <td>5.539021</td>\n",
              "      <td>2.580974</td>\n",
              "    </tr>\n",
              "  </tbody>\n",
              "</table>\n",
              "<p>5 rows × 42 columns</p>\n",
              "</div>"
            ],
            "text/plain": [
              "       IC50                                             SMILES  \\\n",
              "0  0.000015  [H]\\N=C(N)\\N[C@@H](C1)[C@@H](NC(=O)C)[C@@H](C=...   \n",
              "1  0.000016  O=C(O)C1=C[C@H](N)[C@@H](NC(=O)C)[C@@H](C1)COC...   \n",
              "2  0.000033  C=CC(=O)N[C@H]([C@H](C1)N)[C@@H](C=C1C([O-])=O...   \n",
              "3  0.000032  CC(=O)N[C@H]([C@H](C1)N)[C@@H](C=C1C([O-])=O)O...   \n",
              "4  0.000041  O=C(O)c1c(O)c(=O)cc([nH]1)-c(c2C)ccc(c2)-c3noc...   \n",
              "\n",
              "   HeavyAtomCount  NHOHCount  NOCount  NumHAcceptors  NumHDonors  \\\n",
              "0              24          7        9              4           6   \n",
              "1              21          4        6              4           3   \n",
              "2              21          3        6              5           2   \n",
              "3              20          3        6              5           2   \n",
              "4              24          4        9              6           4   \n",
              "\n",
              "   NumHeteroatoms  NumRotatableBonds  NumValenceElectrons  ...  \\\n",
              "0              10                  7                  138  ...   \n",
              "1               6                  7                  120  ...   \n",
              "2               6                  7                  118  ...   \n",
              "3               6                  6                  114  ...   \n",
              "4               9                  3                  122  ...   \n",
              "\n",
              "   valence_electr  rings  donors  acceptors        sps       Chi0       Chi1  \\\n",
              "0             138      1       6          4  25.916667  19.198306  11.615941   \n",
              "1             120      1       3          4  25.571429  15.991199   9.883448   \n",
              "2             118      1       2          5  25.333333  15.991199   9.921453   \n",
              "3             114      1       2          5  26.250000  15.284093   9.383448   \n",
              "4             122      3       4          6  10.708333  17.430357  11.363081   \n",
              "\n",
              "      Kappa1    Kappa2    Kappa3  \n",
              "0  18.921939  8.617804  5.902016  \n",
              "1  17.651020  8.142823  5.132807  \n",
              "2  17.391706  7.948149  4.681914  \n",
              "3  16.653763  7.400293  4.314341  \n",
              "4  15.282400  5.539021  2.580974  \n",
              "\n",
              "[5 rows x 42 columns]"
            ]
          },
          "execution_count": 84,
          "metadata": {},
          "output_type": "execute_result"
        }
      ],
      "source": [
        "data_dsc.head()"
      ]
    },
    {
      "cell_type": "markdown",
      "metadata": {},
      "source": [
        "# Признаки длины и содержащихся элементов в формуле"
      ]
    },
    {
      "cell_type": "code",
      "execution_count": 85,
      "metadata": {},
      "outputs": [
        {
          "data": {
            "text/html": [
              "<div>\n",
              "<style scoped>\n",
              "    .dataframe tbody tr th:only-of-type {\n",
              "        vertical-align: middle;\n",
              "    }\n",
              "\n",
              "    .dataframe tbody tr th {\n",
              "        vertical-align: top;\n",
              "    }\n",
              "\n",
              "    .dataframe thead th {\n",
              "        text-align: right;\n",
              "    }\n",
              "</style>\n",
              "<table border=\"1\" class=\"dataframe\">\n",
              "  <thead>\n",
              "    <tr style=\"text-align: right;\">\n",
              "      <th></th>\n",
              "      <th>IC50</th>\n",
              "      <th>SMILES</th>\n",
              "      <th>HeavyAtomCount</th>\n",
              "      <th>NHOHCount</th>\n",
              "      <th>NOCount</th>\n",
              "      <th>NumHAcceptors</th>\n",
              "      <th>NumHDonors</th>\n",
              "      <th>NumHeteroatoms</th>\n",
              "      <th>NumRotatableBonds</th>\n",
              "      <th>NumValenceElectrons</th>\n",
              "      <th>...</th>\n",
              "      <th>3_cnt</th>\n",
              "      <th>H_cnt</th>\n",
              "      <th>S_cnt</th>\n",
              "      <th>4_cnt</th>\n",
              "      <th>L_cnt</th>\n",
              "      <th>F_cnt</th>\n",
              "      <th>CC_cnt</th>\n",
              "      <th>CCC_cnt</th>\n",
              "      <th>C1_cnt</th>\n",
              "      <th>CN_cnt</th>\n",
              "    </tr>\n",
              "  </thead>\n",
              "  <tbody>\n",
              "    <tr>\n",
              "      <th>0</th>\n",
              "      <td>0.000015</td>\n",
              "      <td>[H]\\N=C(N)\\N[C@@H](C1)[C@@H](NC(=O)C)[C@@H](C=...</td>\n",
              "      <td>24</td>\n",
              "      <td>7</td>\n",
              "      <td>9</td>\n",
              "      <td>4</td>\n",
              "      <td>6</td>\n",
              "      <td>10</td>\n",
              "      <td>7</td>\n",
              "      <td>138</td>\n",
              "      <td>...</td>\n",
              "      <td>0</td>\n",
              "      <td>4</td>\n",
              "      <td>0</td>\n",
              "      <td>0</td>\n",
              "      <td>0</td>\n",
              "      <td>0</td>\n",
              "      <td>2</td>\n",
              "      <td>0</td>\n",
              "      <td>2</td>\n",
              "      <td>0</td>\n",
              "    </tr>\n",
              "    <tr>\n",
              "      <th>1</th>\n",
              "      <td>0.000016</td>\n",
              "      <td>O=C(O)C1=C[C@H](N)[C@@H](NC(=O)C)[C@@H](C1)COC...</td>\n",
              "      <td>21</td>\n",
              "      <td>4</td>\n",
              "      <td>6</td>\n",
              "      <td>4</td>\n",
              "      <td>3</td>\n",
              "      <td>6</td>\n",
              "      <td>7</td>\n",
              "      <td>120</td>\n",
              "      <td>...</td>\n",
              "      <td>0</td>\n",
              "      <td>3</td>\n",
              "      <td>0</td>\n",
              "      <td>0</td>\n",
              "      <td>0</td>\n",
              "      <td>0</td>\n",
              "      <td>2</td>\n",
              "      <td>0</td>\n",
              "      <td>2</td>\n",
              "      <td>0</td>\n",
              "    </tr>\n",
              "    <tr>\n",
              "      <th>2</th>\n",
              "      <td>0.000033</td>\n",
              "      <td>C=CC(=O)N[C@H]([C@H](C1)N)[C@@H](C=C1C([O-])=O...</td>\n",
              "      <td>21</td>\n",
              "      <td>3</td>\n",
              "      <td>6</td>\n",
              "      <td>5</td>\n",
              "      <td>2</td>\n",
              "      <td>6</td>\n",
              "      <td>7</td>\n",
              "      <td>118</td>\n",
              "      <td>...</td>\n",
              "      <td>0</td>\n",
              "      <td>3</td>\n",
              "      <td>0</td>\n",
              "      <td>0</td>\n",
              "      <td>0</td>\n",
              "      <td>0</td>\n",
              "      <td>3</td>\n",
              "      <td>0</td>\n",
              "      <td>2</td>\n",
              "      <td>0</td>\n",
              "    </tr>\n",
              "    <tr>\n",
              "      <th>3</th>\n",
              "      <td>0.000032</td>\n",
              "      <td>CC(=O)N[C@H]([C@H](C1)N)[C@@H](C=C1C([O-])=O)O...</td>\n",
              "      <td>20</td>\n",
              "      <td>3</td>\n",
              "      <td>6</td>\n",
              "      <td>5</td>\n",
              "      <td>2</td>\n",
              "      <td>6</td>\n",
              "      <td>6</td>\n",
              "      <td>114</td>\n",
              "      <td>...</td>\n",
              "      <td>0</td>\n",
              "      <td>3</td>\n",
              "      <td>0</td>\n",
              "      <td>0</td>\n",
              "      <td>0</td>\n",
              "      <td>0</td>\n",
              "      <td>3</td>\n",
              "      <td>0</td>\n",
              "      <td>2</td>\n",
              "      <td>0</td>\n",
              "    </tr>\n",
              "    <tr>\n",
              "      <th>4</th>\n",
              "      <td>0.000041</td>\n",
              "      <td>O=C(O)c1c(O)c(=O)cc([nH]1)-c(c2C)ccc(c2)-c3noc...</td>\n",
              "      <td>24</td>\n",
              "      <td>4</td>\n",
              "      <td>9</td>\n",
              "      <td>6</td>\n",
              "      <td>4</td>\n",
              "      <td>9</td>\n",
              "      <td>3</td>\n",
              "      <td>122</td>\n",
              "      <td>...</td>\n",
              "      <td>2</td>\n",
              "      <td>2</td>\n",
              "      <td>0</td>\n",
              "      <td>0</td>\n",
              "      <td>0</td>\n",
              "      <td>0</td>\n",
              "      <td>0</td>\n",
              "      <td>0</td>\n",
              "      <td>0</td>\n",
              "      <td>0</td>\n",
              "    </tr>\n",
              "    <tr>\n",
              "      <th>...</th>\n",
              "      <td>...</td>\n",
              "      <td>...</td>\n",
              "      <td>...</td>\n",
              "      <td>...</td>\n",
              "      <td>...</td>\n",
              "      <td>...</td>\n",
              "      <td>...</td>\n",
              "      <td>...</td>\n",
              "      <td>...</td>\n",
              "      <td>...</td>\n",
              "      <td>...</td>\n",
              "      <td>...</td>\n",
              "      <td>...</td>\n",
              "      <td>...</td>\n",
              "      <td>...</td>\n",
              "      <td>...</td>\n",
              "      <td>...</td>\n",
              "      <td>...</td>\n",
              "      <td>...</td>\n",
              "      <td>...</td>\n",
              "      <td>...</td>\n",
              "    </tr>\n",
              "    <tr>\n",
              "      <th>34687</th>\n",
              "      <td>2.450000</td>\n",
              "      <td>CC(C)c(cc1)cc(c1[C@@]23C)CC[C@@H]2[C@](C)(CN)CCC3</td>\n",
              "      <td>21</td>\n",
              "      <td>2</td>\n",
              "      <td>1</td>\n",
              "      <td>1</td>\n",
              "      <td>1</td>\n",
              "      <td>1</td>\n",
              "      <td>2</td>\n",
              "      <td>116</td>\n",
              "      <td>...</td>\n",
              "      <td>2</td>\n",
              "      <td>1</td>\n",
              "      <td>0</td>\n",
              "      <td>0</td>\n",
              "      <td>0</td>\n",
              "      <td>0</td>\n",
              "      <td>3</td>\n",
              "      <td>1</td>\n",
              "      <td>0</td>\n",
              "      <td>1</td>\n",
              "    </tr>\n",
              "    <tr>\n",
              "      <th>34688</th>\n",
              "      <td>0.740500</td>\n",
              "      <td>OCCNCCNc1ccc(NCCNCCO)c(c12)C(=O)c3c(C2=O)c(O)c...</td>\n",
              "      <td>32</td>\n",
              "      <td>8</td>\n",
              "      <td>10</td>\n",
              "      <td>10</td>\n",
              "      <td>8</td>\n",
              "      <td>10</td>\n",
              "      <td>12</td>\n",
              "      <td>172</td>\n",
              "      <td>...</td>\n",
              "      <td>2</td>\n",
              "      <td>0</td>\n",
              "      <td>0</td>\n",
              "      <td>0</td>\n",
              "      <td>0</td>\n",
              "      <td>0</td>\n",
              "      <td>4</td>\n",
              "      <td>0</td>\n",
              "      <td>0</td>\n",
              "      <td>3</td>\n",
              "    </tr>\n",
              "    <tr>\n",
              "      <th>34689</th>\n",
              "      <td>0.003695</td>\n",
              "      <td>CCN(CC)C(=O)[C@@H](NC(=O)C)[C@H]([C@H](C1)N=C(...</td>\n",
              "      <td>24</td>\n",
              "      <td>6</td>\n",
              "      <td>9</td>\n",
              "      <td>4</td>\n",
              "      <td>4</td>\n",
              "      <td>9</td>\n",
              "      <td>7</td>\n",
              "      <td>136</td>\n",
              "      <td>...</td>\n",
              "      <td>0</td>\n",
              "      <td>4</td>\n",
              "      <td>0</td>\n",
              "      <td>0</td>\n",
              "      <td>0</td>\n",
              "      <td>0</td>\n",
              "      <td>2</td>\n",
              "      <td>0</td>\n",
              "      <td>1</td>\n",
              "      <td>1</td>\n",
              "    </tr>\n",
              "    <tr>\n",
              "      <th>34690</th>\n",
              "      <td>6.156000</td>\n",
              "      <td>Cc1ccc(cc1)S(=O)(=O)N[C@@H](c2ccccc2)C(=O)Oc(c...</td>\n",
              "      <td>36</td>\n",
              "      <td>1</td>\n",
              "      <td>7</td>\n",
              "      <td>6</td>\n",
              "      <td>1</td>\n",
              "      <td>11</td>\n",
              "      <td>6</td>\n",
              "      <td>186</td>\n",
              "      <td>...</td>\n",
              "      <td>2</td>\n",
              "      <td>1</td>\n",
              "      <td>1</td>\n",
              "      <td>2</td>\n",
              "      <td>0</td>\n",
              "      <td>3</td>\n",
              "      <td>0</td>\n",
              "      <td>0</td>\n",
              "      <td>0</td>\n",
              "      <td>0</td>\n",
              "    </tr>\n",
              "    <tr>\n",
              "      <th>34691</th>\n",
              "      <td>0.050014</td>\n",
              "      <td>CC(=O)N[C@H]([C@H](C1)N)[C@@H](C=C1C(=O)O)OC(C...</td>\n",
              "      <td>20</td>\n",
              "      <td>4</td>\n",
              "      <td>6</td>\n",
              "      <td>4</td>\n",
              "      <td>3</td>\n",
              "      <td>6</td>\n",
              "      <td>6</td>\n",
              "      <td>114</td>\n",
              "      <td>...</td>\n",
              "      <td>0</td>\n",
              "      <td>3</td>\n",
              "      <td>0</td>\n",
              "      <td>0</td>\n",
              "      <td>0</td>\n",
              "      <td>0</td>\n",
              "      <td>3</td>\n",
              "      <td>0</td>\n",
              "      <td>2</td>\n",
              "      <td>0</td>\n",
              "    </tr>\n",
              "  </tbody>\n",
              "</table>\n",
              "<p>34692 rows × 61 columns</p>\n",
              "</div>"
            ],
            "text/plain": [
              "           IC50                                             SMILES  \\\n",
              "0      0.000015  [H]\\N=C(N)\\N[C@@H](C1)[C@@H](NC(=O)C)[C@@H](C=...   \n",
              "1      0.000016  O=C(O)C1=C[C@H](N)[C@@H](NC(=O)C)[C@@H](C1)COC...   \n",
              "2      0.000033  C=CC(=O)N[C@H]([C@H](C1)N)[C@@H](C=C1C([O-])=O...   \n",
              "3      0.000032  CC(=O)N[C@H]([C@H](C1)N)[C@@H](C=C1C([O-])=O)O...   \n",
              "4      0.000041  O=C(O)c1c(O)c(=O)cc([nH]1)-c(c2C)ccc(c2)-c3noc...   \n",
              "...         ...                                                ...   \n",
              "34687  2.450000  CC(C)c(cc1)cc(c1[C@@]23C)CC[C@@H]2[C@](C)(CN)CCC3   \n",
              "34688  0.740500  OCCNCCNc1ccc(NCCNCCO)c(c12)C(=O)c3c(C2=O)c(O)c...   \n",
              "34689  0.003695  CCN(CC)C(=O)[C@@H](NC(=O)C)[C@H]([C@H](C1)N=C(...   \n",
              "34690  6.156000  Cc1ccc(cc1)S(=O)(=O)N[C@@H](c2ccccc2)C(=O)Oc(c...   \n",
              "34691  0.050014  CC(=O)N[C@H]([C@H](C1)N)[C@@H](C=C1C(=O)O)OC(C...   \n",
              "\n",
              "       HeavyAtomCount  NHOHCount  NOCount  NumHAcceptors  NumHDonors  \\\n",
              "0                  24          7        9              4           6   \n",
              "1                  21          4        6              4           3   \n",
              "2                  21          3        6              5           2   \n",
              "3                  20          3        6              5           2   \n",
              "4                  24          4        9              6           4   \n",
              "...               ...        ...      ...            ...         ...   \n",
              "34687              21          2        1              1           1   \n",
              "34688              32          8       10             10           8   \n",
              "34689              24          6        9              4           4   \n",
              "34690              36          1        7              6           1   \n",
              "34691              20          4        6              4           3   \n",
              "\n",
              "       NumHeteroatoms  NumRotatableBonds  NumValenceElectrons  ...  3_cnt  \\\n",
              "0                  10                  7                  138  ...      0   \n",
              "1                   6                  7                  120  ...      0   \n",
              "2                   6                  7                  118  ...      0   \n",
              "3                   6                  6                  114  ...      0   \n",
              "4                   9                  3                  122  ...      2   \n",
              "...               ...                ...                  ...  ...    ...   \n",
              "34687               1                  2                  116  ...      2   \n",
              "34688              10                 12                  172  ...      2   \n",
              "34689               9                  7                  136  ...      0   \n",
              "34690              11                  6                  186  ...      2   \n",
              "34691               6                  6                  114  ...      0   \n",
              "\n",
              "       H_cnt  S_cnt  4_cnt  L_cnt  F_cnt  CC_cnt  CCC_cnt  C1_cnt  CN_cnt  \n",
              "0          4      0      0      0      0       2        0       2       0  \n",
              "1          3      0      0      0      0       2        0       2       0  \n",
              "2          3      0      0      0      0       3        0       2       0  \n",
              "3          3      0      0      0      0       3        0       2       0  \n",
              "4          2      0      0      0      0       0        0       0       0  \n",
              "...      ...    ...    ...    ...    ...     ...      ...     ...     ...  \n",
              "34687      1      0      0      0      0       3        1       0       1  \n",
              "34688      0      0      0      0      0       4        0       0       3  \n",
              "34689      4      0      0      0      0       2        0       1       1  \n",
              "34690      1      1      2      0      3       0        0       0       0  \n",
              "34691      3      0      0      0      0       3        0       2       0  \n",
              "\n",
              "[34692 rows x 61 columns]"
            ]
          },
          "execution_count": 85,
          "metadata": {},
          "output_type": "execute_result"
        }
      ],
      "source": [
        "data_dsc['length'] = data_dsc['SMILES'].apply(lambda x: len(x))\n",
        "data_dsc['C_cnt'] = data_dsc['SMILES'].apply(lambda x: x.count('C'))\n",
        "data_dsc['O_cnt'] = data_dsc['SMILES'].apply(lambda x: x.count('O'))\n",
        "data_dsc['(_cnt'] = data_dsc['SMILES'].apply(lambda x: x.count('('))\n",
        "data_dsc['=_cnt'] = data_dsc['SMILES'].apply(lambda x: x.count('='))\n",
        "data_dsc['N_cnt'] = data_dsc['SMILES'].apply(lambda x: x.count('N'))\n",
        "data_dsc['1_cnt'] = data_dsc['SMILES'].apply(lambda x: x.count('1'))\n",
        "data_dsc['2_cnt'] = data_dsc['SMILES'].apply(lambda x: x.count('2'))\n",
        "data_dsc['@_cnt'] = data_dsc['SMILES'].apply(lambda x: x.count('@'))\n",
        "data_dsc['3_cnt'] = data_dsc['SMILES'].apply(lambda x: x.count('3'))\n",
        "data_dsc['H_cnt'] = data_dsc['SMILES'].apply(lambda x: x.count('H'))\n",
        "data_dsc['S_cnt'] = data_dsc['SMILES'].apply(lambda x: x.count('S'))\n",
        "data_dsc['4_cnt'] = data_dsc['SMILES'].apply(lambda x: x.count('4'))\n",
        "data_dsc['L_cnt'] = data_dsc['SMILES'].apply(lambda x: x.count('L'))\n",
        "data_dsc['F_cnt'] = data_dsc['SMILES'].apply(lambda x: x.count('F'))\n",
        "data_dsc['CC_cnt'] = data_dsc['SMILES'].apply(lambda x: x.count('CC'))\n",
        "data_dsc['CCC_cnt'] = data_dsc['SMILES'].apply(lambda x: x.count('CCC'))\n",
        "data_dsc['C1_cnt'] = data_dsc['SMILES'].apply(lambda x: x.count('C1'))\n",
        "data_dsc['CN_cnt'] = data_dsc['SMILES'].apply(lambda x: x.count('CN'))\n",
        "data_dsc"
      ]
    },
    {
      "cell_type": "markdown",
      "metadata": {},
      "source": [
        "------"
      ]
    },
    {
      "cell_type": "markdown",
      "metadata": {},
      "source": [
        "# Выбросы по длине формулы SMILES"
      ]
    },
    {
      "cell_type": "code",
      "execution_count": 86,
      "metadata": {},
      "outputs": [
        {
          "data": {
            "text/plain": [
              "{'whiskers': [<matplotlib.lines.Line2D at 0x561037590>,\n",
              "  <matplotlib.lines.Line2D at 0x5637ee1d0>],\n",
              " 'caps': [<matplotlib.lines.Line2D at 0x5637ee010>,\n",
              "  <matplotlib.lines.Line2D at 0x5637ec450>],\n",
              " 'boxes': [<matplotlib.lines.Line2D at 0x55085d910>],\n",
              " 'medians': [<matplotlib.lines.Line2D at 0x5637ec650>],\n",
              " 'fliers': [<matplotlib.lines.Line2D at 0x5637ee950>],\n",
              " 'means': []}"
            ]
          },
          "execution_count": 86,
          "metadata": {},
          "output_type": "execute_result"
        },
        {
          "data": {
            "image/png": "[encoded data removed]",
            "text/plain": [
              "<Figure size 640x480 with 1 Axes>"
            ]
          },
          "metadata": {},
          "output_type": "display_data"
        }
      ],
      "source": [
        "plt.boxplot(data_dsc['length'])"
      ]
    },
    {
      "cell_type": "code",
      "execution_count": 87,
      "metadata": {},
      "outputs": [
        {
          "data": {
            "text/plain": [
              "96.5"
            ]
          },
          "execution_count": 87,
          "metadata": {},
          "output_type": "execute_result"
        }
      ],
      "source": [
        "boxplot_length = data_dsc['length'].quantile(0.75) + (data_dsc['length'].quantile(0.75) - data_dsc['length'].quantile(0.25)) * 2.5\n",
        "boxplot_length"
      ]
    },
    {
      "cell_type": "code",
      "execution_count": 88,
      "metadata": {},
      "outputs": [
        {
          "data": {
            "text/html": [
              "<div>\n",
              "<style scoped>\n",
              "    .dataframe tbody tr th:only-of-type {\n",
              "        vertical-align: middle;\n",
              "    }\n",
              "\n",
              "    .dataframe tbody tr th {\n",
              "        vertical-align: top;\n",
              "    }\n",
              "\n",
              "    .dataframe thead th {\n",
              "        text-align: right;\n",
              "    }\n",
              "</style>\n",
              "<table border=\"1\" class=\"dataframe\">\n",
              "  <thead>\n",
              "    <tr style=\"text-align: right;\">\n",
              "      <th></th>\n",
              "      <th>IC50</th>\n",
              "      <th>SMILES</th>\n",
              "      <th>HeavyAtomCount</th>\n",
              "      <th>NHOHCount</th>\n",
              "      <th>NOCount</th>\n",
              "      <th>NumHAcceptors</th>\n",
              "      <th>NumHDonors</th>\n",
              "      <th>NumHeteroatoms</th>\n",
              "      <th>NumRotatableBonds</th>\n",
              "      <th>NumValenceElectrons</th>\n",
              "      <th>...</th>\n",
              "      <th>3_cnt</th>\n",
              "      <th>H_cnt</th>\n",
              "      <th>S_cnt</th>\n",
              "      <th>4_cnt</th>\n",
              "      <th>L_cnt</th>\n",
              "      <th>F_cnt</th>\n",
              "      <th>CC_cnt</th>\n",
              "      <th>CCC_cnt</th>\n",
              "      <th>C1_cnt</th>\n",
              "      <th>CN_cnt</th>\n",
              "    </tr>\n",
              "  </thead>\n",
              "  <tbody>\n",
              "    <tr>\n",
              "      <th>0</th>\n",
              "      <td>0.000015</td>\n",
              "      <td>[H]\\N=C(N)\\N[C@@H](C1)[C@@H](NC(=O)C)[C@@H](C=...</td>\n",
              "      <td>24</td>\n",
              "      <td>7</td>\n",
              "      <td>9</td>\n",
              "      <td>4</td>\n",
              "      <td>6</td>\n",
              "      <td>10</td>\n",
              "      <td>7</td>\n",
              "      <td>138</td>\n",
              "      <td>...</td>\n",
              "      <td>0</td>\n",
              "      <td>4</td>\n",
              "      <td>0</td>\n",
              "      <td>0</td>\n",
              "      <td>0</td>\n",
              "      <td>0</td>\n",
              "      <td>2</td>\n",
              "      <td>0</td>\n",
              "      <td>2</td>\n",
              "      <td>0</td>\n",
              "    </tr>\n",
              "    <tr>\n",
              "      <th>1</th>\n",
              "      <td>0.000016</td>\n",
              "      <td>O=C(O)C1=C[C@H](N)[C@@H](NC(=O)C)[C@@H](C1)COC...</td>\n",
              "      <td>21</td>\n",
              "      <td>4</td>\n",
              "      <td>6</td>\n",
              "      <td>4</td>\n",
              "      <td>3</td>\n",
              "      <td>6</td>\n",
              "      <td>7</td>\n",
              "      <td>120</td>\n",
              "      <td>...</td>\n",
              "      <td>0</td>\n",
              "      <td>3</td>\n",
              "      <td>0</td>\n",
              "      <td>0</td>\n",
              "      <td>0</td>\n",
              "      <td>0</td>\n",
              "      <td>2</td>\n",
              "      <td>0</td>\n",
              "      <td>2</td>\n",
              "      <td>0</td>\n",
              "    </tr>\n",
              "    <tr>\n",
              "      <th>2</th>\n",
              "      <td>0.000033</td>\n",
              "      <td>C=CC(=O)N[C@H]([C@H](C1)N)[C@@H](C=C1C([O-])=O...</td>\n",
              "      <td>21</td>\n",
              "      <td>3</td>\n",
              "      <td>6</td>\n",
              "      <td>5</td>\n",
              "      <td>2</td>\n",
              "      <td>6</td>\n",
              "      <td>7</td>\n",
              "      <td>118</td>\n",
              "      <td>...</td>\n",
              "      <td>0</td>\n",
              "      <td>3</td>\n",
              "      <td>0</td>\n",
              "      <td>0</td>\n",
              "      <td>0</td>\n",
              "      <td>0</td>\n",
              "      <td>3</td>\n",
              "      <td>0</td>\n",
              "      <td>2</td>\n",
              "      <td>0</td>\n",
              "    </tr>\n",
              "    <tr>\n",
              "      <th>3</th>\n",
              "      <td>0.000032</td>\n",
              "      <td>CC(=O)N[C@H]([C@H](C1)N)[C@@H](C=C1C([O-])=O)O...</td>\n",
              "      <td>20</td>\n",
              "      <td>3</td>\n",
              "      <td>6</td>\n",
              "      <td>5</td>\n",
              "      <td>2</td>\n",
              "      <td>6</td>\n",
              "      <td>6</td>\n",
              "      <td>114</td>\n",
              "      <td>...</td>\n",
              "      <td>0</td>\n",
              "      <td>3</td>\n",
              "      <td>0</td>\n",
              "      <td>0</td>\n",
              "      <td>0</td>\n",
              "      <td>0</td>\n",
              "      <td>3</td>\n",
              "      <td>0</td>\n",
              "      <td>2</td>\n",
              "      <td>0</td>\n",
              "    </tr>\n",
              "    <tr>\n",
              "      <th>4</th>\n",
              "      <td>0.000041</td>\n",
              "      <td>O=C(O)c1c(O)c(=O)cc([nH]1)-c(c2C)ccc(c2)-c3noc...</td>\n",
              "      <td>24</td>\n",
              "      <td>4</td>\n",
              "      <td>9</td>\n",
              "      <td>6</td>\n",
              "      <td>4</td>\n",
              "      <td>9</td>\n",
              "      <td>3</td>\n",
              "      <td>122</td>\n",
              "      <td>...</td>\n",
              "      <td>2</td>\n",
              "      <td>2</td>\n",
              "      <td>0</td>\n",
              "      <td>0</td>\n",
              "      <td>0</td>\n",
              "      <td>0</td>\n",
              "      <td>0</td>\n",
              "      <td>0</td>\n",
              "      <td>0</td>\n",
              "      <td>0</td>\n",
              "    </tr>\n",
              "    <tr>\n",
              "      <th>...</th>\n",
              "      <td>...</td>\n",
              "      <td>...</td>\n",
              "      <td>...</td>\n",
              "      <td>...</td>\n",
              "      <td>...</td>\n",
              "      <td>...</td>\n",
              "      <td>...</td>\n",
              "      <td>...</td>\n",
              "      <td>...</td>\n",
              "      <td>...</td>\n",
              "      <td>...</td>\n",
              "      <td>...</td>\n",
              "      <td>...</td>\n",
              "      <td>...</td>\n",
              "      <td>...</td>\n",
              "      <td>...</td>\n",
              "      <td>...</td>\n",
              "      <td>...</td>\n",
              "      <td>...</td>\n",
              "      <td>...</td>\n",
              "      <td>...</td>\n",
              "    </tr>\n",
              "    <tr>\n",
              "      <th>34687</th>\n",
              "      <td>2.450000</td>\n",
              "      <td>CC(C)c(cc1)cc(c1[C@@]23C)CC[C@@H]2[C@](C)(CN)CCC3</td>\n",
              "      <td>21</td>\n",
              "      <td>2</td>\n",
              "      <td>1</td>\n",
              "      <td>1</td>\n",
              "      <td>1</td>\n",
              "      <td>1</td>\n",
              "      <td>2</td>\n",
              "      <td>116</td>\n",
              "      <td>...</td>\n",
              "      <td>2</td>\n",
              "      <td>1</td>\n",
              "      <td>0</td>\n",
              "      <td>0</td>\n",
              "      <td>0</td>\n",
              "      <td>0</td>\n",
              "      <td>3</td>\n",
              "      <td>1</td>\n",
              "      <td>0</td>\n",
              "      <td>1</td>\n",
              "    </tr>\n",
              "    <tr>\n",
              "      <th>34688</th>\n",
              "      <td>0.740500</td>\n",
              "      <td>OCCNCCNc1ccc(NCCNCCO)c(c12)C(=O)c3c(C2=O)c(O)c...</td>\n",
              "      <td>32</td>\n",
              "      <td>8</td>\n",
              "      <td>10</td>\n",
              "      <td>10</td>\n",
              "      <td>8</td>\n",
              "      <td>10</td>\n",
              "      <td>12</td>\n",
              "      <td>172</td>\n",
              "      <td>...</td>\n",
              "      <td>2</td>\n",
              "      <td>0</td>\n",
              "      <td>0</td>\n",
              "      <td>0</td>\n",
              "      <td>0</td>\n",
              "      <td>0</td>\n",
              "      <td>4</td>\n",
              "      <td>0</td>\n",
              "      <td>0</td>\n",
              "      <td>3</td>\n",
              "    </tr>\n",
              "    <tr>\n",
              "      <th>34689</th>\n",
              "      <td>0.003695</td>\n",
              "      <td>CCN(CC)C(=O)[C@@H](NC(=O)C)[C@H]([C@H](C1)N=C(...</td>\n",
              "      <td>24</td>\n",
              "      <td>6</td>\n",
              "      <td>9</td>\n",
              "      <td>4</td>\n",
              "      <td>4</td>\n",
              "      <td>9</td>\n",
              "      <td>7</td>\n",
              "      <td>136</td>\n",
              "      <td>...</td>\n",
              "      <td>0</td>\n",
              "      <td>4</td>\n",
              "      <td>0</td>\n",
              "      <td>0</td>\n",
              "      <td>0</td>\n",
              "      <td>0</td>\n",
              "      <td>2</td>\n",
              "      <td>0</td>\n",
              "      <td>1</td>\n",
              "      <td>1</td>\n",
              "    </tr>\n",
              "    <tr>\n",
              "      <th>34690</th>\n",
              "      <td>6.156000</td>\n",
              "      <td>Cc1ccc(cc1)S(=O)(=O)N[C@@H](c2ccccc2)C(=O)Oc(c...</td>\n",
              "      <td>36</td>\n",
              "      <td>1</td>\n",
              "      <td>7</td>\n",
              "      <td>6</td>\n",
              "      <td>1</td>\n",
              "      <td>11</td>\n",
              "      <td>6</td>\n",
              "      <td>186</td>\n",
              "      <td>...</td>\n",
              "      <td>2</td>\n",
              "      <td>1</td>\n",
              "      <td>1</td>\n",
              "      <td>2</td>\n",
              "      <td>0</td>\n",
              "      <td>3</td>\n",
              "      <td>0</td>\n",
              "      <td>0</td>\n",
              "      <td>0</td>\n",
              "      <td>0</td>\n",
              "    </tr>\n",
              "    <tr>\n",
              "      <th>34691</th>\n",
              "      <td>0.050014</td>\n",
              "      <td>CC(=O)N[C@H]([C@H](C1)N)[C@@H](C=C1C(=O)O)OC(C...</td>\n",
              "      <td>20</td>\n",
              "      <td>4</td>\n",
              "      <td>6</td>\n",
              "      <td>4</td>\n",
              "      <td>3</td>\n",
              "      <td>6</td>\n",
              "      <td>6</td>\n",
              "      <td>114</td>\n",
              "      <td>...</td>\n",
              "      <td>0</td>\n",
              "      <td>3</td>\n",
              "      <td>0</td>\n",
              "      <td>0</td>\n",
              "      <td>0</td>\n",
              "      <td>0</td>\n",
              "      <td>3</td>\n",
              "      <td>0</td>\n",
              "      <td>2</td>\n",
              "      <td>0</td>\n",
              "    </tr>\n",
              "  </tbody>\n",
              "</table>\n",
              "<p>34445 rows × 61 columns</p>\n",
              "</div>"
            ],
            "text/plain": [
              "           IC50                                             SMILES  \\\n",
              "0      0.000015  [H]\\N=C(N)\\N[C@@H](C1)[C@@H](NC(=O)C)[C@@H](C=...   \n",
              "1      0.000016  O=C(O)C1=C[C@H](N)[C@@H](NC(=O)C)[C@@H](C1)COC...   \n",
              "2      0.000033  C=CC(=O)N[C@H]([C@H](C1)N)[C@@H](C=C1C([O-])=O...   \n",
              "3      0.000032  CC(=O)N[C@H]([C@H](C1)N)[C@@H](C=C1C([O-])=O)O...   \n",
              "4      0.000041  O=C(O)c1c(O)c(=O)cc([nH]1)-c(c2C)ccc(c2)-c3noc...   \n",
              "...         ...                                                ...   \n",
              "34687  2.450000  CC(C)c(cc1)cc(c1[C@@]23C)CC[C@@H]2[C@](C)(CN)CCC3   \n",
              "34688  0.740500  OCCNCCNc1ccc(NCCNCCO)c(c12)C(=O)c3c(C2=O)c(O)c...   \n",
              "34689  0.003695  CCN(CC)C(=O)[C@@H](NC(=O)C)[C@H]([C@H](C1)N=C(...   \n",
              "34690  6.156000  Cc1ccc(cc1)S(=O)(=O)N[C@@H](c2ccccc2)C(=O)Oc(c...   \n",
              "34691  0.050014  CC(=O)N[C@H]([C@H](C1)N)[C@@H](C=C1C(=O)O)OC(C...   \n",
              "\n",
              "       HeavyAtomCount  NHOHCount  NOCount  NumHAcceptors  NumHDonors  \\\n",
              "0                  24          7        9              4           6   \n",
              "1                  21          4        6              4           3   \n",
              "2                  21          3        6              5           2   \n",
              "3                  20          3        6              5           2   \n",
              "4                  24          4        9              6           4   \n",
              "...               ...        ...      ...            ...         ...   \n",
              "34687              21          2        1              1           1   \n",
              "34688              32          8       10             10           8   \n",
              "34689              24          6        9              4           4   \n",
              "34690              36          1        7              6           1   \n",
              "34691              20          4        6              4           3   \n",
              "\n",
              "       NumHeteroatoms  NumRotatableBonds  NumValenceElectrons  ...  3_cnt  \\\n",
              "0                  10                  7                  138  ...      0   \n",
              "1                   6                  7                  120  ...      0   \n",
              "2                   6                  7                  118  ...      0   \n",
              "3                   6                  6                  114  ...      0   \n",
              "4                   9                  3                  122  ...      2   \n",
              "...               ...                ...                  ...  ...    ...   \n",
              "34687               1                  2                  116  ...      2   \n",
              "34688              10                 12                  172  ...      2   \n",
              "34689               9                  7                  136  ...      0   \n",
              "34690              11                  6                  186  ...      2   \n",
              "34691               6                  6                  114  ...      0   \n",
              "\n",
              "       H_cnt  S_cnt  4_cnt  L_cnt  F_cnt  CC_cnt  CCC_cnt  C1_cnt  CN_cnt  \n",
              "0          4      0      0      0      0       2        0       2       0  \n",
              "1          3      0      0      0      0       2        0       2       0  \n",
              "2          3      0      0      0      0       3        0       2       0  \n",
              "3          3      0      0      0      0       3        0       2       0  \n",
              "4          2      0      0      0      0       0        0       0       0  \n",
              "...      ...    ...    ...    ...    ...     ...      ...     ...     ...  \n",
              "34687      1      0      0      0      0       3        1       0       1  \n",
              "34688      0      0      0      0      0       4        0       0       3  \n",
              "34689      4      0      0      0      0       2        0       1       1  \n",
              "34690      1      1      2      0      3       0        0       0       0  \n",
              "34691      3      0      0      0      0       3        0       2       0  \n",
              "\n",
              "[34445 rows x 61 columns]"
            ]
          },
          "execution_count": 88,
          "metadata": {},
          "output_type": "execute_result"
        }
      ],
      "source": [
        "data_dsc = data_dsc[data_dsc['length'] < boxplot_length]\n",
        "data_dsc"
      ]
    },
    {
      "cell_type": "code",
      "execution_count": 23,
      "metadata": {},
      "outputs": [],
      "source": [
        "data_dsc = data_dsc.fillna(-1)"
      ]
    },
    {
      "cell_type": "markdown",
      "metadata": {},
      "source": [
        "-------"
      ]
    },
    {
      "cell_type": "markdown",
      "metadata": {},
      "source": [
        "# Здесь была попытка свести задачу к классификации"
      ]
    },
    {
      "cell_type": "code",
      "execution_count": 49,
      "metadata": {},
      "outputs": [],
      "source": [
        "quantiles = []\n",
        "for i in range(0, 101, 50):\n",
        "    quantiles += [data_dsc['IC50'].quantile(i / 100)]\n",
        "\n",
        "def get_class(x):\n",
        "    for i in range(len(quantiles)):\n",
        "        if x < quantiles[i]:\n",
        "            return i\n",
        "\n",
        "data_dsc['class'] = data_dsc['IC50'].apply(lambda x: get_class(x))"
      ]
    },
    {
      "cell_type": "code",
      "execution_count": 55,
      "metadata": {},
      "outputs": [
        {
          "data": {
            "text/plain": [
              "2"
            ]
          },
          "execution_count": 55,
          "metadata": {},
          "output_type": "execute_result"
        }
      ],
      "source": [
        "data_dsc['class'].nunique()"
      ]
    },
    {
      "cell_type": "code",
      "execution_count": 54,
      "metadata": {},
      "outputs": [
        {
          "data": {
            "text/plain": [
              "[9.97e-06, 3.498, 12.221]"
            ]
          },
          "execution_count": 54,
          "metadata": {},
          "output_type": "execute_result"
        }
      ],
      "source": [
        "quantiles"
      ]
    },
    {
      "cell_type": "code",
      "execution_count": 56,
      "metadata": {},
      "outputs": [
        {
          "data": {
            "text/plain": [
              "([<matplotlib.axis.XTick at 0x33e97ba00>,\n",
              "  <matplotlib.axis.XTick at 0x33e97b9d0>],\n",
              " [Text(0, 0, '0'), Text(1, 0, '1')])"
            ]
          },
          "execution_count": 56,
          "metadata": {},
          "output_type": "execute_result"
        },
        {
          "data": {
            "image/png": "[encoded data removed]",
            "text/plain": [
              "<Figure size 640x480 with 1 Axes>"
            ]
          },
          "metadata": {},
          "output_type": "display_data"
        }
      ],
      "source": [
        "import matplotlib.pyplot as plt\n",
        "\n",
        "data_dsc['class'].hist()\n",
        "plt.xticks([i for i in range(data_dsc['class'].nunique())])"
      ]
    },
    {
      "cell_type": "code",
      "execution_count": 57,
      "metadata": {},
      "outputs": [],
      "source": [
        "data_dsc['class'] = data_dsc['class'].fillna(max(data_dsc['class'])).astype('int') - 1"
      ]
    },
    {
      "cell_type": "code",
      "execution_count": 58,
      "metadata": {},
      "outputs": [
        {
          "data": {
            "text/plain": [
              "1    17001\n",
              "0    16985\n",
              "Name: class, dtype: int64"
            ]
          },
          "execution_count": 58,
          "metadata": {},
          "output_type": "execute_result"
        }
      ],
      "source": [
        "data_dsc['class'].value_counts()"
      ]
    },
    {
      "cell_type": "code",
      "execution_count": 56,
      "metadata": {},
      "outputs": [
        {
          "data": {
            "text/plain": [
              "(3183.6, 8.066081971422326)"
            ]
          },
          "execution_count": 56,
          "metadata": {},
          "output_type": "execute_result"
        }
      ],
      "source": [
        "data_dsc['IC50'].max(), data_dsc['IC50_log'].max()"
      ]
    },
    {
      "cell_type": "markdown",
      "metadata": {},
      "source": [
        "--------"
      ]
    },
    {
      "cell_type": "markdown",
      "metadata": {},
      "source": [
        "# MOLVEC"
      ]
    },
    {
      "cell_type": "markdown",
      "metadata": {},
      "source": [
        "### Использование библиотеки MOLVEC для получения эмбеддингов, признаков"
      ]
    },
    {
      "cell_type": "code",
      "execution_count": 66,
      "metadata": {},
      "outputs": [
        {
          "name": "stdout",
          "output_type": "stream",
          "text": [
            "Collecting git+https://github.com/EBjerrum/molvecgen\n",
            "  Cloning https://github.com/EBjerrum/molvecgen to /private/var/folders/zg/4scz2l1x7f13kl3dkr2812840000gn/T/pip-req-build-hoaex8l4\n",
            "  Running command git clone --filter=blob:none --quiet https://github.com/EBjerrum/molvecgen /private/var/folders/zg/4scz2l1x7f13kl3dkr2812840000gn/T/pip-req-build-hoaex8l4\n",
            "  Resolved https://github.com/EBjerrum/molvecgen to commit f81d5aade18bea60882f5845877f6283366bbe91\n",
            "  Preparing metadata (setup.py) ... \u001b[?25ldone\n",
            "\u001b[?25hRequirement already satisfied: numpy in /Library/Frameworks/Python.framework/Versions/3.11/lib/python3.11/site-packages (from molvecgen==0.1) (1.26.4)\n",
            "Building wheels for collected packages: molvecgen\n",
            "  Building wheel for molvecgen (setup.py) ... \u001b[?25ldone\n",
            "\u001b[?25h  Created wheel for molvecgen: filename=molvecgen-0.1-py3-none-any.whl size=11356 sha256=3abbf81f06ac9dfd6a91cfdee91cd99ed68ec77405a109750b3b31c5eb07a755\n",
            "  Stored in directory: /private/var/folders/zg/4scz2l1x7f13kl3dkr2812840000gn/T/pip-ephem-wheel-cache-a2wul0wx/wheels/6c/49/c9/6a7c7f7987b50646463dc0e0b06c8fb68f01f061fa313d3325\n",
            "Successfully built molvecgen\n",
            "Installing collected packages: molvecgen\n",
            "Successfully installed molvecgen-0.1\n"
          ]
        }
      ],
      "source": [
        "!pip3 install git+https://github.com/EBjerrum/molvecgen"
      ]
    },
    {
      "cell_type": "code",
      "execution_count": 89,
      "metadata": {},
      "outputs": [],
      "source": [
        "from molvecgen import SmilesVectorizer"
      ]
    },
    {
      "cell_type": "code",
      "execution_count": 90,
      "metadata": {},
      "outputs": [],
      "source": [
        "smiles = data_dsc['SMILES']\n",
        "mols = [Chem.MolFromSmiles(smile) for smile in smiles]"
      ]
    },
    {
      "cell_type": "code",
      "execution_count": 91,
      "metadata": {},
      "outputs": [
        {
          "data": {
            "image/png": "[encoded data removed]",
            "text/plain": [
              "<rdkit.Chem.rdchem.Mol at 0x2b200b8b0>"
            ]
          },
          "execution_count": 91,
          "metadata": {},
          "output_type": "execute_result"
        }
      ],
      "source": [
        "mols[0]"
      ]
    },
    {
      "cell_type": "markdown",
      "metadata": {},
      "source": [
        "/@e]i+23-[1OcFs=(.)#lZ\\NISC5nr7B8P9o64H^$?"
      ]
    },
    {
      "cell_type": "code",
      "execution_count": 92,
      "metadata": {},
      "outputs": [
        {
          "name": "stdout",
          "output_type": "stream",
          "text": [
            "Default Charset @C)(=cOn1S2/H[N]\\^$?\n",
            "Default Maximum allowed SMILES length 120\n",
            "\n",
            "After fitting\n",
            "Charset after fit a7H3)S@+.NO5F-s41#I]r\\Z2e[P6Biconl(/C=^$?\n",
            "Maximum allowed SMILES length 100\n"
          ]
        }
      ],
      "source": [
        "sm_en = SmilesVectorizer(canonical = True, augment = False)\n",
        "\n",
        "print(\"Default Charset %s\"%sm_en.charset)\n",
        "print(\"Default Maximum allowed SMILES length %s\"%sm_en.maxlength)\n",
        "\n",
        "sm_en.fit(mols, extra_chars = [\"\\\\\"])\n",
        "print()\n",
        "print(\"After fitting\")\n",
        "print(\"Charset after fit %s\"%sm_en.charset)\n",
        "print(\"Maximum allowed SMILES length %s\"%sm_en.maxlength)"
      ]
    },
    {
      "cell_type": "code",
      "execution_count": 93,
      "metadata": {},
      "outputs": [
        {
          "data": {
            "text/plain": [
              "<matplotlib.image.AxesImage at 0x563770510>"
            ]
          },
          "execution_count": 93,
          "metadata": {},
          "output_type": "execute_result"
        },
        {
          "data": {
            "image/png": "[encoded data removed]",
            "text/plain": [
              "<Figure size 1287.8x480 with 1 Axes>"
            ]
          },
          "metadata": {},
          "output_type": "display_data"
        }
      ],
      "source": [
        "mol_vects = sm_en.transform(mols)\n",
        "plt.matshow(mol_vects[1].T)"
      ]
    },
    {
      "cell_type": "code",
      "execution_count": 94,
      "metadata": {},
      "outputs": [
        {
          "data": {
            "text/plain": [
              "(34445, 110, 41)"
            ]
          },
          "execution_count": 94,
          "metadata": {},
          "output_type": "execute_result"
        }
      ],
      "source": [
        "mol_vects.shape"
      ]
    },
    {
      "cell_type": "code",
      "execution_count": 95,
      "metadata": {},
      "outputs": [
        {
          "data": {
            "text/plain": [
              "array(['[H]/N=C(\\\\N)N[C@H]1CC(P(=O)(O)O)=C[C@@H](OC(CC)CC)[C@@H]1NC(C)=O',\n",
              "       'CCC(CC)OC[C@@H]1CC(C(=O)O)=C[C@H](N)[C@H]1NC(C)=O'], dtype='<U63')"
            ]
          },
          "execution_count": 95,
          "metadata": {},
          "output_type": "execute_result"
        }
      ],
      "source": [
        "sm_en.reverse_transform(mol_vects[0:2])"
      ]
    },
    {
      "cell_type": "code",
      "execution_count": 96,
      "metadata": {},
      "outputs": [
        {
          "data": {
            "text/plain": [
              "(34445, 4510)"
            ]
          },
          "execution_count": 96,
          "metadata": {},
          "output_type": "execute_result"
        }
      ],
      "source": [
        "mol_vects_flat = np.array([arr.flatten() for arr in mol_vects])\n",
        "mol_vects_2d = np.vstack(mol_vects_flat)\n",
        "mol_vects_2d.shape"
      ]
    },
    {
      "cell_type": "code",
      "execution_count": 97,
      "metadata": {},
      "outputs": [],
      "source": [
        "cnt_1 = []\n",
        "cnt_ind = []\n",
        "for i in range(len(mol_vects_2d)):\n",
        "    cur_ind = 0\n",
        "    cur = []\n",
        "    s = (mol_vects_2d[i] == 1)\n",
        "    for j in range(len(s)):\n",
        "        if s[j]:\n",
        "            cur_ind += 1\n",
        "            cur += [j]\n",
        "    cnt_1 += [cur_ind]\n",
        "    cnt_ind += [cur + [-1] * (265 - len(cur))] "
      ]
    },
    {
      "cell_type": "code",
      "execution_count": 98,
      "metadata": {},
      "outputs": [],
      "source": [
        "data_dsc['cnt_True_molvec'] = cnt_1\n",
        "data_dsc['ind_True_molvec'] = cnt_ind\n",
        "data_dsc['emb_molvec'] = mol_vects_2d.tolist()"
      ]
    },
    {
      "cell_type": "code",
      "execution_count": 99,
      "metadata": {},
      "outputs": [
        {
          "data": {
            "text/html": [
              "<div>\n",
              "<style scoped>\n",
              "    .dataframe tbody tr th:only-of-type {\n",
              "        vertical-align: middle;\n",
              "    }\n",
              "\n",
              "    .dataframe tbody tr th {\n",
              "        vertical-align: top;\n",
              "    }\n",
              "\n",
              "    .dataframe thead th {\n",
              "        text-align: right;\n",
              "    }\n",
              "</style>\n",
              "<table border=\"1\" class=\"dataframe\">\n",
              "  <thead>\n",
              "    <tr style=\"text-align: right;\">\n",
              "      <th></th>\n",
              "      <th>length</th>\n",
              "      <th>cnt_True_molvec</th>\n",
              "      <th>ind_True_molvec</th>\n",
              "      <th>emb_molvec</th>\n",
              "    </tr>\n",
              "  </thead>\n",
              "  <tbody>\n",
              "    <tr>\n",
              "      <th>0</th>\n",
              "      <td>66</td>\n",
              "      <td>65</td>\n",
              "      <td>[1883, 1911, 1929, 1987, 2044, 2059, 2128, 216...</td>\n",
              "      <td>[0, 0, 0, 0, 0, 0, 0, 0, 0, 0, 0, 0, 0, 0, 0, ...</td>\n",
              "    </tr>\n",
              "    <tr>\n",
              "      <th>1</th>\n",
              "      <td>52</td>\n",
              "      <td>51</td>\n",
              "      <td>[2457, 2496, 2537, 2578, 2617, 2660, 2701, 271...</td>\n",
              "      <td>[0, 0, 0, 0, 0, 0, 0, 0, 0, 0, 0, 0, 0, 0, 0, ...</td>\n",
              "    </tr>\n",
              "    <tr>\n",
              "      <th>2</th>\n",
              "      <td>55</td>\n",
              "      <td>56</td>\n",
              "      <td>[2252, 2291, 2333, 2373, 2414, 2453, 2497, 251...</td>\n",
              "      <td>[0, 0, 0, 0, 0, 0, 0, 0, 0, 0, 0, 0, 0, 0, 0, ...</td>\n",
              "    </tr>\n",
              "    <tr>\n",
              "      <th>3</th>\n",
              "      <td>53</td>\n",
              "      <td>53</td>\n",
              "      <td>[2375, 2414, 2455, 2496, 2535, 2578, 2619, 262...</td>\n",
              "      <td>[0, 0, 0, 0, 0, 0, 0, 0, 0, 0, 0, 0, 0, 0, 0, ...</td>\n",
              "    </tr>\n",
              "    <tr>\n",
              "      <th>4</th>\n",
              "      <td>55</td>\n",
              "      <td>55</td>\n",
              "      <td>[2293, 2332, 2367, 2394, 2449, 2490, 2535, 255...</td>\n",
              "      <td>[0, 0, 0, 0, 0, 0, 0, 0, 0, 0, 0, 0, 0, 0, 0, ...</td>\n",
              "    </tr>\n",
              "    <tr>\n",
              "      <th>...</th>\n",
              "      <td>...</td>\n",
              "      <td>...</td>\n",
              "      <td>...</td>\n",
              "      <td>...</td>\n",
              "    </tr>\n",
              "    <tr>\n",
              "      <th>34687</th>\n",
              "      <td>49</td>\n",
              "      <td>49</td>\n",
              "      <td>[2539, 2578, 2619, 2658, 2701, 2710, 2777, 280...</td>\n",
              "      <td>[0, 0, 0, 0, 0, 0, 0, 0, 0, 0, 0, 0, 0, 0, 0, ...</td>\n",
              "    </tr>\n",
              "    <tr>\n",
              "      <th>34688</th>\n",
              "      <td>50</td>\n",
              "      <td>52</td>\n",
              "      <td>[2416, 2429, 2497, 2537, 2558, 2613, 2647, 269...</td>\n",
              "      <td>[0, 0, 0, 0, 0, 0, 0, 0, 0, 0, 0, 0, 0, 0, 0, ...</td>\n",
              "    </tr>\n",
              "    <tr>\n",
              "      <th>34689</th>\n",
              "      <td>63</td>\n",
              "      <td>65</td>\n",
              "      <td>[1883, 1922, 1963, 1977, 2043, 2086, 2127, 213...</td>\n",
              "      <td>[0, 0, 0, 0, 0, 0, 0, 0, 0, 0, 0, 0, 0, 0, 0, ...</td>\n",
              "    </tr>\n",
              "    <tr>\n",
              "      <th>34690</th>\n",
              "      <td>73</td>\n",
              "      <td>72</td>\n",
              "      <td>[1596, 1635, 1670, 1697, 1752, 1793, 1834, 187...</td>\n",
              "      <td>[0, 0, 0, 0, 0, 0, 0, 0, 0, 0, 0, 0, 0, 0, 0, ...</td>\n",
              "    </tr>\n",
              "    <tr>\n",
              "      <th>34691</th>\n",
              "      <td>50</td>\n",
              "      <td>50</td>\n",
              "      <td>[2498, 2537, 2578, 2619, 2658, 2701, 2742, 275...</td>\n",
              "      <td>[0, 0, 0, 0, 0, 0, 0, 0, 0, 0, 0, 0, 0, 0, 0, ...</td>\n",
              "    </tr>\n",
              "  </tbody>\n",
              "</table>\n",
              "<p>34445 rows × 4 columns</p>\n",
              "</div>"
            ],
            "text/plain": [
              "       length  cnt_True_molvec  \\\n",
              "0          66               65   \n",
              "1          52               51   \n",
              "2          55               56   \n",
              "3          53               53   \n",
              "4          55               55   \n",
              "...       ...              ...   \n",
              "34687      49               49   \n",
              "34688      50               52   \n",
              "34689      63               65   \n",
              "34690      73               72   \n",
              "34691      50               50   \n",
              "\n",
              "                                         ind_True_molvec  \\\n",
              "0      [1883, 1911, 1929, 1987, 2044, 2059, 2128, 216...   \n",
              "1      [2457, 2496, 2537, 2578, 2617, 2660, 2701, 271...   \n",
              "2      [2252, 2291, 2333, 2373, 2414, 2453, 2497, 251...   \n",
              "3      [2375, 2414, 2455, 2496, 2535, 2578, 2619, 262...   \n",
              "4      [2293, 2332, 2367, 2394, 2449, 2490, 2535, 255...   \n",
              "...                                                  ...   \n",
              "34687  [2539, 2578, 2619, 2658, 2701, 2710, 2777, 280...   \n",
              "34688  [2416, 2429, 2497, 2537, 2558, 2613, 2647, 269...   \n",
              "34689  [1883, 1922, 1963, 1977, 2043, 2086, 2127, 213...   \n",
              "34690  [1596, 1635, 1670, 1697, 1752, 1793, 1834, 187...   \n",
              "34691  [2498, 2537, 2578, 2619, 2658, 2701, 2742, 275...   \n",
              "\n",
              "                                              emb_molvec  \n",
              "0      [0, 0, 0, 0, 0, 0, 0, 0, 0, 0, 0, 0, 0, 0, 0, ...  \n",
              "1      [0, 0, 0, 0, 0, 0, 0, 0, 0, 0, 0, 0, 0, 0, 0, ...  \n",
              "2      [0, 0, 0, 0, 0, 0, 0, 0, 0, 0, 0, 0, 0, 0, 0, ...  \n",
              "3      [0, 0, 0, 0, 0, 0, 0, 0, 0, 0, 0, 0, 0, 0, 0, ...  \n",
              "4      [0, 0, 0, 0, 0, 0, 0, 0, 0, 0, 0, 0, 0, 0, 0, ...  \n",
              "...                                                  ...  \n",
              "34687  [0, 0, 0, 0, 0, 0, 0, 0, 0, 0, 0, 0, 0, 0, 0, ...  \n",
              "34688  [0, 0, 0, 0, 0, 0, 0, 0, 0, 0, 0, 0, 0, 0, 0, ...  \n",
              "34689  [0, 0, 0, 0, 0, 0, 0, 0, 0, 0, 0, 0, 0, 0, 0, ...  \n",
              "34690  [0, 0, 0, 0, 0, 0, 0, 0, 0, 0, 0, 0, 0, 0, 0, ...  \n",
              "34691  [0, 0, 0, 0, 0, 0, 0, 0, 0, 0, 0, 0, 0, 0, 0, ...  \n",
              "\n",
              "[34445 rows x 4 columns]"
            ]
          },
          "execution_count": 99,
          "metadata": {},
          "output_type": "execute_result"
        }
      ],
      "source": [
        "data_dsc[['length', 'cnt_True_molvec', 'ind_True_molvec', 'emb_molvec']]"
      ]
    },
    {
      "cell_type": "code",
      "execution_count": 100,
      "metadata": {},
      "outputs": [],
      "source": [
        "from molvecgen.vectorizers import MorganDictVectorizer\n",
        "\n",
        "mdv = MorganDictVectorizer()"
      ]
    },
    {
      "cell_type": "code",
      "execution_count": 102,
      "metadata": {},
      "outputs": [
        {
          "name": "stdout",
          "output_type": "stream",
          "text": [
            "[  31913717   68511885  199163361  246829648  411967733  649201019\n",
            "  659615979  847957139  847961216  849275503  864662311  864674487\n",
            "  864942730  984189120 1250928372 1506563592 1510328189 1592347846\n",
            " 1661986706 1693331843 1745120617 1767111310 1776049442 1824088295\n",
            " 1852431676 1882418820 1955332226 2192318254 2235918822 2245273601\n",
            " 2245384272 2246699815 2246728737 2250373459 2438720939 2446961558\n",
            " 2584514126 2591432844 2901389229 2968968094 2976033787 3032384925\n",
            " 3148713667 3217380708 3218693969 3259246484 3348579210 3542456614\n",
            " 3545365497 3767263318 3927890045 4277593716]\n"
          ]
        },
        {
          "data": {
            "text/plain": [
              "52"
            ]
          },
          "execution_count": 102,
          "metadata": {},
          "output_type": "execute_result"
        }
      ],
      "source": [
        "#Fit analyses the dataset and set the keys mapping\n",
        "mdv.fit(mols[0:1])\n",
        "print(mdv.keys)\n",
        "mdv.dims"
      ]
    },
    {
      "cell_type": "code",
      "execution_count": 103,
      "metadata": {},
      "outputs": [
        {
          "data": {
            "text/plain": [
              "(array([1., 1., 1., 1., 1., 1., 1., 1., 2., 1., 2., 1., 2., 1., 1., 2., 1.,\n",
              "        1., 1., 2., 1., 1., 1., 1., 1., 1., 1., 2., 1., 1., 2., 2., 3., 2.,\n",
              "        1., 1., 1., 1., 1., 1., 3., 1., 1., 1., 1., 1., 1., 2., 1., 1., 1.,\n",
              "        1.]),\n",
              " 0)"
            ]
          },
          "execution_count": 103,
          "metadata": {},
          "output_type": "execute_result"
        }
      ],
      "source": [
        "mdv.transform_mol(mols[0],misses=True)"
      ]
    },
    {
      "cell_type": "code",
      "execution_count": 104,
      "metadata": {},
      "outputs": [],
      "source": [
        "arr = mdv.transform(mols, misses = False)\n",
        "arr.shape"
      ]
    },
    {
      "cell_type": "code",
      "execution_count": 106,
      "metadata": {},
      "outputs": [],
      "source": [
        "data_dsc['mdv'] = arr.tolist()"
      ]
    },
    {
      "cell_type": "code",
      "execution_count": 108,
      "metadata": {},
      "outputs": [],
      "source": [
        "from molvecgen.vectorizers import HashedMorganVectorizer\n",
        "\n",
        "hmv = HashedMorganVectorizer(nBits=200)\n",
        "arr = hmv.transform(mols)\n",
        "arr.shape"
      ]
    },
    {
      "cell_type": "code",
      "execution_count": 110,
      "metadata": {},
      "outputs": [],
      "source": [
        "data_dsc['hmv'] = arr.tolist()"
      ]
    },
    {
      "cell_type": "code",
      "execution_count": 111,
      "metadata": {},
      "outputs": [
        {
          "data": {
            "text/plain": [
              "(34445, 100)"
            ]
          },
          "execution_count": 111,
          "metadata": {},
          "output_type": "execute_result"
        }
      ],
      "source": [
        "from molvecgen.vectorizers import HashedAPVectorizer\n",
        "hmv = HashedAPVectorizer(nBits=100, augment=True, minLength=4, maxLength=8)\n",
        "arr = hmv.transform(mols)\n",
        "arr.shape"
      ]
    },
    {
      "cell_type": "code",
      "execution_count": 112,
      "metadata": {},
      "outputs": [],
      "source": [
        "data_dsc['hmv2'] = arr.tolist()"
      ]
    },
    {
      "cell_type": "markdown",
      "metadata": {},
      "source": [
        "-------------"
      ]
    },
    {
      "cell_type": "markdown",
      "metadata": {},
      "source": [
        "# Model"
      ]
    },
    {
      "cell_type": "code",
      "execution_count": 113,
      "metadata": {},
      "outputs": [],
      "source": [
        "from sklearn.model_selection import train_test_split\n",
        "from catboost import CatBoostRegressor, CatBoostClassifier\n",
        "from sklearn.metrics import mean_squared_error as mse\n",
        "from sklearn.metrics import mean_absolute_error as mae\n",
        "from sklearn.metrics import f1_score, accuracy_score\n",
        "from sklearn.linear_model import LinearRegression, LogisticRegression\n",
        "from sklearn.metrics import classification_report\n",
        "from sklearn.metrics import r2_score\n",
        "import warnings\n",
        "warnings.filterwarnings('ignore')"
      ]
    },
    {
      "cell_type": "markdown",
      "metadata": {},
      "source": [
        "### Также попробуем предсказывать логарифм"
      ]
    },
    {
      "cell_type": "code",
      "execution_count": 114,
      "metadata": {},
      "outputs": [],
      "source": [
        "data_dsc['IC50_log'] = np.log1p(data_dsc['IC50']) "
      ]
    },
    {
      "cell_type": "code",
      "execution_count": 139,
      "metadata": {},
      "outputs": [
        {
          "data": {
            "text/plain": [
              "0.6254609872523929"
            ]
          },
          "execution_count": 139,
          "metadata": {},
          "output_type": "execute_result"
        }
      ],
      "source": [
        "data_dsc['IC50_log'].std()"
      ]
    },
    {
      "cell_type": "code",
      "execution_count": 144,
      "metadata": {},
      "outputs": [],
      "source": [
        "# 'emb_molvec', 'ind_True_molvec', 'hmv', 'hmv2', 'mdv', 'SMILES', 'class', 'Unnamed: 0\n",
        "# X_train, X_test, y_train, y_test = train_test_split(data_dsc.drop(['IC50', 'SMILES', 'ind_True_molvec', 'hmv', 'hmv2', 'mdv', 'emb_molvec'], axis = 1), data_dsc['IC50'], test_size = 0.2, random_state = 42, shuffle = True)\n",
        "X_train, X_test, y_train, y_test = train_test_split(data_dsc.drop(['IC50', 'SMILES', 'emb_molvec', 'ind_True_molvec', 'IC50_log'], axis = 1), data_dsc['IC50_log'], test_size = 0.2, random_state = 42, shuffle = True)\n",
        "X_val, X_test, y_val, y_test = train_test_split(X_test, y_test, test_size = 0.5, random_state = 42)"
      ]
    },
    {
      "cell_type": "code",
      "execution_count": 135,
      "metadata": {},
      "outputs": [
        {
          "name": "stdout",
          "output_type": "stream",
          "text": [
            "0:\tlearn: 0.0031679\ttest: 0.0030212\tbest: 0.0030212 (0)\ttotal: 9.32ms\tremaining: 37.3s\n",
            "100:\tlearn: 0.1621046\ttest: 0.1464617\tbest: 0.1464617 (100)\ttotal: 656ms\tremaining: 25.3s\n",
            "200:\tlearn: 0.2059971\ttest: 0.1755915\tbest: 0.1755915 (200)\ttotal: 1.3s\tremaining: 24.5s\n",
            "300:\tlearn: 0.2287753\ttest: 0.1840393\tbest: 0.1840393 (300)\ttotal: 1.94s\tremaining: 23.8s\n",
            "400:\tlearn: 0.2451460\ttest: 0.1876914\tbest: 0.1876914 (400)\ttotal: 2.57s\tremaining: 23s\n",
            "500:\tlearn: 0.2581235\ttest: 0.1897541\tbest: 0.1897551 (499)\ttotal: 3.19s\tremaining: 22.3s\n",
            "600:\tlearn: 0.2693475\ttest: 0.1911049\tbest: 0.1911084 (599)\ttotal: 3.82s\tremaining: 21.6s\n",
            "700:\tlearn: 0.2791980\ttest: 0.1922152\tbest: 0.1922533 (693)\ttotal: 4.44s\tremaining: 20.9s\n",
            "800:\tlearn: 0.2888845\ttest: 0.1928433\tbest: 0.1930115 (792)\ttotal: 5.05s\tremaining: 20.2s\n",
            "900:\tlearn: 0.2982083\ttest: 0.1937232\tbest: 0.1937496 (897)\ttotal: 5.67s\tremaining: 19.5s\n",
            "1000:\tlearn: 0.3076762\ttest: 0.1946896\tbest: 0.1946896 (1000)\ttotal: 6.29s\tremaining: 18.8s\n",
            "1100:\tlearn: 0.3157202\ttest: 0.1953227\tbest: 0.1953560 (1097)\ttotal: 6.9s\tremaining: 18.2s\n",
            "1200:\tlearn: 0.3235350\ttest: 0.1958374\tbest: 0.1958385 (1199)\ttotal: 7.51s\tremaining: 17.5s\n",
            "1300:\tlearn: 0.3325956\ttest: 0.1961879\tbest: 0.1961879 (1300)\ttotal: 8.12s\tremaining: 16.8s\n",
            "1400:\tlearn: 0.3421608\ttest: 0.1963745\tbest: 0.1964144 (1347)\ttotal: 8.72s\tremaining: 16.2s\n",
            "1500:\tlearn: 0.3532916\ttest: 0.1967829\tbest: 0.1968752 (1455)\ttotal: 9.35s\tremaining: 15.6s\n",
            "1600:\tlearn: 0.3636964\ttest: 0.1969946\tbest: 0.1971195 (1590)\ttotal: 9.97s\tremaining: 14.9s\n",
            "1700:\tlearn: 0.3738758\ttest: 0.1967334\tbest: 0.1971195 (1590)\ttotal: 10.6s\tremaining: 14.3s\n",
            "1800:\tlearn: 0.3843856\ttest: 0.1969777\tbest: 0.1971195 (1590)\ttotal: 11.2s\tremaining: 13.7s\n",
            "1900:\tlearn: 0.3937629\ttest: 0.1971850\tbest: 0.1972165 (1859)\ttotal: 11.8s\tremaining: 13.1s\n",
            "2000:\tlearn: 0.4036116\ttest: 0.1975182\tbest: 0.1975970 (1966)\ttotal: 12.5s\tremaining: 12.5s\n",
            "2100:\tlearn: 0.4123739\ttest: 0.1978424\tbest: 0.1978446 (2097)\ttotal: 13.1s\tremaining: 11.8s\n",
            "2200:\tlearn: 0.4210384\ttest: 0.1977771\tbest: 0.1978674 (2102)\ttotal: 13.7s\tremaining: 11.2s\n",
            "2300:\tlearn: 0.4299377\ttest: 0.1973599\tbest: 0.1978674 (2102)\ttotal: 14.4s\tremaining: 10.6s\n",
            "2400:\tlearn: 0.4390330\ttest: 0.1975511\tbest: 0.1978674 (2102)\ttotal: 15s\tremaining: 10s\n",
            "2500:\tlearn: 0.4482343\ttest: 0.1974559\tbest: 0.1978674 (2102)\ttotal: 15.7s\tremaining: 9.4s\n",
            "2600:\tlearn: 0.4575294\ttest: 0.1976197\tbest: 0.1978674 (2102)\ttotal: 16.4s\tremaining: 8.81s\n",
            "2700:\tlearn: 0.4662372\ttest: 0.1976447\tbest: 0.1978674 (2102)\ttotal: 17.1s\tremaining: 8.22s\n",
            "2800:\tlearn: 0.4750196\ttest: 0.1975177\tbest: 0.1978674 (2102)\ttotal: 17.8s\tremaining: 7.6s\n",
            "2900:\tlearn: 0.4836068\ttest: 0.1971123\tbest: 0.1978674 (2102)\ttotal: 18.4s\tremaining: 6.98s\n",
            "3000:\tlearn: 0.4916396\ttest: 0.1969049\tbest: 0.1978674 (2102)\ttotal: 19.1s\tremaining: 6.36s\n",
            "3100:\tlearn: 0.4998705\ttest: 0.1969170\tbest: 0.1978674 (2102)\ttotal: 19.8s\tremaining: 5.73s\n",
            "3200:\tlearn: 0.5081012\ttest: 0.1969823\tbest: 0.1978674 (2102)\ttotal: 20.4s\tremaining: 5.1s\n",
            "3300:\tlearn: 0.5158554\ttest: 0.1971505\tbest: 0.1978674 (2102)\ttotal: 21.1s\tremaining: 4.46s\n",
            "3400:\tlearn: 0.5235733\ttest: 0.1968979\tbest: 0.1978674 (2102)\ttotal: 21.7s\tremaining: 3.83s\n",
            "3500:\tlearn: 0.5307482\ttest: 0.1966978\tbest: 0.1978674 (2102)\ttotal: 22.4s\tremaining: 3.2s\n",
            "3600:\tlearn: 0.5380055\ttest: 0.1968686\tbest: 0.1978674 (2102)\ttotal: 23.1s\tremaining: 2.56s\n",
            "3700:\tlearn: 0.5453130\ttest: 0.1969980\tbest: 0.1978674 (2102)\ttotal: 23.7s\tremaining: 1.92s\n",
            "3800:\tlearn: 0.5522615\ttest: 0.1969013\tbest: 0.1978674 (2102)\ttotal: 24.4s\tremaining: 1.28s\n",
            "3900:\tlearn: 0.5589285\ttest: 0.1966343\tbest: 0.1978674 (2102)\ttotal: 25.1s\tremaining: 638ms\n",
            "3999:\tlearn: 0.5653623\ttest: 0.1961773\tbest: 0.1978674 (2102)\ttotal: 25.8s\tremaining: 0us\n",
            "\n",
            "bestTest = 0.1978674127\n",
            "bestIteration = 2102\n",
            "\n",
            "Shrink model to first 2103 iterations.\n",
            "MSE: 5.60655483281179\n",
            "MAE: 1.8489852101010347\n",
            "RMSE: 2.3678164694105392\n"
          ]
        }
      ],
      "source": [
        "model = CatBoostRegressor(iterations = 4000,\n",
        "                          verbose = 100,\n",
        "                          learning_rate = 0.01,\n",
        "                          max_depth = 9,\n",
        "                          loss_function = 'RMSE',\n",
        "                          eval_metric = 'R2')\n",
        "\n",
        "model.fit(X_train, y_train, eval_set = (X_val, y_val), embedding_features = ['hmv', 'hmv2', 'mdv'])\n",
        "# model.fit(X_train, y_train, eval_set = (X_val, y_val))\n",
        "preds_class = model.predict(X_test)\n",
        "print(f'MSE: {mse(y_test, preds_class)}')\n",
        "print(f'MAE: {mae(y_test, preds_class)}')\n",
        "print(f'RMSE: {mse(y_test, preds_class, squared = False)}')"
      ]
    },
    {
      "cell_type": "code",
      "execution_count": 140,
      "metadata": {},
      "outputs": [
        {
          "name": "stdout",
          "output_type": "stream",
          "text": [
            "MSE: 5.60655483281179\n",
            "MAE: 1.8489852101010347\n",
            "RMSE: 2.3678164694105392\n",
            "R2-score: 0.19962471971404427\n"
          ]
        }
      ],
      "source": [
        "print(f'MSE: {mse(y_test, preds_class)}')\n",
        "print(f'MAE: {mae(y_test, preds_class)}')\n",
        "print(f'RMSE: {mse(y_test, preds_class, squared = False)}')\n",
        "print(f'R2-score: {r2_score(y_test, preds_class)}')"
      ]
    },
    {
      "cell_type": "code",
      "execution_count": 141,
      "metadata": {},
      "outputs": [
        {
          "data": {
            "text/plain": [
              "<matplotlib.legend.Legend at 0x561e7ecd0>"
            ]
          },
          "execution_count": 141,
          "metadata": {},
          "output_type": "execute_result"
        },
        {
          "data": {
            "image/png": "[encoded data removed]",
            "text/plain": [
              "<Figure size 640x480 with 1 Axes>"
            ]
          },
          "metadata": {},
          "output_type": "display_data"
        }
      ],
      "source": [
        "plt.figure(3)\n",
        "t_true, t_pred = y_test, preds_class\n",
        "plt.scatter(t_true, t_pred, s=10)\n",
        "plt.plot([t_true.min(), t_true.max()], [t_true.min(), t_true.max()], color='red', label='R-squared Score = %0.2f' % r2_score(t_true, t_pred), linestyle='--')\n",
        "plt.xlabel('Actual')\n",
        "plt.ylabel('Predicted')\n",
        "plt.title('Scatter Plot')\n",
        "plt.legend(loc='lower right')"
      ]
    },
    {
      "cell_type": "markdown",
      "metadata": {},
      "source": [
        "### Продолжим идею, представленную в начале. Как выяснилось ранее, стандартное отклонение у таргета = 3. Посчитаем, какая доля от предиктов отличалась от реального таргета меньше, чем на 2 * std"
      ]
    },
    {
      "cell_type": "code",
      "execution_count": 143,
      "metadata": {},
      "outputs": [
        {
          "name": "stdout",
          "output_type": "stream",
          "text": [
            "0.7692307692307693\n"
          ]
        }
      ],
      "source": [
        "acc = 0\n",
        "for i in range(len(preds_class)):\n",
        "    if abs(preds_class[i] - y_test.values[i]) <= 3:\n",
        "        acc += 1\n",
        "print(acc / len(y_test))"
      ]
    },
    {
      "cell_type": "markdown",
      "metadata": {},
      "source": [
        "# Предсказания логарифма таргета"
      ]
    },
    {
      "cell_type": "code",
      "execution_count": 145,
      "metadata": {},
      "outputs": [
        {
          "name": "stdout",
          "output_type": "stream",
          "text": [
            "0:\tlearn: 0.0030275\ttest: 0.0029408\tbest: 0.0029408 (0)\ttotal: 8.96ms\tremaining: 35.8s\n",
            "100:\tlearn: 0.1599939\ttest: 0.1432370\tbest: 0.1432370 (100)\ttotal: 653ms\tremaining: 25.2s\n",
            "200:\tlearn: 0.2043624\ttest: 0.1738110\tbest: 0.1738110 (200)\ttotal: 1.31s\tremaining: 24.8s\n",
            "300:\tlearn: 0.2271011\ttest: 0.1828274\tbest: 0.1828274 (300)\ttotal: 1.97s\tremaining: 24.3s\n",
            "400:\tlearn: 0.2423010\ttest: 0.1861847\tbest: 0.1861847 (400)\ttotal: 2.64s\tremaining: 23.7s\n",
            "500:\tlearn: 0.2543228\ttest: 0.1884971\tbest: 0.1884971 (500)\ttotal: 3.3s\tremaining: 23.1s\n",
            "600:\tlearn: 0.2640882\ttest: 0.1900655\tbest: 0.1900871 (599)\ttotal: 3.94s\tremaining: 22.3s\n",
            "700:\tlearn: 0.2726076\ttest: 0.1911443\tbest: 0.1911464 (698)\ttotal: 4.6s\tremaining: 21.6s\n",
            "800:\tlearn: 0.2815605\ttest: 0.1921078\tbest: 0.1921285 (799)\ttotal: 5.27s\tremaining: 21.1s\n",
            "900:\tlearn: 0.2907093\ttest: 0.1933029\tbest: 0.1933083 (899)\ttotal: 5.91s\tremaining: 20.3s\n",
            "1000:\tlearn: 0.3000334\ttest: 0.1945344\tbest: 0.1945428 (999)\ttotal: 6.55s\tremaining: 19.6s\n",
            "1100:\tlearn: 0.3094929\ttest: 0.1954727\tbest: 0.1954894 (1096)\ttotal: 7.19s\tremaining: 18.9s\n",
            "1200:\tlearn: 0.3187510\ttest: 0.1964358\tbest: 0.1964358 (1200)\ttotal: 7.89s\tremaining: 18.4s\n",
            "1300:\tlearn: 0.3274333\ttest: 0.1970800\tbest: 0.1970800 (1300)\ttotal: 8.53s\tremaining: 17.7s\n",
            "1400:\tlearn: 0.3368606\ttest: 0.1973734\tbest: 0.1973734 (1400)\ttotal: 9.17s\tremaining: 17s\n",
            "1500:\tlearn: 0.3464701\ttest: 0.1978588\tbest: 0.1978633 (1499)\ttotal: 9.83s\tremaining: 16.4s\n",
            "1600:\tlearn: 0.3560385\ttest: 0.1986047\tbest: 0.1986066 (1599)\ttotal: 10.5s\tremaining: 15.7s\n",
            "1700:\tlearn: 0.3656185\ttest: 0.1989381\tbest: 0.1990256 (1695)\ttotal: 11.2s\tremaining: 15.1s\n",
            "1800:\tlearn: 0.3758940\ttest: 0.1991405\tbest: 0.1992767 (1731)\ttotal: 11.9s\tremaining: 14.5s\n",
            "1900:\tlearn: 0.3847675\ttest: 0.1997254\tbest: 0.1997254 (1900)\ttotal: 12.5s\tremaining: 13.8s\n",
            "2000:\tlearn: 0.3943060\ttest: 0.2001284\tbest: 0.2001284 (2000)\ttotal: 13.2s\tremaining: 13.2s\n",
            "2100:\tlearn: 0.4034483\ttest: 0.2003531\tbest: 0.2003826 (2099)\ttotal: 13.8s\tremaining: 12.5s\n",
            "2200:\tlearn: 0.4122460\ttest: 0.2007579\tbest: 0.2008049 (2185)\ttotal: 14.5s\tremaining: 11.8s\n",
            "2300:\tlearn: 0.4214354\ttest: 0.2012842\tbest: 0.2012935 (2299)\ttotal: 15.1s\tremaining: 11.2s\n",
            "2400:\tlearn: 0.4300991\ttest: 0.2013972\tbest: 0.2014861 (2337)\ttotal: 15.8s\tremaining: 10.5s\n",
            "2500:\tlearn: 0.4382313\ttest: 0.2012808\tbest: 0.2014919 (2423)\ttotal: 16.4s\tremaining: 9.86s\n",
            "2600:\tlearn: 0.4467520\ttest: 0.2011538\tbest: 0.2014919 (2423)\ttotal: 17.1s\tremaining: 9.2s\n",
            "2700:\tlearn: 0.4551171\ttest: 0.2014069\tbest: 0.2014919 (2423)\ttotal: 17.8s\tremaining: 8.54s\n",
            "2800:\tlearn: 0.4631993\ttest: 0.2017229\tbest: 0.2017229 (2800)\ttotal: 18.4s\tremaining: 7.89s\n",
            "2900:\tlearn: 0.4710227\ttest: 0.2018141\tbest: 0.2019275 (2865)\ttotal: 19.1s\tremaining: 7.23s\n",
            "3000:\tlearn: 0.4789329\ttest: 0.2020349\tbest: 0.2020651 (2995)\ttotal: 19.7s\tremaining: 6.57s\n",
            "3100:\tlearn: 0.4870203\ttest: 0.2019857\tbest: 0.2020651 (2995)\ttotal: 20.4s\tremaining: 5.9s\n",
            "3200:\tlearn: 0.4946248\ttest: 0.2020893\tbest: 0.2020893 (3200)\ttotal: 21.1s\tremaining: 5.26s\n",
            "3300:\tlearn: 0.5016697\ttest: 0.2018496\tbest: 0.2021017 (3218)\ttotal: 21.8s\tremaining: 4.61s\n",
            "3400:\tlearn: 0.5094261\ttest: 0.2015652\tbest: 0.2021017 (3218)\ttotal: 22.5s\tremaining: 3.96s\n",
            "3500:\tlearn: 0.5162681\ttest: 0.2014263\tbest: 0.2021017 (3218)\ttotal: 23.1s\tremaining: 3.3s\n",
            "3600:\tlearn: 0.5232541\ttest: 0.2013176\tbest: 0.2021017 (3218)\ttotal: 23.8s\tremaining: 2.64s\n",
            "3700:\tlearn: 0.5302235\ttest: 0.2013394\tbest: 0.2021017 (3218)\ttotal: 24.5s\tremaining: 1.98s\n",
            "3800:\tlearn: 0.5367696\ttest: 0.2011608\tbest: 0.2021017 (3218)\ttotal: 25.2s\tremaining: 1.32s\n",
            "3900:\tlearn: 0.5433694\ttest: 0.2009424\tbest: 0.2021017 (3218)\ttotal: 25.9s\tremaining: 658ms\n",
            "3999:\tlearn: 0.5495941\ttest: 0.2008890\tbest: 0.2021017 (3218)\ttotal: 26.6s\tremaining: 0us\n",
            "\n",
            "bestTest = 0.2021017344\n",
            "bestIteration = 3218\n",
            "\n",
            "Shrink model to first 3219 iterations.\n",
            "MSE: 0.3045278878816163\n",
            "MAE: 0.4361453471420301\n",
            "RMSE: 0.5518404550969567\n"
          ]
        }
      ],
      "source": [
        "model = CatBoostRegressor(iterations = 4000,\n",
        "                          verbose = 100,\n",
        "                          learning_rate = 0.01,\n",
        "                          max_depth = 9,\n",
        "                          loss_function = 'RMSE',\n",
        "                          eval_metric = 'R2')\n",
        "\n",
        "model.fit(X_train, y_train, eval_set = (X_val, y_val), embedding_features = ['hmv', 'hmv2', 'mdv'])\n",
        "# model.fit(X_train, y_train, eval_set = (X_val, y_val))\n",
        "preds_class = model.predict(X_test)\n",
        "print(f'MSE: {mse(y_test, preds_class)}')\n",
        "print(f'MAE: {mae(y_test, preds_class)}')\n",
        "print(f'RMSE: {mse(y_test, preds_class, squared = False)}')"
      ]
    },
    {
      "cell_type": "code",
      "execution_count": 146,
      "metadata": {},
      "outputs": [
        {
          "name": "stdout",
          "output_type": "stream",
          "text": [
            "MSE: 0.3045278878816163\n",
            "MAE: 0.4361453471420301\n",
            "RMSE: 0.5518404550969567\n",
            "R2-score: 0.20355839035748768\n"
          ]
        }
      ],
      "source": [
        "print(f'MSE: {mse(y_test, preds_class)}')\n",
        "print(f'MAE: {mae(y_test, preds_class)}')\n",
        "print(f'RMSE: {mse(y_test, preds_class, squared = False)}')\n",
        "print(f'R2-score: {r2_score(y_test, preds_class)}')"
      ]
    },
    {
      "cell_type": "code",
      "execution_count": 147,
      "metadata": {},
      "outputs": [
        {
          "data": {
            "text/plain": [
              "<matplotlib.legend.Legend at 0x5507aecd0>"
            ]
          },
          "execution_count": 147,
          "metadata": {},
          "output_type": "execute_result"
        },
        {
          "data": {
            "image/png": "[encoded data removed]",
            "text/plain": [
              "<Figure size 640x480 with 1 Axes>"
            ]
          },
          "metadata": {},
          "output_type": "display_data"
        }
      ],
      "source": [
        "plt.figure(3)\n",
        "t_true, t_pred = y_test, preds_class\n",
        "plt.scatter(t_true, t_pred, s=10)\n",
        "plt.plot([t_true.min(), t_true.max()], [t_true.min(), t_true.max()], color='red', label='R-squared Score = %0.2f' % r2_score(t_true, t_pred), linestyle='--')\n",
        "plt.xlabel('Actual')\n",
        "plt.ylabel('Predicted')\n",
        "plt.title('Scatter Plot')\n",
        "plt.legend(loc='lower right')"
      ]
    },
    {
      "cell_type": "code",
      "execution_count": 149,
      "metadata": {},
      "outputs": [
        {
          "data": {
            "text/plain": [
              "0.6254609872523929"
            ]
          },
          "execution_count": 149,
          "metadata": {},
          "output_type": "execute_result"
        }
      ],
      "source": [
        "data_dsc['IC50_log'].std()"
      ]
    },
    {
      "cell_type": "code",
      "execution_count": 151,
      "metadata": {},
      "outputs": [
        {
          "name": "stdout",
          "output_type": "stream",
          "text": [
            "0.7152394775036285\n"
          ]
        }
      ],
      "source": [
        "acc = 0\n",
        "for i in range(len(preds_class)):\n",
        "    if abs(preds_class[i] - y_test.values[i]) <= data_dsc['IC50_log'].std():\n",
        "        acc += 1\n",
        "print(acc / len(y_test))"
      ]
    },
    {
      "cell_type": "markdown",
      "metadata": {},
      "source": [
        "### Какая доля отличается менее, чем на std"
      ]
    },
    {
      "cell_type": "code",
      "execution_count": 152,
      "metadata": {},
      "outputs": [
        {
          "name": "stdout",
          "output_type": "stream",
          "text": [
            "0.4548621190130624\n"
          ]
        }
      ],
      "source": [
        "acc = 0\n",
        "for i in range(len(preds_class)):\n",
        "    if abs(preds_class[i] - y_test.values[i]) <= data_dsc['IC50_log'].std() / 2:\n",
        "        acc += 1\n",
        "print(acc / len(y_test))"
      ]
    },
    {
      "cell_type": "markdown",
      "metadata": {},
      "source": [
        "### Важность признаков (когда в фичах есть эмбеддинги, не работает)"
      ]
    },
    {
      "cell_type": "code",
      "execution_count": 160,
      "metadata": {},
      "outputs": [
        {
          "data": {
            "image/png": "[encoded data removed]",
            "text/plain": [
              "<Figure size 700x700 with 1 Axes>"
            ]
          },
          "metadata": {},
          "output_type": "display_data"
        }
      ],
      "source": [
        "import numpy as np\n",
        "import seaborn as sns\n",
        "import matplotlib.pyplot as plt\n",
        "\n",
        "sns.set_color_codes(\"muted\")\n",
        "\n",
        "def plot_feature_importance(importance,names,model_type, top = 50):\n",
        "    \n",
        "    #Create arrays from feature importance and feature names\n",
        "    feature_importance = np.array(importance)\n",
        "    feature_names = np.array(names)\n",
        "    \n",
        "    #Create a DataFrame using a Dictionary\n",
        "    data={'feature_names':feature_names,'feature_importance':feature_importance}\n",
        "    fi_df = pd.DataFrame(data)\n",
        "    \n",
        "    #Sort the DataFrame in order decreasing feature importance\n",
        "    fi_df.sort_values(by=['feature_importance'], ascending=False,inplace=True)\n",
        "    \n",
        "    #Define size of bar plot\n",
        "    # plt.figure(figsize=(10,8))\n",
        "    #Plot Searborn bar chart\n",
        "    sns.barplot(x=fi_df['feature_importance'][:top], y=fi_df['feature_names'][:top], palette = \"husl\")\n",
        "    #Add chart labels\n",
        "    plt.title(model_type + 'FEATURE IMPORTANCE')\n",
        "    plt.xlabel('FEATURE IMPORTANCE')\n",
        "    plt.ylabel('FEATURE NAMES')\n",
        "    \n",
        "    return fi_df\n",
        "\n",
        "plt.figure(figsize=(7, 7))\n",
        "sns.set_context(rc={\"font.size\":7,\"axes.titlesize\":7,\"axes.labelsize\":7})\n",
        "fdf = plot_feature_importance(model.feature_importances_, X_train.columns, 'catboost_', 20)"
      ]
    },
    {
      "cell_type": "markdown",
      "metadata": {},
      "source": [
        "## Пробуем другую модель"
      ]
    },
    {
      "cell_type": "code",
      "execution_count": 170,
      "metadata": {},
      "outputs": [
        {
          "data": {
            "text/html": [
              "<style>#sk-container-id-1 {\n",
              "  /* Definition of color scheme common for light and dark mode */\n",
              "  --sklearn-color-text: black;\n",
              "  --sklearn-color-line: gray;\n",
              "  /* Definition of color scheme for unfitted estimators */\n",
              "  --sklearn-color-unfitted-level-0: #fff5e6;\n",
              "  --sklearn-color-unfitted-level-1: #f6e4d2;\n",
              "  --sklearn-color-unfitted-level-2: #ffe0b3;\n",
              "  --sklearn-color-unfitted-level-3: chocolate;\n",
              "  /* Definition of color scheme for fitted estimators */\n",
              "  --sklearn-color-fitted-level-0: #f0f8ff;\n",
              "  --sklearn-color-fitted-level-1: #d4ebff;\n",
              "  --sklearn-color-fitted-level-2: #b3dbfd;\n",
              "  --sklearn-color-fitted-level-3: cornflowerblue;\n",
              "\n",
              "  /* Specific color for light theme */\n",
              "  --sklearn-color-text-on-default-background: var(--sg-text-color, var(--theme-code-foreground, var(--jp-content-font-color1, black)));\n",
              "  --sklearn-color-background: var(--sg-background-color, var(--theme-background, var(--jp-layout-color0, white)));\n",
              "  --sklearn-color-border-box: var(--sg-text-color, var(--theme-code-foreground, var(--jp-content-font-color1, black)));\n",
              "  --sklearn-color-icon: #696969;\n",
              "\n",
              "  @media (prefers-color-scheme: dark) {\n",
              "    /* Redefinition of color scheme for dark theme */\n",
              "    --sklearn-color-text-on-default-background: var(--sg-text-color, var(--theme-code-foreground, var(--jp-content-font-color1, white)));\n",
              "    --sklearn-color-background: var(--sg-background-color, var(--theme-background, var(--jp-layout-color0, #111)));\n",
              "    --sklearn-color-border-box: var(--sg-text-color, var(--theme-code-foreground, var(--jp-content-font-color1, white)));\n",
              "    --sklearn-color-icon: #878787;\n",
              "  }\n",
              "}\n",
              "\n",
              "#sk-container-id-1 {\n",
              "  color: var(--sklearn-color-text);\n",
              "}\n",
              "\n",
              "#sk-container-id-1 pre {\n",
              "  padding: 0;\n",
              "}\n",
              "\n",
              "#sk-container-id-1 input.sk-hidden--visually {\n",
              "  border: 0;\n",
              "  clip: rect(1px 1px 1px 1px);\n",
              "  clip: rect(1px, 1px, 1px, 1px);\n",
              "  height: 1px;\n",
              "  margin: -1px;\n",
              "  overflow: hidden;\n",
              "  padding: 0;\n",
              "  position: absolute;\n",
              "  width: 1px;\n",
              "}\n",
              "\n",
              "#sk-container-id-1 div.sk-dashed-wrapped {\n",
              "  border: 1px dashed var(--sklearn-color-line);\n",
              "  margin: 0 0.4em 0.5em 0.4em;\n",
              "  box-sizing: border-box;\n",
              "  padding-bottom: 0.4em;\n",
              "  background-color: var(--sklearn-color-background);\n",
              "}\n",
              "\n",
              "#sk-container-id-1 div.sk-container {\n",
              "  /* jupyter's `normalize.less` sets `[hidden] { display: none; }`\n",
              "     but bootstrap.min.css set `[hidden] { display: none !important; }`\n",
              "     so we also need the `!important` here to be able to override the\n",
              "     default hidden behavior on the sphinx rendered scikit-learn.org.\n",
              "     See: https://github.com/scikit-learn/scikit-learn/issues/21755 */\n",
              "  display: inline-block !important;\n",
              "  position: relative;\n",
              "}\n",
              "\n",
              "#sk-container-id-1 div.sk-text-repr-fallback {\n",
              "  display: none;\n",
              "}\n",
              "\n",
              "div.sk-parallel-item,\n",
              "div.sk-serial,\n",
              "div.sk-item {\n",
              "  /* draw centered vertical line to link estimators */\n",
              "  background-image: linear-gradient(var(--sklearn-color-text-on-default-background), var(--sklearn-color-text-on-default-background));\n",
              "  background-size: 2px 100%;\n",
              "  background-repeat: no-repeat;\n",
              "  background-position: center center;\n",
              "}\n",
              "\n",
              "/* Parallel-specific style estimator block */\n",
              "\n",
              "#sk-container-id-1 div.sk-parallel-item::after {\n",
              "  content: \"\";\n",
              "  width: 100%;\n",
              "  border-bottom: 2px solid var(--sklearn-color-text-on-default-background);\n",
              "  flex-grow: 1;\n",
              "}\n",
              "\n",
              "#sk-container-id-1 div.sk-parallel {\n",
              "  display: flex;\n",
              "  align-items: stretch;\n",
              "  justify-content: center;\n",
              "  background-color: var(--sklearn-color-background);\n",
              "  position: relative;\n",
              "}\n",
              "\n",
              "#sk-container-id-1 div.sk-parallel-item {\n",
              "  display: flex;\n",
              "  flex-direction: column;\n",
              "}\n",
              "\n",
              "#sk-container-id-1 div.sk-parallel-item:first-child::after {\n",
              "  align-self: flex-end;\n",
              "  width: 50%;\n",
              "}\n",
              "\n",
              "#sk-container-id-1 div.sk-parallel-item:last-child::after {\n",
              "  align-self: flex-start;\n",
              "  width: 50%;\n",
              "}\n",
              "\n",
              "#sk-container-id-1 div.sk-parallel-item:only-child::after {\n",
              "  width: 0;\n",
              "}\n",
              "\n",
              "/* Serial-specific style estimator block */\n",
              "\n",
              "#sk-container-id-1 div.sk-serial {\n",
              "  display: flex;\n",
              "  flex-direction: column;\n",
              "  align-items: center;\n",
              "  background-color: var(--sklearn-color-background);\n",
              "  padding-right: 1em;\n",
              "  padding-left: 1em;\n",
              "}\n",
              "\n",
              "\n",
              "/* Toggleable style: style used for estimator/Pipeline/ColumnTransformer box that is\n",
              "clickable and can be expanded/collapsed.\n",
              "- Pipeline and ColumnTransformer use this feature and define the default style\n",
              "- Estimators will overwrite some part of the style using the `sk-estimator` class\n",
              "*/\n",
              "\n",
              "/* Pipeline and ColumnTransformer style (default) */\n",
              "\n",
              "#sk-container-id-1 div.sk-toggleable {\n",
              "  /* Default theme specific background. It is overwritten whether we have a\n",
              "  specific estimator or a Pipeline/ColumnTransformer */\n",
              "  background-color: var(--sklearn-color-background);\n",
              "}\n",
              "\n",
              "/* Toggleable label */\n",
              "#sk-container-id-1 label.sk-toggleable__label {\n",
              "  cursor: pointer;\n",
              "  display: block;\n",
              "  width: 100%;\n",
              "  margin-bottom: 0;\n",
              "  padding: 0.5em;\n",
              "  box-sizing: border-box;\n",
              "  text-align: center;\n",
              "}\n",
              "\n",
              "#sk-container-id-1 label.sk-toggleable__label-arrow:before {\n",
              "  /* Arrow on the left of the label */\n",
              "  content: \"▸\";\n",
              "  float: left;\n",
              "  margin-right: 0.25em;\n",
              "  color: var(--sklearn-color-icon);\n",
              "}\n",
              "\n",
              "#sk-container-id-1 label.sk-toggleable__label-arrow:hover:before {\n",
              "  color: var(--sklearn-color-text);\n",
              "}\n",
              "\n",
              "/* Toggleable content - dropdown */\n",
              "\n",
              "#sk-container-id-1 div.sk-toggleable__content {\n",
              "  max-height: 0;\n",
              "  max-width: 0;\n",
              "  overflow: hidden;\n",
              "  text-align: left;\n",
              "  /* unfitted */\n",
              "  background-color: var(--sklearn-color-unfitted-level-0);\n",
              "}\n",
              "\n",
              "#sk-container-id-1 div.sk-toggleable__content.fitted {\n",
              "  /* fitted */\n",
              "  background-color: var(--sklearn-color-fitted-level-0);\n",
              "}\n",
              "\n",
              "#sk-container-id-1 div.sk-toggleable__content pre {\n",
              "  margin: 0.2em;\n",
              "  border-radius: 0.25em;\n",
              "  color: var(--sklearn-color-text);\n",
              "  /* unfitted */\n",
              "  background-color: var(--sklearn-color-unfitted-level-0);\n",
              "}\n",
              "\n",
              "#sk-container-id-1 div.sk-toggleable__content.fitted pre {\n",
              "  /* unfitted */\n",
              "  background-color: var(--sklearn-color-fitted-level-0);\n",
              "}\n",
              "\n",
              "#sk-container-id-1 input.sk-toggleable__control:checked~div.sk-toggleable__content {\n",
              "  /* Expand drop-down */\n",
              "  max-height: 200px;\n",
              "  max-width: 100%;\n",
              "  overflow: auto;\n",
              "}\n",
              "\n",
              "#sk-container-id-1 input.sk-toggleable__control:checked~label.sk-toggleable__label-arrow:before {\n",
              "  content: \"▾\";\n",
              "}\n",
              "\n",
              "/* Pipeline/ColumnTransformer-specific style */\n",
              "\n",
              "#sk-container-id-1 div.sk-label input.sk-toggleable__control:checked~label.sk-toggleable__label {\n",
              "  color: var(--sklearn-color-text);\n",
              "  background-color: var(--sklearn-color-unfitted-level-2);\n",
              "}\n",
              "\n",
              "#sk-container-id-1 div.sk-label.fitted input.sk-toggleable__control:checked~label.sk-toggleable__label {\n",
              "  background-color: var(--sklearn-color-fitted-level-2);\n",
              "}\n",
              "\n",
              "/* Estimator-specific style */\n",
              "\n",
              "/* Colorize estimator box */\n",
              "#sk-container-id-1 div.sk-estimator input.sk-toggleable__control:checked~label.sk-toggleable__label {\n",
              "  /* unfitted */\n",
              "  background-color: var(--sklearn-color-unfitted-level-2);\n",
              "}\n",
              "\n",
              "#sk-container-id-1 div.sk-estimator.fitted input.sk-toggleable__control:checked~label.sk-toggleable__label {\n",
              "  /* fitted */\n",
              "  background-color: var(--sklearn-color-fitted-level-2);\n",
              "}\n",
              "\n",
              "#sk-container-id-1 div.sk-label label.sk-toggleable__label,\n",
              "#sk-container-id-1 div.sk-label label {\n",
              "  /* The background is the default theme color */\n",
              "  color: var(--sklearn-color-text-on-default-background);\n",
              "}\n",
              "\n",
              "/* On hover, darken the color of the background */\n",
              "#sk-container-id-1 div.sk-label:hover label.sk-toggleable__label {\n",
              "  color: var(--sklearn-color-text);\n",
              "  background-color: var(--sklearn-color-unfitted-level-2);\n",
              "}\n",
              "\n",
              "/* Label box, darken color on hover, fitted */\n",
              "#sk-container-id-1 div.sk-label.fitted:hover label.sk-toggleable__label.fitted {\n",
              "  color: var(--sklearn-color-text);\n",
              "  background-color: var(--sklearn-color-fitted-level-2);\n",
              "}\n",
              "\n",
              "/* Estimator label */\n",
              "\n",
              "#sk-container-id-1 div.sk-label label {\n",
              "  font-family: monospace;\n",
              "  font-weight: bold;\n",
              "  display: inline-block;\n",
              "  line-height: 1.2em;\n",
              "}\n",
              "\n",
              "#sk-container-id-1 div.sk-label-container {\n",
              "  text-align: center;\n",
              "}\n",
              "\n",
              "/* Estimator-specific */\n",
              "#sk-container-id-1 div.sk-estimator {\n",
              "  font-family: monospace;\n",
              "  border: 1px dotted var(--sklearn-color-border-box);\n",
              "  border-radius: 0.25em;\n",
              "  box-sizing: border-box;\n",
              "  margin-bottom: 0.5em;\n",
              "  /* unfitted */\n",
              "  background-color: var(--sklearn-color-unfitted-level-0);\n",
              "}\n",
              "\n",
              "#sk-container-id-1 div.sk-estimator.fitted {\n",
              "  /* fitted */\n",
              "  background-color: var(--sklearn-color-fitted-level-0);\n",
              "}\n",
              "\n",
              "/* on hover */\n",
              "#sk-container-id-1 div.sk-estimator:hover {\n",
              "  /* unfitted */\n",
              "  background-color: var(--sklearn-color-unfitted-level-2);\n",
              "}\n",
              "\n",
              "#sk-container-id-1 div.sk-estimator.fitted:hover {\n",
              "  /* fitted */\n",
              "  background-color: var(--sklearn-color-fitted-level-2);\n",
              "}\n",
              "\n",
              "/* Specification for estimator info (e.g. \"i\" and \"?\") */\n",
              "\n",
              "/* Common style for \"i\" and \"?\" */\n",
              "\n",
              ".sk-estimator-doc-link,\n",
              "a:link.sk-estimator-doc-link,\n",
              "a:visited.sk-estimator-doc-link {\n",
              "  float: right;\n",
              "  font-size: smaller;\n",
              "  line-height: 1em;\n",
              "  font-family: monospace;\n",
              "  background-color: var(--sklearn-color-background);\n",
              "  border-radius: 1em;\n",
              "  height: 1em;\n",
              "  width: 1em;\n",
              "  text-decoration: none !important;\n",
              "  margin-left: 1ex;\n",
              "  /* unfitted */\n",
              "  border: var(--sklearn-color-unfitted-level-1) 1pt solid;\n",
              "  color: var(--sklearn-color-unfitted-level-1);\n",
              "}\n",
              "\n",
              ".sk-estimator-doc-link.fitted,\n",
              "a:link.sk-estimator-doc-link.fitted,\n",
              "a:visited.sk-estimator-doc-link.fitted {\n",
              "  /* fitted */\n",
              "  border: var(--sklearn-color-fitted-level-1) 1pt solid;\n",
              "  color: var(--sklearn-color-fitted-level-1);\n",
              "}\n",
              "\n",
              "/* On hover */\n",
              "div.sk-estimator:hover .sk-estimator-doc-link:hover,\n",
              ".sk-estimator-doc-link:hover,\n",
              "div.sk-label-container:hover .sk-estimator-doc-link:hover,\n",
              ".sk-estimator-doc-link:hover {\n",
              "  /* unfitted */\n",
              "  background-color: var(--sklearn-color-unfitted-level-3);\n",
              "  color: var(--sklearn-color-background);\n",
              "  text-decoration: none;\n",
              "}\n",
              "\n",
              "div.sk-estimator.fitted:hover .sk-estimator-doc-link.fitted:hover,\n",
              ".sk-estimator-doc-link.fitted:hover,\n",
              "div.sk-label-container:hover .sk-estimator-doc-link.fitted:hover,\n",
              ".sk-estimator-doc-link.fitted:hover {\n",
              "  /* fitted */\n",
              "  background-color: var(--sklearn-color-fitted-level-3);\n",
              "  color: var(--sklearn-color-background);\n",
              "  text-decoration: none;\n",
              "}\n",
              "\n",
              "/* Span, style for the box shown on hovering the info icon */\n",
              ".sk-estimator-doc-link span {\n",
              "  display: none;\n",
              "  z-index: 9999;\n",
              "  position: relative;\n",
              "  font-weight: normal;\n",
              "  right: .2ex;\n",
              "  padding: .5ex;\n",
              "  margin: .5ex;\n",
              "  width: min-content;\n",
              "  min-width: 20ex;\n",
              "  max-width: 50ex;\n",
              "  color: var(--sklearn-color-text);\n",
              "  box-shadow: 2pt 2pt 4pt #999;\n",
              "  /* unfitted */\n",
              "  background: var(--sklearn-color-unfitted-level-0);\n",
              "  border: .5pt solid var(--sklearn-color-unfitted-level-3);\n",
              "}\n",
              "\n",
              ".sk-estimator-doc-link.fitted span {\n",
              "  /* fitted */\n",
              "  background: var(--sklearn-color-fitted-level-0);\n",
              "  border: var(--sklearn-color-fitted-level-3);\n",
              "}\n",
              "\n",
              ".sk-estimator-doc-link:hover span {\n",
              "  display: block;\n",
              "}\n",
              "\n",
              "/* \"?\"-specific style due to the `<a>` HTML tag */\n",
              "\n",
              "#sk-container-id-1 a.estimator_doc_link {\n",
              "  float: right;\n",
              "  font-size: 1rem;\n",
              "  line-height: 1em;\n",
              "  font-family: monospace;\n",
              "  background-color: var(--sklearn-color-background);\n",
              "  border-radius: 1rem;\n",
              "  height: 1rem;\n",
              "  width: 1rem;\n",
              "  text-decoration: none;\n",
              "  /* unfitted */\n",
              "  color: var(--sklearn-color-unfitted-level-1);\n",
              "  border: var(--sklearn-color-unfitted-level-1) 1pt solid;\n",
              "}\n",
              "\n",
              "#sk-container-id-1 a.estimator_doc_link.fitted {\n",
              "  /* fitted */\n",
              "  border: var(--sklearn-color-fitted-level-1) 1pt solid;\n",
              "  color: var(--sklearn-color-fitted-level-1);\n",
              "}\n",
              "\n",
              "/* On hover */\n",
              "#sk-container-id-1 a.estimator_doc_link:hover {\n",
              "  /* unfitted */\n",
              "  background-color: var(--sklearn-color-unfitted-level-3);\n",
              "  color: var(--sklearn-color-background);\n",
              "  text-decoration: none;\n",
              "}\n",
              "\n",
              "#sk-container-id-1 a.estimator_doc_link.fitted:hover {\n",
              "  /* fitted */\n",
              "  background-color: var(--sklearn-color-fitted-level-3);\n",
              "}\n",
              "</style><div id=\"sk-container-id-1\" class=\"sk-top-container\"><div class=\"sk-text-repr-fallback\"><pre>XGBRegressor(base_score=None, booster=None, callbacks=None,\n",
              "             colsample_bylevel=None, colsample_bynode=None,\n",
              "             colsample_bytree=None, device=None, early_stopping_rounds=None,\n",
              "             enable_categorical=False, eval_metric=None, feature_types=None,\n",
              "             gamma=None, grow_policy=None, importance_type=None,\n",
              "             interaction_constraints=None, learning_rate=None, max_bin=None,\n",
              "             max_cat_threshold=None, max_cat_to_onehot=None,\n",
              "             max_delta_step=None, max_depth=None, max_leaves=None,\n",
              "             min_child_weight=None, missing=nan, monotone_constraints=None,\n",
              "             multi_strategy=None, n_estimators=None, n_jobs=None,\n",
              "             num_parallel_tree=None, random_state=None, ...)</pre><b>In a Jupyter environment, please rerun this cell to show the HTML representation or trust the notebook. <br />On GitHub, the HTML representation is unable to render, please try loading this page with nbviewer.org.</b></div><div class=\"sk-container\" hidden><div class=\"sk-item\"><div class=\"sk-estimator fitted sk-toggleable\"><input class=\"sk-toggleable__control sk-hidden--visually\" id=\"sk-estimator-id-1\" type=\"checkbox\" checked><label for=\"sk-estimator-id-1\" class=\"sk-toggleable__label fitted sk-toggleable__label-arrow fitted\">&nbsp;XGBRegressor<span class=\"sk-estimator-doc-link fitted\">i<span>Fitted</span></span></label><div class=\"sk-toggleable__content fitted\"><pre>XGBRegressor(base_score=None, booster=None, callbacks=None,\n",
              "             colsample_bylevel=None, colsample_bynode=None,\n",
              "             colsample_bytree=None, device=None, early_stopping_rounds=None,\n",
              "             enable_categorical=False, eval_metric=None, feature_types=None,\n",
              "             gamma=None, grow_policy=None, importance_type=None,\n",
              "             interaction_constraints=None, learning_rate=None, max_bin=None,\n",
              "             max_cat_threshold=None, max_cat_to_onehot=None,\n",
              "             max_delta_step=None, max_depth=None, max_leaves=None,\n",
              "             min_child_weight=None, missing=nan, monotone_constraints=None,\n",
              "             multi_strategy=None, n_estimators=None, n_jobs=None,\n",
              "             num_parallel_tree=None, random_state=None, ...)</pre></div> </div></div></div></div>"
            ],
            "text/plain": [
              "XGBRegressor(base_score=None, booster=None, callbacks=None,\n",
              "             colsample_bylevel=None, colsample_bynode=None,\n",
              "             colsample_bytree=None, device=None, early_stopping_rounds=None,\n",
              "             enable_categorical=False, eval_metric=None, feature_types=None,\n",
              "             gamma=None, grow_policy=None, importance_type=None,\n",
              "             interaction_constraints=None, learning_rate=None, max_bin=None,\n",
              "             max_cat_threshold=None, max_cat_to_onehot=None,\n",
              "             max_delta_step=None, max_depth=None, max_leaves=None,\n",
              "             min_child_weight=None, missing=nan, monotone_constraints=None,\n",
              "             multi_strategy=None, n_estimators=None, n_jobs=None,\n",
              "             num_parallel_tree=None, random_state=None, ...)"
            ]
          },
          "execution_count": 170,
          "metadata": {},
          "output_type": "execute_result"
        }
      ],
      "source": [
        "from xgboost import XGBRegressor\n",
        "\n",
        "model = XGBRegressor()\n",
        "model.fit(X_train, y_train)"
      ]
    },
    {
      "cell_type": "code",
      "execution_count": 197,
      "metadata": {},
      "outputs": [
        {
          "name": "stdout",
          "output_type": "stream",
          "text": [
            "MSE: 5.891777141837134\n",
            "MAE: 1.9071993609040003\n",
            "RMSE: 2.427298321557763\n",
            "R2-score: 0.15321157332283974\n"
          ]
        }
      ],
      "source": [
        "model = LinearRegression().fit(X_train, y_train)\n",
        "preds_class = model.predict(X_test)\n",
        "print(f'MSE: {mse(y_test, preds_class)}')\n",
        "print(f'MAE: {mae(y_test, preds_class)}')\n",
        "print(f'RMSE: {mse(y_test, preds_class, squared = False)}')\n",
        "print(f'R2-score: {r2_score(y_test, preds_class)}')"
      ]
    },
    {
      "cell_type": "code",
      "execution_count": 198,
      "metadata": {},
      "outputs": [
        {
          "data": {
            "text/plain": [
              "<matplotlib.legend.Legend at 0x36772ddf0>"
            ]
          },
          "execution_count": 198,
          "metadata": {},
          "output_type": "execute_result"
        },
        {
          "data": {
            "image/png": "[encoded data removed]",
            "text/plain": [
              "<Figure size 640x480 with 1 Axes>"
            ]
          },
          "metadata": {},
          "output_type": "display_data"
        }
      ],
      "source": [
        "plt.figure(3)\n",
        "t_true, t_pred = y_test, preds_class\n",
        "plt.scatter(t_true, t_pred, s=10)\n",
        "plt.plot([t_true.min(), t_true.max()], [t_true.min(), t_true.max()], color='red', label='R-squared Score = %0.2f' % r2_score(t_true, t_pred), linestyle='--')\n",
        "plt.xlabel('Actual')\n",
        "plt.ylabel('Predicted')\n",
        "plt.title('Scatter Plot')\n",
        "plt.legend(loc='lower right')"
      ]
    },
    {
      "cell_type": "markdown",
      "metadata": {},
      "source": [
        "## Модель классификации на два класса по медиане"
      ]
    },
    {
      "cell_type": "code",
      "execution_count": 59,
      "metadata": {},
      "outputs": [],
      "source": [
        "X_train, X_test, y_train, y_test = train_test_split(data_dsc.drop(['IC50', 'SMILES', 'class', 'emb_molvec', 'ind_True_molvec', 'hmv', 'hmv2', 'mdv'], axis = 1), data_dsc['class'], test_size = 0.2, random_state = 42)\n",
        "X_val, X_test, y_val, y_test = train_test_split(X_test, y_test, test_size = 0.5, random_state = 42)"
      ]
    },
    {
      "cell_type": "code",
      "execution_count": 62,
      "metadata": {},
      "outputs": [
        {
          "name": "stdout",
          "output_type": "stream",
          "text": [
            "0:\tlearn: 0.6944678\ttest: 0.7001357\tbest: 0.7001357 (0)\ttotal: 7.17ms\tremaining: 21.5s\n",
            "500:\tlearn: 0.7215329\ttest: 0.7112479\tbest: 0.7142462 (16)\ttotal: 2.35s\tremaining: 11.7s\n",
            "1000:\tlearn: 0.7502312\ttest: 0.7158899\tbest: 0.7175316 (830)\ttotal: 4.55s\tremaining: 9.09s\n",
            "1500:\tlearn: 0.7713142\ttest: 0.7136018\tbest: 0.7175316 (830)\ttotal: 6.84s\tremaining: 6.83s\n",
            "2000:\tlearn: 0.7919261\ttest: 0.7139627\tbest: 0.7175316 (830)\ttotal: 9.13s\tremaining: 4.56s\n",
            "2500:\tlearn: 0.8113506\ttest: 0.7100793\tbest: 0.7175316 (830)\ttotal: 11.3s\tremaining: 2.26s\n",
            "2999:\tlearn: 0.8297635\ttest: 0.7064846\tbest: 0.7175316 (830)\ttotal: 13.6s\tremaining: 0us\n",
            "\n",
            "bestTest = 0.7175315568\n",
            "bestIteration = 830\n",
            "\n",
            "Shrink model to first 831 iterations.\n"
          ]
        },
        {
          "ename": "NameError",
          "evalue": "name 'f1_score' is not defined",
          "output_type": "error",
          "traceback": [
            "\u001b[0;31m---------------------------------------------------------------------------\u001b[0m",
            "\u001b[0;31mNameError\u001b[0m                                 Traceback (most recent call last)",
            "Cell \u001b[0;32mIn[62], line 9\u001b[0m\n\u001b[1;32m      7\u001b[0m model\u001b[38;5;241m.\u001b[39mfit(X_train, y_train, eval_set \u001b[38;5;241m=\u001b[39m (X_val, y_val))\n\u001b[1;32m      8\u001b[0m preds_class \u001b[38;5;241m=\u001b[39m model\u001b[38;5;241m.\u001b[39mpredict(X_test)\n\u001b[0;32m----> 9\u001b[0m \u001b[38;5;28mprint\u001b[39m(\u001b[38;5;124m'\u001b[39m\u001b[38;5;124mF1: \u001b[39m\u001b[38;5;124m'\u001b[39m, \u001b[43mf1_score\u001b[49m(y_test, preds_class, average \u001b[38;5;241m=\u001b[39m \u001b[38;5;124m'\u001b[39m\u001b[38;5;124mmacro\u001b[39m\u001b[38;5;124m'\u001b[39m))\n\u001b[1;32m     10\u001b[0m \u001b[38;5;28mprint\u001b[39m(\u001b[38;5;124mf\u001b[39m\u001b[38;5;124m'\u001b[39m\u001b[38;5;124maccuracy: \u001b[39m\u001b[38;5;132;01m{\u001b[39;00maccuracy_score(y_test,\u001b[38;5;250m \u001b[39mpreds_class)\u001b[38;5;132;01m}\u001b[39;00m\u001b[38;5;124m'\u001b[39m)\n",
            "\u001b[0;31mNameError\u001b[0m: name 'f1_score' is not defined"
          ]
        }
      ],
      "source": [
        "model = CatBoostClassifier(iterations = 3000,\n",
        "                           verbose = 500,\n",
        "                        #    l2_leaf_reg = 1e-1,\n",
        "                           loss_function = 'CrossEntropy',\n",
        "                           eval_metric = 'F1')\n",
        "\n",
        "model.fit(X_train, y_train, eval_set = (X_val, y_val))\n",
        "preds_class = model.predict(X_test)\n",
        "print('F1: ', f1_score(y_test, preds_class, average = 'macro'))\n",
        "print(f'accuracy: {accuracy_score(y_test, preds_class)}')"
      ]
    },
    {
      "cell_type": "code",
      "execution_count": 64,
      "metadata": {},
      "outputs": [
        {
          "name": "stdout",
          "output_type": "stream",
          "text": [
            "F1:  0.693767867352773\n",
            "accuracy: 0.6940276551927037\n"
          ]
        }
      ],
      "source": [
        "preds_class = model.predict(X_test)\n",
        "print('F1: ', f1_score(y_test, preds_class, average = 'macro'))\n",
        "print(f'accuracy: {accuracy_score(y_test, preds_class)}')"
      ]
    },
    {
      "cell_type": "code",
      "execution_count": 70,
      "metadata": {},
      "outputs": [
        {
          "data": {
            "image/png": "[encoded data removed]",
            "text/plain": [
              "<Figure size 640x480 with 2 Axes>"
            ]
          },
          "metadata": {},
          "output_type": "display_data"
        }
      ],
      "source": [
        "from sklearn.metrics import confusion_matrix\n",
        "import seaborn as sns\n",
        "\n",
        "cm = confusion_matrix(y_test, preds_class)\n",
        "\n",
        "sns.heatmap(cm, \n",
        "            annot=True,\n",
        "            fmt='g', \n",
        "            xticklabels = ['0','1'],\n",
        "            yticklabels = ['0','1'])\n",
        "plt.xlabel('Prediction',fontsize=13)\n",
        "plt.ylabel('Actual',fontsize=13)\n",
        "plt.title('Confusion Matrix',fontsize=17)\n",
        "plt.show()"
      ]
    },
    {
      "cell_type": "code",
      "execution_count": 65,
      "metadata": {},
      "outputs": [
        {
          "name": "stdout",
          "output_type": "stream",
          "text": [
            "              precision    recall  f1-score   support\n",
            "\n",
            "           0       0.71      0.66      0.68      1718\n",
            "           1       0.68      0.73      0.70      1681\n",
            "\n",
            "    accuracy                           0.69      3399\n",
            "   macro avg       0.70      0.69      0.69      3399\n",
            "weighted avg       0.70      0.69      0.69      3399\n",
            "\n"
          ]
        }
      ],
      "source": [
        "print(classification_report(y_test, preds_class))"
      ]
    },
    {
      "cell_type": "markdown",
      "metadata": {},
      "source": [
        "## Classification report для 20 классов"
      ]
    },
    {
      "cell_type": "code",
      "execution_count": 64,
      "metadata": {},
      "outputs": [
        {
          "name": "stdout",
          "output_type": "stream",
          "text": [
            "              precision    recall  f1-score   support\n",
            "\n",
            "           0       0.16      0.26      0.19       166\n",
            "           1       0.11      0.08      0.09       178\n",
            "           2       0.05      0.05      0.05       188\n",
            "           3       0.25      0.01      0.01       181\n",
            "           4       0.08      0.01      0.01       193\n",
            "           5       0.05      0.01      0.02       176\n",
            "           6       0.10      0.06      0.07       164\n",
            "           7       0.10      0.23      0.14       178\n",
            "           8       0.08      0.14      0.10       187\n",
            "           9       0.05      0.04      0.04       170\n",
            "          10       0.07      0.06      0.06       190\n",
            "          11       0.11      0.03      0.04       197\n",
            "          12       0.06      0.03      0.04       188\n",
            "          13       0.18      0.01      0.02       173\n",
            "          14       0.00      0.00      0.00       184\n",
            "          15       0.03      0.01      0.02       171\n",
            "          16       0.06      0.01      0.02       178\n",
            "          17       0.08      0.13      0.10       183\n",
            "          18       0.11      0.58      0.18       191\n",
            "          19       0.21      0.34      0.26       188\n",
            "\n",
            "    accuracy                           0.10      3624\n",
            "   macro avg       0.10      0.10      0.07      3624\n",
            "weighted avg       0.10      0.10      0.07      3624\n",
            "\n"
          ]
        }
      ],
      "source": [
        "print(classification_report(y_test, preds_class))"
      ]
    },
    {
      "cell_type": "markdown",
      "metadata": {},
      "source": [
        "------"
      ]
    },
    {
      "cell_type": "markdown",
      "metadata": {},
      "source": [
        "# DeepIC50"
      ]
    },
    {
      "cell_type": "markdown",
      "metadata": {},
      "source": [
        "Мы нашли готовое решение для задачи регрессии IC50, написанное на Keras. Переписали на torch"
      ]
    },
    {
      "cell_type": "code",
      "execution_count": 371,
      "metadata": {},
      "outputs": [
        {
          "name": "stdout",
          "output_type": "stream",
          "text": [
            "Net(\n",
            "  (conv1): Conv1d(2082, 16, kernel_size=(11,), stride=(1,), padding=(5,))\n",
            "  (bn1): BatchNorm1d(16, eps=1e-05, momentum=0.1, affine=True, track_running_stats=True)\n",
            "  (conv2): Conv1d(16, 16, kernel_size=(11,), stride=(1,), padding=(5,))\n",
            "  (bn2): BatchNorm1d(16, eps=1e-05, momentum=0.1, affine=True, track_running_stats=True)\n",
            "  (conv3): Conv1d(16, 32, kernel_size=(11,), stride=(1,), padding=(5,))\n",
            "  (bn3): BatchNorm1d(32, eps=1e-05, momentum=0.1, affine=True, track_running_stats=True)\n",
            "  (conv4): Conv1d(32, 32, kernel_size=(11,), stride=(1,), padding=(5,))\n",
            "  (bn4): BatchNorm1d(32, eps=1e-05, momentum=0.1, affine=True, track_running_stats=True)\n",
            "  (conv5): Conv1d(32, 64, kernel_size=(11,), stride=(1,), padding=(5,))\n",
            "  (bn5): BatchNorm1d(64, eps=1e-05, momentum=0.1, affine=True, track_running_stats=True)\n",
            "  (conv6): Conv1d(64, 64, kernel_size=(11,), stride=(1,), padding=(5,))\n",
            "  (bn6): BatchNorm1d(64, eps=1e-05, momentum=0.1, affine=True, track_running_stats=True)\n",
            "  (fc1): Linear(in_features=64, out_features=1024, bias=True)\n",
            "  (bn7): BatchNorm1d(1024, eps=1e-05, momentum=0.1, affine=True, track_running_stats=True)\n",
            "  (fc2): Linear(in_features=1024, out_features=2048, bias=True)\n",
            "  (bn8): BatchNorm1d(2048, eps=1e-05, momentum=0.1, affine=True, track_running_stats=True)\n",
            "  (fc3): Linear(in_features=2048, out_features=4096, bias=True)\n",
            "  (bn9): BatchNorm1d(4096, eps=1e-05, momentum=0.1, affine=True, track_running_stats=True)\n",
            "  (fc4): Linear(in_features=4096, out_features=2048, bias=True)\n",
            "  (bn10): BatchNorm1d(2048, eps=1e-05, momentum=0.1, affine=True, track_running_stats=True)\n",
            "  (fc5): Linear(in_features=2048, out_features=1024, bias=True)\n",
            "  (bn11): BatchNorm1d(1024, eps=1e-05, momentum=0.1, affine=True, track_running_stats=True)\n",
            "  (fc6): Linear(in_features=1024, out_features=20, bias=True)\n",
            ")\n"
          ]
        }
      ],
      "source": [
        "import torch\n",
        "from torch import nn\n",
        "from torch.nn import functional as F\n",
        "\n",
        "class Net(nn.Module):\n",
        "    def __init__(self, num_classes):\n",
        "        super(Net, self).__init__()\n",
        "        self.conv1 = nn.Conv1d(2082, 16, kernel_size = 11, stride = 1, padding = 5)\n",
        "        self.bn1 = nn.BatchNorm1d(16)\n",
        "        self.conv2 = nn.Conv1d(16, 16, kernel_size = 11, stride = 1, padding = 5)\n",
        "        self.bn2 = nn.BatchNorm1d(16)\n",
        "        self.conv3 = nn.Conv1d(16, 32, kernel_size = 11, stride = 1, padding = 5)\n",
        "        self.bn3 = nn.BatchNorm1d(32)\n",
        "        self.conv4 = nn.Conv1d(32, 32, kernel_size = 11, stride = 1, padding = 5)\n",
        "        self.bn4 = nn.BatchNorm1d(32)\n",
        "        self.conv5 = nn.Conv1d(32, 64, kernel_size = 11, stride = 1, padding = 5)\n",
        "        self.bn5 = nn.BatchNorm1d(64)\n",
        "        self.conv6 = nn.Conv1d(64, 64, kernel_size = 11, stride = 1, padding = 5)\n",
        "        self.bn6 = nn.BatchNorm1d(64)\n",
        "        self.fc1 = nn.Linear(64, 1024)\n",
        "        self.bn7 = nn.BatchNorm1d(1024)\n",
        "        self.fc2 = nn.Linear(1024, 2048)\n",
        "        self.bn8 = nn.BatchNorm1d(2048)\n",
        "        self.fc3 = nn.Linear(2048, 4096)\n",
        "        self.bn9 = nn.BatchNorm1d(4096)\n",
        "        self.fc4 = nn.Linear(4096, 2048)\n",
        "        self.bn10 = nn.BatchNorm1d(2048)\n",
        "        self.fc5 = nn.Linear(2048, 1024)\n",
        "        self.bn11 = nn.BatchNorm1d(1024)\n",
        "        self.fc6 = nn.Linear(1024, num_classes)\n",
        "\n",
        "    def forward(self, x):\n",
        "        x = F.relu(self.bn1(self.conv1(x)))\n",
        "        x = F.max_pool1d(F.relu(self.bn2(self.conv2(x))), 1)\n",
        "        x = F.relu(self.bn3(self.conv3(x)))\n",
        "        x = F.max_pool1d(F.relu(self.bn4(self.conv4(x))), 1)\n",
        "        x = F.relu(self.bn5(self.conv5(x)))\n",
        "        x = F.max_pool1d(F.relu(self.bn6(self.conv6(x))), 1)\n",
        "        x = x.view(x.size(0), -1) # Flatten layer\n",
        "        x = F.dropout(F.relu(self.bn7(self.fc1(x))), p = 0.02)\n",
        "        x = F.dropout(F.relu(self.bn8(self.fc2(x))), p = 0.02)\n",
        "        x = F.dropout(F.relu(self.bn9(self.fc3(x))), p = 0.02)\n",
        "        x = F.dropout(F.relu(self.bn10(self.fc4(x))), p = 0.02)\n",
        "        x = F.dropout(F.relu(self.bn11(self.fc5(x))), p = 0.02)\n",
        "        x = F.softmax(self.fc6(x), dim=1)\n",
        "        return x\n",
        "\n",
        "# Создание экземпляра модели\n",
        "model = Net(num_classes = 20)\n",
        "\n",
        "optimizer = torch.optim.Adam(model.parameters())\n",
        "criterion = torch.nn.CrossEntropyLoss()\n",
        "\n",
        "# Вывод архитектуры модели\n",
        "print(model)"
      ]
    },
    {
      "cell_type": "code",
      "execution_count": 385,
      "metadata": {},
      "outputs": [],
      "source": [
        "from torch.utils.data import TensorDataset, DataLoader\n",
        "\n",
        "X_train, X_test, y_train, y_test = train_test_split(data_dsc.join(Y).drop(['IC50', 'SMILES', 'class'], axis = 1), data_dsc['class'], test_size = 0.2, random_state = 42)\n",
        "X_val, X_test, y_val, y_test = train_test_split(X_test, y_test, test_size = 0.5, random_state = 42)\n",
        "\n",
        "train_data = TensorDataset(torch.FloatTensor(X_train.values).unsqueeze(2), torch.FloatTensor(y_train.values))\n",
        "test_data = TensorDataset(torch.FloatTensor(X_val.values).unsqueeze(2), torch.FloatTensor(y_val.values))\n",
        "\n",
        "batch_size = 512\n",
        "\n",
        "train_loader = DataLoader(dataset = train_data, batch_size = batch_size, shuffle = True)\n",
        "test_loader = DataLoader(dataset = test_data, batch_size = batch_size, shuffle = True)"
      ]
    },
    {
      "cell_type": "code",
      "execution_count": 373,
      "metadata": {},
      "outputs": [],
      "source": [
        "accuracy_train = []\n",
        "accuracy_valid = []\n",
        "loss_train = []\n",
        "loss_valid = []\n",
        "\n",
        "import copy\n",
        "\n",
        "def train(n_epoch, optimizer, loss, train_loader, test_loader, ec = 25):\n",
        "  try:\n",
        "    best_loss = 283657652956245\n",
        "    epochs_without_evolution = 0\n",
        "\n",
        "    for epoch in range(n_epoch):\n",
        "      accuracy_tr, accuracy_val, loss_tr, loss_v = 0, 0, 0, 0\n",
        "      model.train()\n",
        "      for i, (data, labels) in enumerate(train_loader):\n",
        "\n",
        "        optimizer.zero_grad()\n",
        "\n",
        "        y_pred = model(data).squeeze(-1) * 0.9\n",
        "        cur_loss = loss(y_pred, labels.long())\n",
        "        loss_tr += cur_loss\n",
        "        cur_accuracy = f1(torch.argmax(y_pred, dim = 1), labels.long(), average='macro')\n",
        "        accuracy_tr += cur_accuracy\n",
        "\n",
        "        cur_loss.backward()\n",
        "        optimizer.step()\n",
        "\n",
        "      loss_train.append(loss_tr / len(train_loader))\n",
        "      accuracy_train.append(accuracy_tr / len(train_loader))\n",
        "\n",
        "      if loss_train[-1] < best_loss:\n",
        "        best_loss = loss_train[-1]\n",
        "        best_model = copy.deepcopy(model)\n",
        "        # epochs_without_evolution = 0\n",
        "      # else:\n",
        "      #   epochs_without_evolution += 1\n",
        "      # if epochs_without_evolution > ec:\n",
        "      #   print('Улучшения не наблюдались более 25 эпох, прекращаем обучение')\n",
        "      #   return\n",
        "\n",
        "      model.eval()\n",
        "      for i, (data, labels) in enumerate(test_loader):\n",
        "\n",
        "        with torch.no_grad():\n",
        "          y_pred = model(data).squeeze(-1) * 0.9\n",
        "\n",
        "        cur_loss = loss(y_pred, labels.long())\n",
        "        loss_v += cur_loss\n",
        "        cur_accuracy = f1(torch.argmax(y_pred, dim = 1), labels.long(), average='macro')\n",
        "        accuracy_val += cur_accuracy\n",
        "        # y_pred = y_pred.max(1)[1].detach().cpu().numpy()\n",
        "        # cur_accuracy = np.mean(labels.cpu().numpy() == y_pred)\n",
        "        # accuracy_val += cur_accuracy\n",
        "\n",
        "      loss_valid.append(loss_v / len(test_loader))\n",
        "      accuracy_valid.append(accuracy_val / len(test_loader))\n",
        "\n",
        "      print('Train. Epoch [{}/{}], Loss: {:.4f}, F1: {:.4f}'.format(epoch + 1, n_epoch, loss_train[-1], accuracy_train[-1]), 'Valid. Epoch [{}/{}], Loss: {:.4f}, F1: {:.4f}'.format(epoch + 1, n_epoch, loss_valid[-1], accuracy_valid[-1]))\n",
        "  except KeyboardInterrupt:\n",
        "    return best_model"
      ]
    },
    {
      "cell_type": "code",
      "execution_count": 374,
      "metadata": {},
      "outputs": [
        {
          "name": "stdout",
          "output_type": "stream",
          "text": [
            "Train. Epoch [1/1000], Loss: 2.9366, F1: 0.0808 Valid. Epoch [1/1000], Loss: 2.9418, F1: 0.0645\n",
            "Train. Epoch [2/1000], Loss: 2.9206, F1: 0.0908 Valid. Epoch [2/1000], Loss: 2.9293, F1: 0.0844\n",
            "Train. Epoch [3/1000], Loss: 2.9187, F1: 0.0921 Valid. Epoch [3/1000], Loss: 2.9274, F1: 0.0866\n",
            "Train. Epoch [4/1000], Loss: 2.9147, F1: 0.0955 Valid. Epoch [4/1000], Loss: 2.9528, F1: 0.0621\n",
            "Train. Epoch [5/1000], Loss: 2.9144, F1: 0.0962 Valid. Epoch [5/1000], Loss: 2.9257, F1: 0.0880\n",
            "Train. Epoch [6/1000], Loss: 2.9127, F1: 0.0993 Valid. Epoch [6/1000], Loss: 2.9334, F1: 0.0824\n",
            "Train. Epoch [7/1000], Loss: 2.9100, F1: 0.1027 Valid. Epoch [7/1000], Loss: 2.9501, F1: 0.0743\n",
            "Train. Epoch [8/1000], Loss: 2.9115, F1: 0.1015 Valid. Epoch [8/1000], Loss: 2.9243, F1: 0.0966\n",
            "Train. Epoch [9/1000], Loss: 2.9094, F1: 0.1061 Valid. Epoch [9/1000], Loss: 2.9749, F1: 0.0541\n",
            "Train. Epoch [10/1000], Loss: 2.9082, F1: 0.1062 Valid. Epoch [10/1000], Loss: 2.9145, F1: 0.1056\n",
            "Train. Epoch [11/1000], Loss: 2.9045, F1: 0.1102 Valid. Epoch [11/1000], Loss: 2.9169, F1: 0.0930\n",
            "Train. Epoch [12/1000], Loss: 2.9014, F1: 0.1122 Valid. Epoch [12/1000], Loss: 2.9350, F1: 0.0918\n",
            "Train. Epoch [13/1000], Loss: 2.9025, F1: 0.1146 Valid. Epoch [13/1000], Loss: 2.9410, F1: 0.0860\n",
            "Train. Epoch [14/1000], Loss: 2.9030, F1: 0.1153 Valid. Epoch [14/1000], Loss: 2.9286, F1: 0.0863\n",
            "Train. Epoch [15/1000], Loss: 2.8983, F1: 0.1179 Valid. Epoch [15/1000], Loss: 2.9870, F1: 0.0527\n",
            "Train. Epoch [16/1000], Loss: 2.8967, F1: 0.1226 Valid. Epoch [16/1000], Loss: 2.9470, F1: 0.0876\n",
            "Train. Epoch [17/1000], Loss: 2.8945, F1: 0.1220 Valid. Epoch [17/1000], Loss: 2.9445, F1: 0.0680\n"
          ]
        }
      ],
      "source": [
        "best_model_ = train(1000, optimizer, criterion, train_loader, test_loader)"
      ]
    },
    {
      "cell_type": "markdown",
      "metadata": {},
      "source": [
        "------"
      ]
    },
    {
      "cell_type": "markdown",
      "metadata": {},
      "source": [
        "# KAN"
      ]
    },
    {
      "cell_type": "markdown",
      "metadata": {},
      "source": [
        "И в задаче регрессии, и в задаче классификации, KAN показал себя хуже, чем обычная линейная модель. В случае регрессии предсказывает просто константу"
      ]
    },
    {
      "cell_type": "code",
      "execution_count": 116,
      "metadata": {},
      "outputs": [],
      "source": [
        "import kan\n",
        "from kan import KAN\n",
        "import torch\n",
        "from torch import nn\n",
        "from torch.nn import functional as F"
      ]
    },
    {
      "cell_type": "code",
      "execution_count": 125,
      "metadata": {},
      "outputs": [],
      "source": [
        "data_dsc = data_dsc.fillna(-1)"
      ]
    },
    {
      "cell_type": "code",
      "execution_count": 169,
      "metadata": {},
      "outputs": [
        {
          "name": "stderr",
          "output_type": "stream",
          "text": [
            "train loss: 4.67e+00 | test loss: nan | reg: nan :  10%|█▎           | 1/10 [00:21<03:09, 21.06s/it]\n"
          ]
        },
        {
          "ename": "RuntimeError",
          "evalue": "MPS backend out of memory (MPS allocated: 14.47 GB, other allocations: 958.38 MB, max allowed: 18.13 GB). Tried to allocate 2.75 GB on private pool. Use PYTORCH_MPS_HIGH_WATERMARK_RATIO=0.0 to disable upper limit for memory allocations (may cause system failure).",
          "output_type": "error",
          "traceback": [
            "\u001b[0;31m---------------------------------------------------------------------------\u001b[0m",
            "\u001b[0;31mRuntimeError\u001b[0m                              Traceback (most recent call last)",
            "Cell \u001b[0;32mIn[169], line 21\u001b[0m\n\u001b[1;32m     12\u001b[0m dataset[\u001b[38;5;124m'\u001b[39m\u001b[38;5;124mtest_label\u001b[39m\u001b[38;5;124m'\u001b[39m] \u001b[38;5;241m=\u001b[39m torch\u001b[38;5;241m.\u001b[39mFloatTensor(y_val\u001b[38;5;241m.\u001b[39mvalues)\u001b[38;5;241m.\u001b[39mto(device)\n\u001b[1;32m     14\u001b[0m \u001b[38;5;66;03m# def train_acc():\u001b[39;00m\n\u001b[1;32m     15\u001b[0m \u001b[38;5;66;03m#     return torch.mean((torch.argmax(model(dataset['train_input']), dim=1) == dataset['train_label']).float())\u001b[39;00m\n\u001b[1;32m     16\u001b[0m \n\u001b[0;32m   (...)\u001b[0m\n\u001b[1;32m     19\u001b[0m \n\u001b[1;32m     20\u001b[0m \u001b[38;5;66;03m# results = model.train(dataset, opt=\"LBFGS\", steps=20, metrics = (train_acc, test_acc), loss_fn = torch.nn.CrossEntropyLoss())\u001b[39;00m\n\u001b[0;32m---> 21\u001b[0m results \u001b[38;5;241m=\u001b[39m \u001b[43mmodel\u001b[49m\u001b[38;5;241;43m.\u001b[39;49m\u001b[43mtrain\u001b[49m\u001b[43m(\u001b[49m\u001b[43mdataset\u001b[49m\u001b[43m,\u001b[49m\u001b[43m \u001b[49m\u001b[43mopt\u001b[49m\u001b[43m \u001b[49m\u001b[38;5;241;43m=\u001b[39;49m\u001b[43m \u001b[49m\u001b[38;5;124;43m\"\u001b[39;49m\u001b[38;5;124;43mAdam\u001b[39;49m\u001b[38;5;124;43m\"\u001b[39;49m\u001b[43m,\u001b[49m\u001b[43m \u001b[49m\u001b[43msteps\u001b[49m\u001b[43m \u001b[49m\u001b[38;5;241;43m=\u001b[39;49m\u001b[43m \u001b[49m\u001b[38;5;241;43m10\u001b[39;49m\u001b[43m,\u001b[49m\u001b[43m \u001b[49m\u001b[43mloss_fn\u001b[49m\u001b[43m \u001b[49m\u001b[38;5;241;43m=\u001b[39;49m\u001b[43m \u001b[49m\u001b[43mtorch\u001b[49m\u001b[38;5;241;43m.\u001b[39;49m\u001b[43mnn\u001b[49m\u001b[38;5;241;43m.\u001b[39;49m\u001b[43mMSELoss\u001b[49m\u001b[43m(\u001b[49m\u001b[43m)\u001b[49m\u001b[43m,\u001b[49m\u001b[43m \u001b[49m\u001b[43mdevice\u001b[49m\u001b[43m \u001b[49m\u001b[38;5;241;43m=\u001b[39;49m\u001b[43m \u001b[49m\u001b[38;5;124;43m'\u001b[39;49m\u001b[38;5;124;43mmps\u001b[39;49m\u001b[38;5;124;43m'\u001b[39;49m\u001b[43m)\u001b[49m\n",
            "File \u001b[0;32m~/Library/Python/3.9/lib/python/site-packages/kan/KAN.py:909\u001b[0m, in \u001b[0;36mKAN.train\u001b[0;34m(self, dataset, opt, steps, log, lamb, lamb_l1, lamb_entropy, lamb_coef, lamb_coefdiff, update_grid, grid_update_num, loss_fn, lr, stop_grid_update_step, batch, small_mag_threshold, small_reg_factor, metrics, sglr_avoid, save_fig, in_vars, out_vars, beta, save_fig_freq, img_folder, device)\u001b[0m\n\u001b[1;32m    907\u001b[0m     train_loss \u001b[38;5;241m=\u001b[39m loss_fn(pred[id_], dataset[\u001b[38;5;124m'\u001b[39m\u001b[38;5;124mtrain_label\u001b[39m\u001b[38;5;124m'\u001b[39m][train_id][id_]\u001b[38;5;241m.\u001b[39mto(device))\n\u001b[1;32m    908\u001b[0m \u001b[38;5;28;01melse\u001b[39;00m:\n\u001b[0;32m--> 909\u001b[0m     train_loss \u001b[38;5;241m=\u001b[39m \u001b[43mloss_fn\u001b[49m\u001b[43m(\u001b[49m\u001b[43mpred\u001b[49m\u001b[43m,\u001b[49m\u001b[43m \u001b[49m\u001b[43mdataset\u001b[49m\u001b[43m[\u001b[49m\u001b[38;5;124;43m'\u001b[39;49m\u001b[38;5;124;43mtrain_label\u001b[39;49m\u001b[38;5;124;43m'\u001b[39;49m\u001b[43m]\u001b[49m\u001b[43m[\u001b[49m\u001b[43mtrain_id\u001b[49m\u001b[43m]\u001b[49m\u001b[38;5;241;43m.\u001b[39;49m\u001b[43mto\u001b[49m\u001b[43m(\u001b[49m\u001b[43mdevice\u001b[49m\u001b[43m)\u001b[49m\u001b[43m)\u001b[49m\n\u001b[1;32m    910\u001b[0m reg_ \u001b[38;5;241m=\u001b[39m reg(\u001b[38;5;28mself\u001b[39m\u001b[38;5;241m.\u001b[39macts_scale)\n\u001b[1;32m    911\u001b[0m loss \u001b[38;5;241m=\u001b[39m train_loss \u001b[38;5;241m+\u001b[39m lamb \u001b[38;5;241m*\u001b[39m reg_\n",
            "File \u001b[0;32m~/Library/Python/3.9/lib/python/site-packages/torch/nn/modules/module.py:1511\u001b[0m, in \u001b[0;36mModule._wrapped_call_impl\u001b[0;34m(self, *args, **kwargs)\u001b[0m\n\u001b[1;32m   1509\u001b[0m     \u001b[38;5;28;01mreturn\u001b[39;00m \u001b[38;5;28mself\u001b[39m\u001b[38;5;241m.\u001b[39m_compiled_call_impl(\u001b[38;5;241m*\u001b[39margs, \u001b[38;5;241m*\u001b[39m\u001b[38;5;241m*\u001b[39mkwargs)  \u001b[38;5;66;03m# type: ignore[misc]\u001b[39;00m\n\u001b[1;32m   1510\u001b[0m \u001b[38;5;28;01melse\u001b[39;00m:\n\u001b[0;32m-> 1511\u001b[0m     \u001b[38;5;28;01mreturn\u001b[39;00m \u001b[38;5;28;43mself\u001b[39;49m\u001b[38;5;241;43m.\u001b[39;49m\u001b[43m_call_impl\u001b[49m\u001b[43m(\u001b[49m\u001b[38;5;241;43m*\u001b[39;49m\u001b[43margs\u001b[49m\u001b[43m,\u001b[49m\u001b[43m \u001b[49m\u001b[38;5;241;43m*\u001b[39;49m\u001b[38;5;241;43m*\u001b[39;49m\u001b[43mkwargs\u001b[49m\u001b[43m)\u001b[49m\n",
            "File \u001b[0;32m~/Library/Python/3.9/lib/python/site-packages/torch/nn/modules/module.py:1520\u001b[0m, in \u001b[0;36mModule._call_impl\u001b[0;34m(self, *args, **kwargs)\u001b[0m\n\u001b[1;32m   1515\u001b[0m \u001b[38;5;66;03m# If we don't have any hooks, we want to skip the rest of the logic in\u001b[39;00m\n\u001b[1;32m   1516\u001b[0m \u001b[38;5;66;03m# this function, and just call forward.\u001b[39;00m\n\u001b[1;32m   1517\u001b[0m \u001b[38;5;28;01mif\u001b[39;00m \u001b[38;5;129;01mnot\u001b[39;00m (\u001b[38;5;28mself\u001b[39m\u001b[38;5;241m.\u001b[39m_backward_hooks \u001b[38;5;129;01mor\u001b[39;00m \u001b[38;5;28mself\u001b[39m\u001b[38;5;241m.\u001b[39m_backward_pre_hooks \u001b[38;5;129;01mor\u001b[39;00m \u001b[38;5;28mself\u001b[39m\u001b[38;5;241m.\u001b[39m_forward_hooks \u001b[38;5;129;01mor\u001b[39;00m \u001b[38;5;28mself\u001b[39m\u001b[38;5;241m.\u001b[39m_forward_pre_hooks\n\u001b[1;32m   1518\u001b[0m         \u001b[38;5;129;01mor\u001b[39;00m _global_backward_pre_hooks \u001b[38;5;129;01mor\u001b[39;00m _global_backward_hooks\n\u001b[1;32m   1519\u001b[0m         \u001b[38;5;129;01mor\u001b[39;00m _global_forward_hooks \u001b[38;5;129;01mor\u001b[39;00m _global_forward_pre_hooks):\n\u001b[0;32m-> 1520\u001b[0m     \u001b[38;5;28;01mreturn\u001b[39;00m \u001b[43mforward_call\u001b[49m\u001b[43m(\u001b[49m\u001b[38;5;241;43m*\u001b[39;49m\u001b[43margs\u001b[49m\u001b[43m,\u001b[49m\u001b[43m \u001b[49m\u001b[38;5;241;43m*\u001b[39;49m\u001b[38;5;241;43m*\u001b[39;49m\u001b[43mkwargs\u001b[49m\u001b[43m)\u001b[49m\n\u001b[1;32m   1522\u001b[0m \u001b[38;5;28;01mtry\u001b[39;00m:\n\u001b[1;32m   1523\u001b[0m     result \u001b[38;5;241m=\u001b[39m \u001b[38;5;28;01mNone\u001b[39;00m\n",
            "File \u001b[0;32m~/Library/Python/3.9/lib/python/site-packages/torch/nn/modules/loss.py:535\u001b[0m, in \u001b[0;36mMSELoss.forward\u001b[0;34m(self, input, target)\u001b[0m\n\u001b[1;32m    534\u001b[0m \u001b[38;5;28;01mdef\u001b[39;00m \u001b[38;5;21mforward\u001b[39m(\u001b[38;5;28mself\u001b[39m, \u001b[38;5;28minput\u001b[39m: Tensor, target: Tensor) \u001b[38;5;241m-\u001b[39m\u001b[38;5;241m>\u001b[39m Tensor:\n\u001b[0;32m--> 535\u001b[0m     \u001b[38;5;28;01mreturn\u001b[39;00m \u001b[43mF\u001b[49m\u001b[38;5;241;43m.\u001b[39;49m\u001b[43mmse_loss\u001b[49m\u001b[43m(\u001b[49m\u001b[38;5;28;43minput\u001b[39;49m\u001b[43m,\u001b[49m\u001b[43m \u001b[49m\u001b[43mtarget\u001b[49m\u001b[43m,\u001b[49m\u001b[43m \u001b[49m\u001b[43mreduction\u001b[49m\u001b[38;5;241;43m=\u001b[39;49m\u001b[38;5;28;43mself\u001b[39;49m\u001b[38;5;241;43m.\u001b[39;49m\u001b[43mreduction\u001b[49m\u001b[43m)\u001b[49m\n",
            "File \u001b[0;32m~/Library/Python/3.9/lib/python/site-packages/torch/nn/functional.py:3339\u001b[0m, in \u001b[0;36mmse_loss\u001b[0;34m(input, target, size_average, reduce, reduction)\u001b[0m\n\u001b[1;32m   3336\u001b[0m     reduction \u001b[38;5;241m=\u001b[39m _Reduction\u001b[38;5;241m.\u001b[39mlegacy_get_string(size_average, reduce)\n\u001b[1;32m   3338\u001b[0m expanded_input, expanded_target \u001b[38;5;241m=\u001b[39m torch\u001b[38;5;241m.\u001b[39mbroadcast_tensors(\u001b[38;5;28minput\u001b[39m, target)\n\u001b[0;32m-> 3339\u001b[0m \u001b[38;5;28;01mreturn\u001b[39;00m \u001b[43mtorch\u001b[49m\u001b[38;5;241;43m.\u001b[39;49m\u001b[43m_C\u001b[49m\u001b[38;5;241;43m.\u001b[39;49m\u001b[43m_nn\u001b[49m\u001b[38;5;241;43m.\u001b[39;49m\u001b[43mmse_loss\u001b[49m\u001b[43m(\u001b[49m\u001b[43mexpanded_input\u001b[49m\u001b[43m,\u001b[49m\u001b[43m \u001b[49m\u001b[43mexpanded_target\u001b[49m\u001b[43m,\u001b[49m\u001b[43m \u001b[49m\u001b[43m_Reduction\u001b[49m\u001b[38;5;241;43m.\u001b[39;49m\u001b[43mget_enum\u001b[49m\u001b[43m(\u001b[49m\u001b[43mreduction\u001b[49m\u001b[43m)\u001b[49m\u001b[43m)\u001b[49m\n",
            "\u001b[0;31mRuntimeError\u001b[0m: MPS backend out of memory (MPS allocated: 14.47 GB, other allocations: 958.38 MB, max allowed: 18.13 GB). Tried to allocate 2.75 GB on private pool. Use PYTORCH_MPS_HIGH_WATERMARK_RATIO=0.0 to disable upper limit for memory allocations (may cause system failure)."
          ]
        }
      ],
      "source": [
        "device = 'mps'\n",
        "model = KAN(width = [49, 10, 1], grid = 5, k = 5, seed = 0, device = device)\n",
        "# model = KAN(width = [34, 10], grid = 3, k = 3)\n",
        "\n",
        "X_train, X_test, y_train, y_test = train_test_split(data_dsc.drop(['IC50', 'SMILES'], axis = 1), data_dsc['IC50'], test_size = 0.2, random_state = 42)\n",
        "X_val, X_test, y_val, y_test = train_test_split(X_test, y_test, test_size = 0.5, random_state = 42)\n",
        "\n",
        "dataset = {}\n",
        "dataset['train_input'] = torch.FloatTensor(X_train.values).to(device)\n",
        "dataset['train_label'] = torch.FloatTensor(y_train.values).to(device)\n",
        "dataset['test_input'] = torch.FloatTensor(X_val.values).to(device)\n",
        "dataset['test_label'] = torch.FloatTensor(y_val.values).to(device)\n",
        "\n",
        "# def train_acc():\n",
        "#     return torch.mean((torch.argmax(model(dataset['train_input']), dim=1) == dataset['train_label']).float())\n",
        "\n",
        "# def test_acc():\n",
        "#     return torch.mean((torch.argmax(model(dataset['test_input']), dim=1) == dataset['test_label']).float())\n",
        "\n",
        "# results = model.train(dataset, opt=\"LBFGS\", steps=20, metrics = (train_acc, test_acc), loss_fn = torch.nn.CrossEntropyLoss())\n",
        "results = model.train(dataset, opt = \"Adam\", steps = 10, loss_fn = torch.nn.MSELoss(), device = 'mps')"
      ]
    },
    {
      "cell_type": "code",
      "execution_count": 152,
      "metadata": {},
      "outputs": [
        {
          "data": {
            "text/plain": [
              "(torch.Size([3399, 49]), torch.Size([3399, 49]))"
            ]
          },
          "execution_count": 152,
          "metadata": {},
          "output_type": "execute_result"
        }
      ],
      "source": [
        "torch.FloatTensor(X_val.values).shape, torch.FloatTensor(X_test.values).shape"
      ]
    },
    {
      "cell_type": "code",
      "execution_count": 79,
      "metadata": {},
      "outputs": [
        {
          "name": "stdout",
          "output_type": "stream",
          "text": [
            "              precision    recall  f1-score   support\n",
            "\n",
            "           0       0.21      0.22      0.21       344\n",
            "           1       0.11      0.10      0.11       369\n",
            "           2       0.08      0.07      0.07       369\n",
            "           3       0.19      0.33      0.24       342\n",
            "           4       0.18      0.20      0.19       357\n",
            "           5       0.17      0.11      0.13       387\n",
            "           6       0.14      0.10      0.11       361\n",
            "           7       0.08      0.09      0.09       355\n",
            "           8       0.20      0.18      0.19       361\n",
            "           9       0.26      0.30      0.28       379\n",
            "\n",
            "    accuracy                           0.17      3624\n",
            "   macro avg       0.16      0.17      0.16      3624\n",
            "weighted avg       0.16      0.17      0.16      3624\n",
            "\n"
          ]
        }
      ],
      "source": [
        "print(classification_report(torch.FloatTensor(y_test.values).long(), model(torch.FloatTensor(X_test.values)).argmax(dim = 1)))"
      ]
    },
    {
      "cell_type": "code",
      "execution_count": 80,
      "metadata": {},
      "outputs": [
        {
          "data": {
            "text/plain": [
              "(0.17609715705216672, 0.1672185430463576)"
            ]
          },
          "execution_count": 80,
          "metadata": {},
          "output_type": "execute_result"
        }
      ],
      "source": [
        "accuracy_score(model(torch.FloatTensor(X_val.values)).argmax(dim = 1), torch.FloatTensor(y_val.values).long()), accuracy_score(model(torch.FloatTensor(X_test.values)).argmax(dim = 1), torch.FloatTensor(y_test.values).long())"
      ]
    },
    {
      "cell_type": "code",
      "execution_count": 135,
      "metadata": {},
      "outputs": [
        {
          "data": {
            "text/plain": [
              "(22447.769582576762, 22167.512929406344)"
            ]
          },
          "execution_count": 135,
          "metadata": {},
          "output_type": "execute_result"
        }
      ],
      "source": [
        "mse(model(torch.FloatTensor(X_val.values)).detach().numpy(), torch.FloatTensor(y_val.values).long()), mse(model(torch.FloatTensor(X_test.values)).detach().numpy(), torch.FloatTensor(y_test.values).long())"
      ]
    },
    {
      "cell_type": "code",
      "execution_count": 168,
      "metadata": {},
      "outputs": [
        {
          "data": {
            "image/png": "[encoded data removed]",
            "text/plain": [
              "<Figure size 700x700 with 1 Axes>"
            ]
          },
          "metadata": {},
          "output_type": "display_data"
        }
      ],
      "source": [
        "plt.figure(figsize = (7, 7))\n",
        "pr = model(torch.FloatTensor(X_train.values).to(device)).detach().cpu().numpy()\n",
        "plt.scatter(y_train, pr, alpha = 0.5)\n",
        "plt.plot([0, y_train.max()], [0, pr.max()], color = \"red\")\n",
        "plt.xlabel(\"True IC50\")\n",
        "plt.ylabel(\"Predicted IC50\")\n",
        "plt.title(\"Test set\")\n",
        "plt.show()"
      ]
    },
    {
      "cell_type": "code",
      "execution_count": 108,
      "metadata": {},
      "outputs": [
        {
          "data": {
            "text/plain": [
              "(4.656586318053359, 4.901777707362826)"
            ]
          },
          "execution_count": 108,
          "metadata": {},
          "output_type": "execute_result"
        }
      ],
      "source": [
        "mae(np.exp(model(torch.FloatTensor(X_val.values)).detach().numpy()), np.exp(torch.FloatTensor(y_val.values).long())), mae(np.exp(model(torch.FloatTensor(X_test.values)).detach().numpy()), np.exp(torch.FloatTensor(y_test.values).long()))"
      ]
    }
  ],
  "metadata": {
    "colab": {
      "provenance": []
    },
    "kernelspec": {
      "display_name": "Python 3",
      "name": "python3"
    },
    "language_info": {
      "codemirror_mode": {
        "name": "ipython",
        "version": 3
      },
      "file_extension": ".py",
      "mimetype": "text/x-python",
      "name": "python",
      "nbconvert_exporter": "python",
      "pygments_lexer": "ipython3",
      "version": "3.11.8"
    }
  },
  "nbformat": 4,
  "nbformat_minor": 0
}
